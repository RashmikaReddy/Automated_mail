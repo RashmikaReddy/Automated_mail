{
 "cells": [
  {
   "cell_type": "code",
   "execution_count": 2,
   "metadata": {},
   "outputs": [
    {
     "name": "stdout",
     "output_type": "stream",
     "text": [
      "enter email address of sendervslathareddy@yahoo.com\n",
      "········\n",
      "enter email address of recieverrashmikareddy777@gmail.com\n",
      "enter wat you want to conveyhi hello\n",
      "succesfully sent:)\n"
     ]
    }
   ],
   "source": [
    "import smtplib\n",
    "import getpass\n",
    "smtpObj=smtplib.SMTP(\"smtp.mail.yahoo.com\",587)\n",
    "smtpObj.ehlo()\n",
    "smtpObj.starttls()\n",
    "sender=input(\"enter email address of sender\")\n",
    "password=getpass.getpass()\n",
    "smtpObj.login(sender,password)\n",
    "recieve=input(\"enter email address of reciever\")\n",
    "message=input(\"enter wat you want to convey\")\n",
    "try:\n",
    "    smtpObj.sendmail(sender,recieve,message)\n",
    "    print(\"succesfully sent:)\")\n",
    "except:\n",
    "    print(\"better luck next tym:)\")"
   ]
  },
  {
   "cell_type": "code",
   "execution_count": null,
   "metadata": {
    "collapsed": true
   },
   "outputs": [],
   "source": []
  }
 ],
 "metadata": {
  "kernelspec": {
   "display_name": "Python 3",
   "language": "python",
   "name": "python3"
  },
  "language_info": {
   "codemirror_mode": {
    "name": "ipython",
    "version": 3
   },
   "file_extension": ".py",
   "mimetype": "text/x-python",
   "name": "python",
   "nbconvert_exporter": "python",
   "pygments_lexer": "ipython3",
   "version": "3.6.1"
  }
 },
 "nbformat": 4,
 "nbformat_minor": 2
}
