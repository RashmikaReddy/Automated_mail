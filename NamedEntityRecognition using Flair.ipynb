{
  "nbformat": 4,
  "nbformat_minor": 0,
  "metadata": {
    "colab": {
      "provenance": [],
      "include_colab_link": true
    },
    "kernelspec": {
      "name": "python3",
      "display_name": "Python 3"
    },
    "language_info": {
      "name": "python"
    }
  },
  "cells": [
    {
      "cell_type": "markdown",
      "metadata": {
        "id": "view-in-github",
        "colab_type": "text"
      },
      "source": [
        "<a href=\"https://colab.research.google.com/github/RashmikaReddy/Automated_mail/blob/master/NamedEntityRecognition%20using%20Flair.ipynb\" target=\"_parent\"><img src=\"https://colab.research.google.com/assets/colab-badge.svg\" alt=\"Open In Colab\"/></a>"
      ]
    },
    {
      "cell_type": "code",
      "execution_count": null,
      "metadata": {
        "id": "BqCJou15uBHX"
      },
      "outputs": [],
      "source": [
        "import pandas as pd\n",
        "import numpy as np"
      ]
    },
    {
      "cell_type": "code",
      "source": [
        "from google.colab import drive\n",
        "drive.mount('/content/drive')"
      ],
      "metadata": {
        "colab": {
          "base_uri": "https://localhost:8080/"
        },
        "id": "x4Yg_hb60F75",
        "outputId": "c3cc26ce-a28a-4adc-ab44-7ae13be31fd0"
      },
      "execution_count": null,
      "outputs": [
        {
          "output_type": "stream",
          "name": "stdout",
          "text": [
            "Mounted at /content/drive\n"
          ]
        }
      ]
    },
    {
      "cell_type": "code",
      "source": [
        "df_train = pd.read_csv(\"/content/drive/MyDrive/eBay_ML_Challenge_Dataset_2022/Train_Tagged_Titles_csv.csv\")"
      ],
      "metadata": {
        "id": "ZvH8Qc2uxiVj"
      },
      "execution_count": null,
      "outputs": []
    },
    {
      "cell_type": "code",
      "source": [
        "df_train.head()"
      ],
      "metadata": {
        "id": "otYED2rR9sug",
        "colab": {
          "base_uri": "https://localhost:8080/",
          "height": 354
        },
        "outputId": "b528f1f2-0149-4f08-a306-2390a2cbb302"
      },
      "execution_count": null,
      "outputs": [
        {
          "output_type": "execute_result",
          "data": {
            "text/plain": [
              "   Record Number                                              Title  \\\n",
              "0            445  Five Pack Black 40 \" Woven Garment Bags Breath...   \n",
              "1           2932  16 \" Women Vintage Looking Genuine Brown Leath...   \n",
              "2           2903   BERGE  WOMEN 'S ITALIAN DESIGNER HANDBAG IN L...   \n",
              "3           1107  Lancome Pink Fabric Tote Bag - 15 1/4 \" W x 15...   \n",
              "4           1667  1 Dozen Duffle Bag Bags Travel Size Sports Gym...   \n",
              "\n",
              "                                               Token        Tag  ExtraColumn1  \\\n",
              "0  \\tObscure\\r\\n445\\tFive Pack Black 40  Woven Ga...      Woven           NaN   \n",
              "1  \\t\\r\\n2932\\t16  Women Vintage Looking Genuine ...      Women           NaN   \n",
              "2  \\tNo Tag\\r\\n2903\\t BERGE \" WOMEN 'S ITALIAN DE...      WOMEN           NaN   \n",
              "3  \\t\\r\\n1107\\tLancome Pink Fabric Tote Bag - 15 ...       Wide           NaN   \n",
              "4  \\t\\r\\n1667\\t1 Dozen Duffle Bag Bags Travel Siz...  Wholesale           NaN   \n",
              "\n",
              "   ExtraColumn2  \n",
              "0           NaN  \n",
              "1           NaN  \n",
              "2           NaN  \n",
              "3           NaN  \n",
              "4           NaN  "
            ],
            "text/html": [
              "\n",
              "  <div id=\"df-fc1fb229-5761-4738-b809-4de16f376c6a\">\n",
              "    <div class=\"colab-df-container\">\n",
              "      <div>\n",
              "<style scoped>\n",
              "    .dataframe tbody tr th:only-of-type {\n",
              "        vertical-align: middle;\n",
              "    }\n",
              "\n",
              "    .dataframe tbody tr th {\n",
              "        vertical-align: top;\n",
              "    }\n",
              "\n",
              "    .dataframe thead th {\n",
              "        text-align: right;\n",
              "    }\n",
              "</style>\n",
              "<table border=\"1\" class=\"dataframe\">\n",
              "  <thead>\n",
              "    <tr style=\"text-align: right;\">\n",
              "      <th></th>\n",
              "      <th>Record Number</th>\n",
              "      <th>Title</th>\n",
              "      <th>Token</th>\n",
              "      <th>Tag</th>\n",
              "      <th>ExtraColumn1</th>\n",
              "      <th>ExtraColumn2</th>\n",
              "    </tr>\n",
              "  </thead>\n",
              "  <tbody>\n",
              "    <tr>\n",
              "      <th>0</th>\n",
              "      <td>445</td>\n",
              "      <td>Five Pack Black 40 \" Woven Garment Bags Breath...</td>\n",
              "      <td>\\tObscure\\r\\n445\\tFive Pack Black 40  Woven Ga...</td>\n",
              "      <td>Woven</td>\n",
              "      <td>NaN</td>\n",
              "      <td>NaN</td>\n",
              "    </tr>\n",
              "    <tr>\n",
              "      <th>1</th>\n",
              "      <td>2932</td>\n",
              "      <td>16 \" Women Vintage Looking Genuine Brown Leath...</td>\n",
              "      <td>\\t\\r\\n2932\\t16  Women Vintage Looking Genuine ...</td>\n",
              "      <td>Women</td>\n",
              "      <td>NaN</td>\n",
              "      <td>NaN</td>\n",
              "    </tr>\n",
              "    <tr>\n",
              "      <th>2</th>\n",
              "      <td>2903</td>\n",
              "      <td>BERGE  WOMEN 'S ITALIAN DESIGNER HANDBAG IN L...</td>\n",
              "      <td>\\tNo Tag\\r\\n2903\\t BERGE \" WOMEN 'S ITALIAN DE...</td>\n",
              "      <td>WOMEN</td>\n",
              "      <td>NaN</td>\n",
              "      <td>NaN</td>\n",
              "    </tr>\n",
              "    <tr>\n",
              "      <th>3</th>\n",
              "      <td>1107</td>\n",
              "      <td>Lancome Pink Fabric Tote Bag - 15 1/4 \" W x 15...</td>\n",
              "      <td>\\t\\r\\n1107\\tLancome Pink Fabric Tote Bag - 15 ...</td>\n",
              "      <td>Wide</td>\n",
              "      <td>NaN</td>\n",
              "      <td>NaN</td>\n",
              "    </tr>\n",
              "    <tr>\n",
              "      <th>4</th>\n",
              "      <td>1667</td>\n",
              "      <td>1 Dozen Duffle Bag Bags Travel Size Sports Gym...</td>\n",
              "      <td>\\t\\r\\n1667\\t1 Dozen Duffle Bag Bags Travel Siz...</td>\n",
              "      <td>Wholesale</td>\n",
              "      <td>NaN</td>\n",
              "      <td>NaN</td>\n",
              "    </tr>\n",
              "  </tbody>\n",
              "</table>\n",
              "</div>\n",
              "      <button class=\"colab-df-convert\" onclick=\"convertToInteractive('df-fc1fb229-5761-4738-b809-4de16f376c6a')\"\n",
              "              title=\"Convert this dataframe to an interactive table.\"\n",
              "              style=\"display:none;\">\n",
              "        \n",
              "  <svg xmlns=\"http://www.w3.org/2000/svg\" height=\"24px\"viewBox=\"0 0 24 24\"\n",
              "       width=\"24px\">\n",
              "    <path d=\"M0 0h24v24H0V0z\" fill=\"none\"/>\n",
              "    <path d=\"M18.56 5.44l.94 2.06.94-2.06 2.06-.94-2.06-.94-.94-2.06-.94 2.06-2.06.94zm-11 1L8.5 8.5l.94-2.06 2.06-.94-2.06-.94L8.5 2.5l-.94 2.06-2.06.94zm10 10l.94 2.06.94-2.06 2.06-.94-2.06-.94-.94-2.06-.94 2.06-2.06.94z\"/><path d=\"M17.41 7.96l-1.37-1.37c-.4-.4-.92-.59-1.43-.59-.52 0-1.04.2-1.43.59L10.3 9.45l-7.72 7.72c-.78.78-.78 2.05 0 2.83L4 21.41c.39.39.9.59 1.41.59.51 0 1.02-.2 1.41-.59l7.78-7.78 2.81-2.81c.8-.78.8-2.07 0-2.86zM5.41 20L4 18.59l7.72-7.72 1.47 1.35L5.41 20z\"/>\n",
              "  </svg>\n",
              "      </button>\n",
              "      \n",
              "  <style>\n",
              "    .colab-df-container {\n",
              "      display:flex;\n",
              "      flex-wrap:wrap;\n",
              "      gap: 12px;\n",
              "    }\n",
              "\n",
              "    .colab-df-convert {\n",
              "      background-color: #E8F0FE;\n",
              "      border: none;\n",
              "      border-radius: 50%;\n",
              "      cursor: pointer;\n",
              "      display: none;\n",
              "      fill: #1967D2;\n",
              "      height: 32px;\n",
              "      padding: 0 0 0 0;\n",
              "      width: 32px;\n",
              "    }\n",
              "\n",
              "    .colab-df-convert:hover {\n",
              "      background-color: #E2EBFA;\n",
              "      box-shadow: 0px 1px 2px rgba(60, 64, 67, 0.3), 0px 1px 3px 1px rgba(60, 64, 67, 0.15);\n",
              "      fill: #174EA6;\n",
              "    }\n",
              "\n",
              "    [theme=dark] .colab-df-convert {\n",
              "      background-color: #3B4455;\n",
              "      fill: #D2E3FC;\n",
              "    }\n",
              "\n",
              "    [theme=dark] .colab-df-convert:hover {\n",
              "      background-color: #434B5C;\n",
              "      box-shadow: 0px 1px 3px 1px rgba(0, 0, 0, 0.15);\n",
              "      filter: drop-shadow(0px 1px 2px rgba(0, 0, 0, 0.3));\n",
              "      fill: #FFFFFF;\n",
              "    }\n",
              "  </style>\n",
              "\n",
              "      <script>\n",
              "        const buttonEl =\n",
              "          document.querySelector('#df-fc1fb229-5761-4738-b809-4de16f376c6a button.colab-df-convert');\n",
              "        buttonEl.style.display =\n",
              "          google.colab.kernel.accessAllowed ? 'block' : 'none';\n",
              "\n",
              "        async function convertToInteractive(key) {\n",
              "          const element = document.querySelector('#df-fc1fb229-5761-4738-b809-4de16f376c6a');\n",
              "          const dataTable =\n",
              "            await google.colab.kernel.invokeFunction('convertToInteractive',\n",
              "                                                     [key], {});\n",
              "          if (!dataTable) return;\n",
              "\n",
              "          const docLinkHtml = 'Like what you see? Visit the ' +\n",
              "            '<a target=\"_blank\" href=https://colab.research.google.com/notebooks/data_table.ipynb>data table notebook</a>'\n",
              "            + ' to learn more about interactive tables.';\n",
              "          element.innerHTML = '';\n",
              "          dataTable['output_type'] = 'display_data';\n",
              "          await google.colab.output.renderOutput(dataTable, element);\n",
              "          const docLink = document.createElement('div');\n",
              "          docLink.innerHTML = docLinkHtml;\n",
              "          element.appendChild(docLink);\n",
              "        }\n",
              "      </script>\n",
              "    </div>\n",
              "  </div>\n",
              "  "
            ]
          },
          "metadata": {},
          "execution_count": 4
        }
      ]
    },
    {
      "cell_type": "code",
      "source": [
        "df_train_actual = df_train[['Record Number','Title','Token','Tag']]"
      ],
      "metadata": {
        "id": "75ehwJF-9zP1"
      },
      "execution_count": null,
      "outputs": []
    },
    {
      "cell_type": "code",
      "source": [
        "df_train.head()"
      ],
      "metadata": {
        "id": "69B8AwpG93FA",
        "colab": {
          "base_uri": "https://localhost:8080/",
          "height": 354
        },
        "outputId": "b94ecd35-6253-443a-ba55-75547ee98c1c"
      },
      "execution_count": null,
      "outputs": [
        {
          "output_type": "execute_result",
          "data": {
            "text/plain": [
              "   Record Number                                              Title  \\\n",
              "0            445  Five Pack Black 40 \" Woven Garment Bags Breath...   \n",
              "1           2932  16 \" Women Vintage Looking Genuine Brown Leath...   \n",
              "2           2903   BERGE  WOMEN 'S ITALIAN DESIGNER HANDBAG IN L...   \n",
              "3           1107  Lancome Pink Fabric Tote Bag - 15 1/4 \" W x 15...   \n",
              "4           1667  1 Dozen Duffle Bag Bags Travel Size Sports Gym...   \n",
              "\n",
              "                                               Token        Tag  ExtraColumn1  \\\n",
              "0  \\tObscure\\r\\n445\\tFive Pack Black 40  Woven Ga...      Woven           NaN   \n",
              "1  \\t\\r\\n2932\\t16  Women Vintage Looking Genuine ...      Women           NaN   \n",
              "2  \\tNo Tag\\r\\n2903\\t BERGE \" WOMEN 'S ITALIAN DE...      WOMEN           NaN   \n",
              "3  \\t\\r\\n1107\\tLancome Pink Fabric Tote Bag - 15 ...       Wide           NaN   \n",
              "4  \\t\\r\\n1667\\t1 Dozen Duffle Bag Bags Travel Siz...  Wholesale           NaN   \n",
              "\n",
              "   ExtraColumn2  \n",
              "0           NaN  \n",
              "1           NaN  \n",
              "2           NaN  \n",
              "3           NaN  \n",
              "4           NaN  "
            ],
            "text/html": [
              "\n",
              "  <div id=\"df-99be2811-3c04-4320-bb55-d0140962a60a\">\n",
              "    <div class=\"colab-df-container\">\n",
              "      <div>\n",
              "<style scoped>\n",
              "    .dataframe tbody tr th:only-of-type {\n",
              "        vertical-align: middle;\n",
              "    }\n",
              "\n",
              "    .dataframe tbody tr th {\n",
              "        vertical-align: top;\n",
              "    }\n",
              "\n",
              "    .dataframe thead th {\n",
              "        text-align: right;\n",
              "    }\n",
              "</style>\n",
              "<table border=\"1\" class=\"dataframe\">\n",
              "  <thead>\n",
              "    <tr style=\"text-align: right;\">\n",
              "      <th></th>\n",
              "      <th>Record Number</th>\n",
              "      <th>Title</th>\n",
              "      <th>Token</th>\n",
              "      <th>Tag</th>\n",
              "      <th>ExtraColumn1</th>\n",
              "      <th>ExtraColumn2</th>\n",
              "    </tr>\n",
              "  </thead>\n",
              "  <tbody>\n",
              "    <tr>\n",
              "      <th>0</th>\n",
              "      <td>445</td>\n",
              "      <td>Five Pack Black 40 \" Woven Garment Bags Breath...</td>\n",
              "      <td>\\tObscure\\r\\n445\\tFive Pack Black 40  Woven Ga...</td>\n",
              "      <td>Woven</td>\n",
              "      <td>NaN</td>\n",
              "      <td>NaN</td>\n",
              "    </tr>\n",
              "    <tr>\n",
              "      <th>1</th>\n",
              "      <td>2932</td>\n",
              "      <td>16 \" Women Vintage Looking Genuine Brown Leath...</td>\n",
              "      <td>\\t\\r\\n2932\\t16  Women Vintage Looking Genuine ...</td>\n",
              "      <td>Women</td>\n",
              "      <td>NaN</td>\n",
              "      <td>NaN</td>\n",
              "    </tr>\n",
              "    <tr>\n",
              "      <th>2</th>\n",
              "      <td>2903</td>\n",
              "      <td>BERGE  WOMEN 'S ITALIAN DESIGNER HANDBAG IN L...</td>\n",
              "      <td>\\tNo Tag\\r\\n2903\\t BERGE \" WOMEN 'S ITALIAN DE...</td>\n",
              "      <td>WOMEN</td>\n",
              "      <td>NaN</td>\n",
              "      <td>NaN</td>\n",
              "    </tr>\n",
              "    <tr>\n",
              "      <th>3</th>\n",
              "      <td>1107</td>\n",
              "      <td>Lancome Pink Fabric Tote Bag - 15 1/4 \" W x 15...</td>\n",
              "      <td>\\t\\r\\n1107\\tLancome Pink Fabric Tote Bag - 15 ...</td>\n",
              "      <td>Wide</td>\n",
              "      <td>NaN</td>\n",
              "      <td>NaN</td>\n",
              "    </tr>\n",
              "    <tr>\n",
              "      <th>4</th>\n",
              "      <td>1667</td>\n",
              "      <td>1 Dozen Duffle Bag Bags Travel Size Sports Gym...</td>\n",
              "      <td>\\t\\r\\n1667\\t1 Dozen Duffle Bag Bags Travel Siz...</td>\n",
              "      <td>Wholesale</td>\n",
              "      <td>NaN</td>\n",
              "      <td>NaN</td>\n",
              "    </tr>\n",
              "  </tbody>\n",
              "</table>\n",
              "</div>\n",
              "      <button class=\"colab-df-convert\" onclick=\"convertToInteractive('df-99be2811-3c04-4320-bb55-d0140962a60a')\"\n",
              "              title=\"Convert this dataframe to an interactive table.\"\n",
              "              style=\"display:none;\">\n",
              "        \n",
              "  <svg xmlns=\"http://www.w3.org/2000/svg\" height=\"24px\"viewBox=\"0 0 24 24\"\n",
              "       width=\"24px\">\n",
              "    <path d=\"M0 0h24v24H0V0z\" fill=\"none\"/>\n",
              "    <path d=\"M18.56 5.44l.94 2.06.94-2.06 2.06-.94-2.06-.94-.94-2.06-.94 2.06-2.06.94zm-11 1L8.5 8.5l.94-2.06 2.06-.94-2.06-.94L8.5 2.5l-.94 2.06-2.06.94zm10 10l.94 2.06.94-2.06 2.06-.94-2.06-.94-.94-2.06-.94 2.06-2.06.94z\"/><path d=\"M17.41 7.96l-1.37-1.37c-.4-.4-.92-.59-1.43-.59-.52 0-1.04.2-1.43.59L10.3 9.45l-7.72 7.72c-.78.78-.78 2.05 0 2.83L4 21.41c.39.39.9.59 1.41.59.51 0 1.02-.2 1.41-.59l7.78-7.78 2.81-2.81c.8-.78.8-2.07 0-2.86zM5.41 20L4 18.59l7.72-7.72 1.47 1.35L5.41 20z\"/>\n",
              "  </svg>\n",
              "      </button>\n",
              "      \n",
              "  <style>\n",
              "    .colab-df-container {\n",
              "      display:flex;\n",
              "      flex-wrap:wrap;\n",
              "      gap: 12px;\n",
              "    }\n",
              "\n",
              "    .colab-df-convert {\n",
              "      background-color: #E8F0FE;\n",
              "      border: none;\n",
              "      border-radius: 50%;\n",
              "      cursor: pointer;\n",
              "      display: none;\n",
              "      fill: #1967D2;\n",
              "      height: 32px;\n",
              "      padding: 0 0 0 0;\n",
              "      width: 32px;\n",
              "    }\n",
              "\n",
              "    .colab-df-convert:hover {\n",
              "      background-color: #E2EBFA;\n",
              "      box-shadow: 0px 1px 2px rgba(60, 64, 67, 0.3), 0px 1px 3px 1px rgba(60, 64, 67, 0.15);\n",
              "      fill: #174EA6;\n",
              "    }\n",
              "\n",
              "    [theme=dark] .colab-df-convert {\n",
              "      background-color: #3B4455;\n",
              "      fill: #D2E3FC;\n",
              "    }\n",
              "\n",
              "    [theme=dark] .colab-df-convert:hover {\n",
              "      background-color: #434B5C;\n",
              "      box-shadow: 0px 1px 3px 1px rgba(0, 0, 0, 0.15);\n",
              "      filter: drop-shadow(0px 1px 2px rgba(0, 0, 0, 0.3));\n",
              "      fill: #FFFFFF;\n",
              "    }\n",
              "  </style>\n",
              "\n",
              "      <script>\n",
              "        const buttonEl =\n",
              "          document.querySelector('#df-99be2811-3c04-4320-bb55-d0140962a60a button.colab-df-convert');\n",
              "        buttonEl.style.display =\n",
              "          google.colab.kernel.accessAllowed ? 'block' : 'none';\n",
              "\n",
              "        async function convertToInteractive(key) {\n",
              "          const element = document.querySelector('#df-99be2811-3c04-4320-bb55-d0140962a60a');\n",
              "          const dataTable =\n",
              "            await google.colab.kernel.invokeFunction('convertToInteractive',\n",
              "                                                     [key], {});\n",
              "          if (!dataTable) return;\n",
              "\n",
              "          const docLinkHtml = 'Like what you see? Visit the ' +\n",
              "            '<a target=\"_blank\" href=https://colab.research.google.com/notebooks/data_table.ipynb>data table notebook</a>'\n",
              "            + ' to learn more about interactive tables.';\n",
              "          element.innerHTML = '';\n",
              "          dataTable['output_type'] = 'display_data';\n",
              "          await google.colab.output.renderOutput(dataTable, element);\n",
              "          const docLink = document.createElement('div');\n",
              "          docLink.innerHTML = docLinkHtml;\n",
              "          element.appendChild(docLink);\n",
              "        }\n",
              "      </script>\n",
              "    </div>\n",
              "  </div>\n",
              "  "
            ]
          },
          "metadata": {},
          "execution_count": 6
        }
      ]
    },
    {
      "cell_type": "code",
      "source": [
        "df_train_actual.tail()"
      ],
      "metadata": {
        "id": "9Khe0YH695PX",
        "colab": {
          "base_uri": "https://localhost:8080/",
          "height": 206
        },
        "outputId": "8c73ade3-cdcc-4ec2-de9c-b780abdf661f"
      },
      "execution_count": null,
      "outputs": [
        {
          "output_type": "execute_result",
          "data": {
            "text/plain": [
              "       Record Number                                              Title  \\\n",
              "44574           3855  Vintage Women Cross Body Messenger Bag Two Zip...   \n",
              "44575            823  Double Zipper Recycled Canvas + Leather Should...   \n",
              "44576            761  Fossil Black Leather Side Pockets Upper Zipper...   \n",
              "44577           4894  Vintage Fendi Chef Zucca Logo Jacquard Hobo Ba...   \n",
              "44578           2160  Fendi Vintage Tobacco FF Zucca Canvas Leather ...   \n",
              "\n",
              "        Token  Tag  \n",
              "44574  Zipper  NaN  \n",
              "44575  Zipper  NaN  \n",
              "44576  Zipper  NaN  \n",
              "44577   Zucca  NaN  \n",
              "44578   Zucca  NaN  "
            ],
            "text/html": [
              "\n",
              "  <div id=\"df-0ba2deea-174c-4800-ac43-989d5bdcf094\">\n",
              "    <div class=\"colab-df-container\">\n",
              "      <div>\n",
              "<style scoped>\n",
              "    .dataframe tbody tr th:only-of-type {\n",
              "        vertical-align: middle;\n",
              "    }\n",
              "\n",
              "    .dataframe tbody tr th {\n",
              "        vertical-align: top;\n",
              "    }\n",
              "\n",
              "    .dataframe thead th {\n",
              "        text-align: right;\n",
              "    }\n",
              "</style>\n",
              "<table border=\"1\" class=\"dataframe\">\n",
              "  <thead>\n",
              "    <tr style=\"text-align: right;\">\n",
              "      <th></th>\n",
              "      <th>Record Number</th>\n",
              "      <th>Title</th>\n",
              "      <th>Token</th>\n",
              "      <th>Tag</th>\n",
              "    </tr>\n",
              "  </thead>\n",
              "  <tbody>\n",
              "    <tr>\n",
              "      <th>44574</th>\n",
              "      <td>3855</td>\n",
              "      <td>Vintage Women Cross Body Messenger Bag Two Zip...</td>\n",
              "      <td>Zipper</td>\n",
              "      <td>NaN</td>\n",
              "    </tr>\n",
              "    <tr>\n",
              "      <th>44575</th>\n",
              "      <td>823</td>\n",
              "      <td>Double Zipper Recycled Canvas + Leather Should...</td>\n",
              "      <td>Zipper</td>\n",
              "      <td>NaN</td>\n",
              "    </tr>\n",
              "    <tr>\n",
              "      <th>44576</th>\n",
              "      <td>761</td>\n",
              "      <td>Fossil Black Leather Side Pockets Upper Zipper...</td>\n",
              "      <td>Zipper</td>\n",
              "      <td>NaN</td>\n",
              "    </tr>\n",
              "    <tr>\n",
              "      <th>44577</th>\n",
              "      <td>4894</td>\n",
              "      <td>Vintage Fendi Chef Zucca Logo Jacquard Hobo Ba...</td>\n",
              "      <td>Zucca</td>\n",
              "      <td>NaN</td>\n",
              "    </tr>\n",
              "    <tr>\n",
              "      <th>44578</th>\n",
              "      <td>2160</td>\n",
              "      <td>Fendi Vintage Tobacco FF Zucca Canvas Leather ...</td>\n",
              "      <td>Zucca</td>\n",
              "      <td>NaN</td>\n",
              "    </tr>\n",
              "  </tbody>\n",
              "</table>\n",
              "</div>\n",
              "      <button class=\"colab-df-convert\" onclick=\"convertToInteractive('df-0ba2deea-174c-4800-ac43-989d5bdcf094')\"\n",
              "              title=\"Convert this dataframe to an interactive table.\"\n",
              "              style=\"display:none;\">\n",
              "        \n",
              "  <svg xmlns=\"http://www.w3.org/2000/svg\" height=\"24px\"viewBox=\"0 0 24 24\"\n",
              "       width=\"24px\">\n",
              "    <path d=\"M0 0h24v24H0V0z\" fill=\"none\"/>\n",
              "    <path d=\"M18.56 5.44l.94 2.06.94-2.06 2.06-.94-2.06-.94-.94-2.06-.94 2.06-2.06.94zm-11 1L8.5 8.5l.94-2.06 2.06-.94-2.06-.94L8.5 2.5l-.94 2.06-2.06.94zm10 10l.94 2.06.94-2.06 2.06-.94-2.06-.94-.94-2.06-.94 2.06-2.06.94z\"/><path d=\"M17.41 7.96l-1.37-1.37c-.4-.4-.92-.59-1.43-.59-.52 0-1.04.2-1.43.59L10.3 9.45l-7.72 7.72c-.78.78-.78 2.05 0 2.83L4 21.41c.39.39.9.59 1.41.59.51 0 1.02-.2 1.41-.59l7.78-7.78 2.81-2.81c.8-.78.8-2.07 0-2.86zM5.41 20L4 18.59l7.72-7.72 1.47 1.35L5.41 20z\"/>\n",
              "  </svg>\n",
              "      </button>\n",
              "      \n",
              "  <style>\n",
              "    .colab-df-container {\n",
              "      display:flex;\n",
              "      flex-wrap:wrap;\n",
              "      gap: 12px;\n",
              "    }\n",
              "\n",
              "    .colab-df-convert {\n",
              "      background-color: #E8F0FE;\n",
              "      border: none;\n",
              "      border-radius: 50%;\n",
              "      cursor: pointer;\n",
              "      display: none;\n",
              "      fill: #1967D2;\n",
              "      height: 32px;\n",
              "      padding: 0 0 0 0;\n",
              "      width: 32px;\n",
              "    }\n",
              "\n",
              "    .colab-df-convert:hover {\n",
              "      background-color: #E2EBFA;\n",
              "      box-shadow: 0px 1px 2px rgba(60, 64, 67, 0.3), 0px 1px 3px 1px rgba(60, 64, 67, 0.15);\n",
              "      fill: #174EA6;\n",
              "    }\n",
              "\n",
              "    [theme=dark] .colab-df-convert {\n",
              "      background-color: #3B4455;\n",
              "      fill: #D2E3FC;\n",
              "    }\n",
              "\n",
              "    [theme=dark] .colab-df-convert:hover {\n",
              "      background-color: #434B5C;\n",
              "      box-shadow: 0px 1px 3px 1px rgba(0, 0, 0, 0.15);\n",
              "      filter: drop-shadow(0px 1px 2px rgba(0, 0, 0, 0.3));\n",
              "      fill: #FFFFFF;\n",
              "    }\n",
              "  </style>\n",
              "\n",
              "      <script>\n",
              "        const buttonEl =\n",
              "          document.querySelector('#df-0ba2deea-174c-4800-ac43-989d5bdcf094 button.colab-df-convert');\n",
              "        buttonEl.style.display =\n",
              "          google.colab.kernel.accessAllowed ? 'block' : 'none';\n",
              "\n",
              "        async function convertToInteractive(key) {\n",
              "          const element = document.querySelector('#df-0ba2deea-174c-4800-ac43-989d5bdcf094');\n",
              "          const dataTable =\n",
              "            await google.colab.kernel.invokeFunction('convertToInteractive',\n",
              "                                                     [key], {});\n",
              "          if (!dataTable) return;\n",
              "\n",
              "          const docLinkHtml = 'Like what you see? Visit the ' +\n",
              "            '<a target=\"_blank\" href=https://colab.research.google.com/notebooks/data_table.ipynb>data table notebook</a>'\n",
              "            + ' to learn more about interactive tables.';\n",
              "          element.innerHTML = '';\n",
              "          dataTable['output_type'] = 'display_data';\n",
              "          await google.colab.output.renderOutput(dataTable, element);\n",
              "          const docLink = document.createElement('div');\n",
              "          docLink.innerHTML = docLinkHtml;\n",
              "          element.appendChild(docLink);\n",
              "        }\n",
              "      </script>\n",
              "    </div>\n",
              "  </div>\n",
              "  "
            ]
          },
          "metadata": {},
          "execution_count": 7
        }
      ]
    },
    {
      "cell_type": "code",
      "source": [
        "# iterating over rows using iterrows() function\n",
        "\n",
        "#for i, j in df_train_actual.iterrows():\n",
        "#    \n",
        "index = 2\n",
        "count = 0\n",
        "# Iterate all rows using DataFrame.iterrows()\n",
        "for index, row in df_train_actual.iterrows():\n",
        "        string = index,row[\"Token\"].split()\n",
        "        if(len(string[1]) > 2):\n",
        "            count = count + 1\n",
        "            df_train_actual.drop(index, inplace=True)\n",
        "\n",
        "print(count)            \n"
      ],
      "metadata": {
        "id": "lL8x7iV5-AqG",
        "colab": {
          "base_uri": "https://localhost:8080/"
        },
        "outputId": "044e186d-e805-48a2-cec3-169495805e25"
      },
      "execution_count": null,
      "outputs": [
        {
          "output_type": "stream",
          "name": "stderr",
          "text": [
            "/usr/local/lib/python3.7/dist-packages/pandas/core/frame.py:4913: SettingWithCopyWarning: \n",
            "A value is trying to be set on a copy of a slice from a DataFrame\n",
            "\n",
            "See the caveats in the documentation: https://pandas.pydata.org/pandas-docs/stable/user_guide/indexing.html#returning-a-view-versus-a-copy\n",
            "  errors=errors,\n"
          ]
        },
        {
          "output_type": "stream",
          "name": "stdout",
          "text": [
            "99\n"
          ]
        }
      ]
    },
    {
      "cell_type": "code",
      "source": [
        "df_train_actual.head()"
      ],
      "metadata": {
        "id": "6VQ40AVD-KUY",
        "colab": {
          "base_uri": "https://localhost:8080/",
          "height": 206
        },
        "outputId": "2e44c32f-7215-4bbe-f17f-eba169803708"
      },
      "execution_count": null,
      "outputs": [
        {
          "output_type": "execute_result",
          "data": {
            "text/plain": [
              "    Record Number                                              Title Token  \\\n",
              "15           4134  Marc Jacobs Biker Nylon Baby Bag Black - BRAND...  Baby   \n",
              "16           3723  LOUIS VUITTON Shearling Monogram Marc Newson F...  Back   \n",
              "17           3475  Retired Vera Bradley Suzani Bag Backsack Draws...  Back   \n",
              "18           3183  Adidas Vintage Small Backpack Kids Backpack Vi...  Back   \n",
              "19           1911  Women 's Small Backpack School Back Pack Mochi...  Back   \n",
              "\n",
              "     Tag  \n",
              "15  Type  \n",
              "16  Type  \n",
              "17  Type  \n",
              "18  Type  \n",
              "19  Type  "
            ],
            "text/html": [
              "\n",
              "  <div id=\"df-52939676-ff2c-490f-ac1c-5fedb4bfcb86\">\n",
              "    <div class=\"colab-df-container\">\n",
              "      <div>\n",
              "<style scoped>\n",
              "    .dataframe tbody tr th:only-of-type {\n",
              "        vertical-align: middle;\n",
              "    }\n",
              "\n",
              "    .dataframe tbody tr th {\n",
              "        vertical-align: top;\n",
              "    }\n",
              "\n",
              "    .dataframe thead th {\n",
              "        text-align: right;\n",
              "    }\n",
              "</style>\n",
              "<table border=\"1\" class=\"dataframe\">\n",
              "  <thead>\n",
              "    <tr style=\"text-align: right;\">\n",
              "      <th></th>\n",
              "      <th>Record Number</th>\n",
              "      <th>Title</th>\n",
              "      <th>Token</th>\n",
              "      <th>Tag</th>\n",
              "    </tr>\n",
              "  </thead>\n",
              "  <tbody>\n",
              "    <tr>\n",
              "      <th>15</th>\n",
              "      <td>4134</td>\n",
              "      <td>Marc Jacobs Biker Nylon Baby Bag Black - BRAND...</td>\n",
              "      <td>Baby</td>\n",
              "      <td>Type</td>\n",
              "    </tr>\n",
              "    <tr>\n",
              "      <th>16</th>\n",
              "      <td>3723</td>\n",
              "      <td>LOUIS VUITTON Shearling Monogram Marc Newson F...</td>\n",
              "      <td>Back</td>\n",
              "      <td>Type</td>\n",
              "    </tr>\n",
              "    <tr>\n",
              "      <th>17</th>\n",
              "      <td>3475</td>\n",
              "      <td>Retired Vera Bradley Suzani Bag Backsack Draws...</td>\n",
              "      <td>Back</td>\n",
              "      <td>Type</td>\n",
              "    </tr>\n",
              "    <tr>\n",
              "      <th>18</th>\n",
              "      <td>3183</td>\n",
              "      <td>Adidas Vintage Small Backpack Kids Backpack Vi...</td>\n",
              "      <td>Back</td>\n",
              "      <td>Type</td>\n",
              "    </tr>\n",
              "    <tr>\n",
              "      <th>19</th>\n",
              "      <td>1911</td>\n",
              "      <td>Women 's Small Backpack School Back Pack Mochi...</td>\n",
              "      <td>Back</td>\n",
              "      <td>Type</td>\n",
              "    </tr>\n",
              "  </tbody>\n",
              "</table>\n",
              "</div>\n",
              "      <button class=\"colab-df-convert\" onclick=\"convertToInteractive('df-52939676-ff2c-490f-ac1c-5fedb4bfcb86')\"\n",
              "              title=\"Convert this dataframe to an interactive table.\"\n",
              "              style=\"display:none;\">\n",
              "        \n",
              "  <svg xmlns=\"http://www.w3.org/2000/svg\" height=\"24px\"viewBox=\"0 0 24 24\"\n",
              "       width=\"24px\">\n",
              "    <path d=\"M0 0h24v24H0V0z\" fill=\"none\"/>\n",
              "    <path d=\"M18.56 5.44l.94 2.06.94-2.06 2.06-.94-2.06-.94-.94-2.06-.94 2.06-2.06.94zm-11 1L8.5 8.5l.94-2.06 2.06-.94-2.06-.94L8.5 2.5l-.94 2.06-2.06.94zm10 10l.94 2.06.94-2.06 2.06-.94-2.06-.94-.94-2.06-.94 2.06-2.06.94z\"/><path d=\"M17.41 7.96l-1.37-1.37c-.4-.4-.92-.59-1.43-.59-.52 0-1.04.2-1.43.59L10.3 9.45l-7.72 7.72c-.78.78-.78 2.05 0 2.83L4 21.41c.39.39.9.59 1.41.59.51 0 1.02-.2 1.41-.59l7.78-7.78 2.81-2.81c.8-.78.8-2.07 0-2.86zM5.41 20L4 18.59l7.72-7.72 1.47 1.35L5.41 20z\"/>\n",
              "  </svg>\n",
              "      </button>\n",
              "      \n",
              "  <style>\n",
              "    .colab-df-container {\n",
              "      display:flex;\n",
              "      flex-wrap:wrap;\n",
              "      gap: 12px;\n",
              "    }\n",
              "\n",
              "    .colab-df-convert {\n",
              "      background-color: #E8F0FE;\n",
              "      border: none;\n",
              "      border-radius: 50%;\n",
              "      cursor: pointer;\n",
              "      display: none;\n",
              "      fill: #1967D2;\n",
              "      height: 32px;\n",
              "      padding: 0 0 0 0;\n",
              "      width: 32px;\n",
              "    }\n",
              "\n",
              "    .colab-df-convert:hover {\n",
              "      background-color: #E2EBFA;\n",
              "      box-shadow: 0px 1px 2px rgba(60, 64, 67, 0.3), 0px 1px 3px 1px rgba(60, 64, 67, 0.15);\n",
              "      fill: #174EA6;\n",
              "    }\n",
              "\n",
              "    [theme=dark] .colab-df-convert {\n",
              "      background-color: #3B4455;\n",
              "      fill: #D2E3FC;\n",
              "    }\n",
              "\n",
              "    [theme=dark] .colab-df-convert:hover {\n",
              "      background-color: #434B5C;\n",
              "      box-shadow: 0px 1px 3px 1px rgba(0, 0, 0, 0.15);\n",
              "      filter: drop-shadow(0px 1px 2px rgba(0, 0, 0, 0.3));\n",
              "      fill: #FFFFFF;\n",
              "    }\n",
              "  </style>\n",
              "\n",
              "      <script>\n",
              "        const buttonEl =\n",
              "          document.querySelector('#df-52939676-ff2c-490f-ac1c-5fedb4bfcb86 button.colab-df-convert');\n",
              "        buttonEl.style.display =\n",
              "          google.colab.kernel.accessAllowed ? 'block' : 'none';\n",
              "\n",
              "        async function convertToInteractive(key) {\n",
              "          const element = document.querySelector('#df-52939676-ff2c-490f-ac1c-5fedb4bfcb86');\n",
              "          const dataTable =\n",
              "            await google.colab.kernel.invokeFunction('convertToInteractive',\n",
              "                                                     [key], {});\n",
              "          if (!dataTable) return;\n",
              "\n",
              "          const docLinkHtml = 'Like what you see? Visit the ' +\n",
              "            '<a target=\"_blank\" href=https://colab.research.google.com/notebooks/data_table.ipynb>data table notebook</a>'\n",
              "            + ' to learn more about interactive tables.';\n",
              "          element.innerHTML = '';\n",
              "          dataTable['output_type'] = 'display_data';\n",
              "          await google.colab.output.renderOutput(dataTable, element);\n",
              "          const docLink = document.createElement('div');\n",
              "          docLink.innerHTML = docLinkHtml;\n",
              "          element.appendChild(docLink);\n",
              "        }\n",
              "      </script>\n",
              "    </div>\n",
              "  </div>\n",
              "  "
            ]
          },
          "metadata": {},
          "execution_count": 9
        }
      ]
    },
    {
      "cell_type": "code",
      "source": [
        "df_train_actual.tail()"
      ],
      "metadata": {
        "id": "JPuOsYho-OMW",
        "colab": {
          "base_uri": "https://localhost:8080/",
          "height": 206
        },
        "outputId": "fb79488a-082e-4e2b-e8ac-baa114536020"
      },
      "execution_count": null,
      "outputs": [
        {
          "output_type": "execute_result",
          "data": {
            "text/plain": [
              "       Record Number                                              Title  \\\n",
              "44574           3855  Vintage Women Cross Body Messenger Bag Two Zip...   \n",
              "44575            823  Double Zipper Recycled Canvas + Leather Should...   \n",
              "44576            761  Fossil Black Leather Side Pockets Upper Zipper...   \n",
              "44577           4894  Vintage Fendi Chef Zucca Logo Jacquard Hobo Ba...   \n",
              "44578           2160  Fendi Vintage Tobacco FF Zucca Canvas Leather ...   \n",
              "\n",
              "        Token  Tag  \n",
              "44574  Zipper  NaN  \n",
              "44575  Zipper  NaN  \n",
              "44576  Zipper  NaN  \n",
              "44577   Zucca  NaN  \n",
              "44578   Zucca  NaN  "
            ],
            "text/html": [
              "\n",
              "  <div id=\"df-47b20934-1a83-42d5-83df-0b0d95b9b520\">\n",
              "    <div class=\"colab-df-container\">\n",
              "      <div>\n",
              "<style scoped>\n",
              "    .dataframe tbody tr th:only-of-type {\n",
              "        vertical-align: middle;\n",
              "    }\n",
              "\n",
              "    .dataframe tbody tr th {\n",
              "        vertical-align: top;\n",
              "    }\n",
              "\n",
              "    .dataframe thead th {\n",
              "        text-align: right;\n",
              "    }\n",
              "</style>\n",
              "<table border=\"1\" class=\"dataframe\">\n",
              "  <thead>\n",
              "    <tr style=\"text-align: right;\">\n",
              "      <th></th>\n",
              "      <th>Record Number</th>\n",
              "      <th>Title</th>\n",
              "      <th>Token</th>\n",
              "      <th>Tag</th>\n",
              "    </tr>\n",
              "  </thead>\n",
              "  <tbody>\n",
              "    <tr>\n",
              "      <th>44574</th>\n",
              "      <td>3855</td>\n",
              "      <td>Vintage Women Cross Body Messenger Bag Two Zip...</td>\n",
              "      <td>Zipper</td>\n",
              "      <td>NaN</td>\n",
              "    </tr>\n",
              "    <tr>\n",
              "      <th>44575</th>\n",
              "      <td>823</td>\n",
              "      <td>Double Zipper Recycled Canvas + Leather Should...</td>\n",
              "      <td>Zipper</td>\n",
              "      <td>NaN</td>\n",
              "    </tr>\n",
              "    <tr>\n",
              "      <th>44576</th>\n",
              "      <td>761</td>\n",
              "      <td>Fossil Black Leather Side Pockets Upper Zipper...</td>\n",
              "      <td>Zipper</td>\n",
              "      <td>NaN</td>\n",
              "    </tr>\n",
              "    <tr>\n",
              "      <th>44577</th>\n",
              "      <td>4894</td>\n",
              "      <td>Vintage Fendi Chef Zucca Logo Jacquard Hobo Ba...</td>\n",
              "      <td>Zucca</td>\n",
              "      <td>NaN</td>\n",
              "    </tr>\n",
              "    <tr>\n",
              "      <th>44578</th>\n",
              "      <td>2160</td>\n",
              "      <td>Fendi Vintage Tobacco FF Zucca Canvas Leather ...</td>\n",
              "      <td>Zucca</td>\n",
              "      <td>NaN</td>\n",
              "    </tr>\n",
              "  </tbody>\n",
              "</table>\n",
              "</div>\n",
              "      <button class=\"colab-df-convert\" onclick=\"convertToInteractive('df-47b20934-1a83-42d5-83df-0b0d95b9b520')\"\n",
              "              title=\"Convert this dataframe to an interactive table.\"\n",
              "              style=\"display:none;\">\n",
              "        \n",
              "  <svg xmlns=\"http://www.w3.org/2000/svg\" height=\"24px\"viewBox=\"0 0 24 24\"\n",
              "       width=\"24px\">\n",
              "    <path d=\"M0 0h24v24H0V0z\" fill=\"none\"/>\n",
              "    <path d=\"M18.56 5.44l.94 2.06.94-2.06 2.06-.94-2.06-.94-.94-2.06-.94 2.06-2.06.94zm-11 1L8.5 8.5l.94-2.06 2.06-.94-2.06-.94L8.5 2.5l-.94 2.06-2.06.94zm10 10l.94 2.06.94-2.06 2.06-.94-2.06-.94-.94-2.06-.94 2.06-2.06.94z\"/><path d=\"M17.41 7.96l-1.37-1.37c-.4-.4-.92-.59-1.43-.59-.52 0-1.04.2-1.43.59L10.3 9.45l-7.72 7.72c-.78.78-.78 2.05 0 2.83L4 21.41c.39.39.9.59 1.41.59.51 0 1.02-.2 1.41-.59l7.78-7.78 2.81-2.81c.8-.78.8-2.07 0-2.86zM5.41 20L4 18.59l7.72-7.72 1.47 1.35L5.41 20z\"/>\n",
              "  </svg>\n",
              "      </button>\n",
              "      \n",
              "  <style>\n",
              "    .colab-df-container {\n",
              "      display:flex;\n",
              "      flex-wrap:wrap;\n",
              "      gap: 12px;\n",
              "    }\n",
              "\n",
              "    .colab-df-convert {\n",
              "      background-color: #E8F0FE;\n",
              "      border: none;\n",
              "      border-radius: 50%;\n",
              "      cursor: pointer;\n",
              "      display: none;\n",
              "      fill: #1967D2;\n",
              "      height: 32px;\n",
              "      padding: 0 0 0 0;\n",
              "      width: 32px;\n",
              "    }\n",
              "\n",
              "    .colab-df-convert:hover {\n",
              "      background-color: #E2EBFA;\n",
              "      box-shadow: 0px 1px 2px rgba(60, 64, 67, 0.3), 0px 1px 3px 1px rgba(60, 64, 67, 0.15);\n",
              "      fill: #174EA6;\n",
              "    }\n",
              "\n",
              "    [theme=dark] .colab-df-convert {\n",
              "      background-color: #3B4455;\n",
              "      fill: #D2E3FC;\n",
              "    }\n",
              "\n",
              "    [theme=dark] .colab-df-convert:hover {\n",
              "      background-color: #434B5C;\n",
              "      box-shadow: 0px 1px 3px 1px rgba(0, 0, 0, 0.15);\n",
              "      filter: drop-shadow(0px 1px 2px rgba(0, 0, 0, 0.3));\n",
              "      fill: #FFFFFF;\n",
              "    }\n",
              "  </style>\n",
              "\n",
              "      <script>\n",
              "        const buttonEl =\n",
              "          document.querySelector('#df-47b20934-1a83-42d5-83df-0b0d95b9b520 button.colab-df-convert');\n",
              "        buttonEl.style.display =\n",
              "          google.colab.kernel.accessAllowed ? 'block' : 'none';\n",
              "\n",
              "        async function convertToInteractive(key) {\n",
              "          const element = document.querySelector('#df-47b20934-1a83-42d5-83df-0b0d95b9b520');\n",
              "          const dataTable =\n",
              "            await google.colab.kernel.invokeFunction('convertToInteractive',\n",
              "                                                     [key], {});\n",
              "          if (!dataTable) return;\n",
              "\n",
              "          const docLinkHtml = 'Like what you see? Visit the ' +\n",
              "            '<a target=\"_blank\" href=https://colab.research.google.com/notebooks/data_table.ipynb>data table notebook</a>'\n",
              "            + ' to learn more about interactive tables.';\n",
              "          element.innerHTML = '';\n",
              "          dataTable['output_type'] = 'display_data';\n",
              "          await google.colab.output.renderOutput(dataTable, element);\n",
              "          const docLink = document.createElement('div');\n",
              "          docLink.innerHTML = docLinkHtml;\n",
              "          element.appendChild(docLink);\n",
              "        }\n",
              "      </script>\n",
              "    </div>\n",
              "  </div>\n",
              "  "
            ]
          },
          "metadata": {},
          "execution_count": 10
        }
      ]
    },
    {
      "cell_type": "code",
      "source": [
        "df2 = df_train_actual.sort_values('Title')"
      ],
      "metadata": {
        "id": "DIwP7yPu-Rrs"
      },
      "execution_count": null,
      "outputs": []
    },
    {
      "cell_type": "code",
      "source": [
        "df2.head()"
      ],
      "metadata": {
        "id": "XsKNBEU1_dIu",
        "colab": {
          "base_uri": "https://localhost:8080/",
          "height": 206
        },
        "outputId": "a56a8617-149d-4eb8-de94-198fc02763e3"
      },
      "execution_count": null,
      "outputs": [
        {
          "output_type": "execute_result",
          "data": {
            "text/plain": [
              "       Record Number                                              Title  \\\n",
              "18633           2903   BERGE  WOMEN 'S ITALIAN DESIGNER HANDBAG IN L...   \n",
              "21077           2903   BERGE  WOMEN 'S ITALIAN DESIGNER HANDBAG IN L...   \n",
              "19876           2903   BERGE  WOMEN 'S ITALIAN DESIGNER HANDBAG IN L...   \n",
              "18853           2903   BERGE  WOMEN 'S ITALIAN DESIGNER HANDBAG IN L...   \n",
              "5055            2903   BERGE  WOMEN 'S ITALIAN DESIGNER HANDBAG IN L...   \n",
              "\n",
              "          Token     Tag  \n",
              "18633     COLOR  No Tag  \n",
              "21077       NWT  No Tag  \n",
              "19876        IN  No Tag  \n",
              "18853  DESIGNER  No Tag  \n",
              "5055    HANDBAG    Type  "
            ],
            "text/html": [
              "\n",
              "  <div id=\"df-29fea072-5e98-42e0-ae37-5202f0c8e55b\">\n",
              "    <div class=\"colab-df-container\">\n",
              "      <div>\n",
              "<style scoped>\n",
              "    .dataframe tbody tr th:only-of-type {\n",
              "        vertical-align: middle;\n",
              "    }\n",
              "\n",
              "    .dataframe tbody tr th {\n",
              "        vertical-align: top;\n",
              "    }\n",
              "\n",
              "    .dataframe thead th {\n",
              "        text-align: right;\n",
              "    }\n",
              "</style>\n",
              "<table border=\"1\" class=\"dataframe\">\n",
              "  <thead>\n",
              "    <tr style=\"text-align: right;\">\n",
              "      <th></th>\n",
              "      <th>Record Number</th>\n",
              "      <th>Title</th>\n",
              "      <th>Token</th>\n",
              "      <th>Tag</th>\n",
              "    </tr>\n",
              "  </thead>\n",
              "  <tbody>\n",
              "    <tr>\n",
              "      <th>18633</th>\n",
              "      <td>2903</td>\n",
              "      <td>BERGE  WOMEN 'S ITALIAN DESIGNER HANDBAG IN L...</td>\n",
              "      <td>COLOR</td>\n",
              "      <td>No Tag</td>\n",
              "    </tr>\n",
              "    <tr>\n",
              "      <th>21077</th>\n",
              "      <td>2903</td>\n",
              "      <td>BERGE  WOMEN 'S ITALIAN DESIGNER HANDBAG IN L...</td>\n",
              "      <td>NWT</td>\n",
              "      <td>No Tag</td>\n",
              "    </tr>\n",
              "    <tr>\n",
              "      <th>19876</th>\n",
              "      <td>2903</td>\n",
              "      <td>BERGE  WOMEN 'S ITALIAN DESIGNER HANDBAG IN L...</td>\n",
              "      <td>IN</td>\n",
              "      <td>No Tag</td>\n",
              "    </tr>\n",
              "    <tr>\n",
              "      <th>18853</th>\n",
              "      <td>2903</td>\n",
              "      <td>BERGE  WOMEN 'S ITALIAN DESIGNER HANDBAG IN L...</td>\n",
              "      <td>DESIGNER</td>\n",
              "      <td>No Tag</td>\n",
              "    </tr>\n",
              "    <tr>\n",
              "      <th>5055</th>\n",
              "      <td>2903</td>\n",
              "      <td>BERGE  WOMEN 'S ITALIAN DESIGNER HANDBAG IN L...</td>\n",
              "      <td>HANDBAG</td>\n",
              "      <td>Type</td>\n",
              "    </tr>\n",
              "  </tbody>\n",
              "</table>\n",
              "</div>\n",
              "      <button class=\"colab-df-convert\" onclick=\"convertToInteractive('df-29fea072-5e98-42e0-ae37-5202f0c8e55b')\"\n",
              "              title=\"Convert this dataframe to an interactive table.\"\n",
              "              style=\"display:none;\">\n",
              "        \n",
              "  <svg xmlns=\"http://www.w3.org/2000/svg\" height=\"24px\"viewBox=\"0 0 24 24\"\n",
              "       width=\"24px\">\n",
              "    <path d=\"M0 0h24v24H0V0z\" fill=\"none\"/>\n",
              "    <path d=\"M18.56 5.44l.94 2.06.94-2.06 2.06-.94-2.06-.94-.94-2.06-.94 2.06-2.06.94zm-11 1L8.5 8.5l.94-2.06 2.06-.94-2.06-.94L8.5 2.5l-.94 2.06-2.06.94zm10 10l.94 2.06.94-2.06 2.06-.94-2.06-.94-.94-2.06-.94 2.06-2.06.94z\"/><path d=\"M17.41 7.96l-1.37-1.37c-.4-.4-.92-.59-1.43-.59-.52 0-1.04.2-1.43.59L10.3 9.45l-7.72 7.72c-.78.78-.78 2.05 0 2.83L4 21.41c.39.39.9.59 1.41.59.51 0 1.02-.2 1.41-.59l7.78-7.78 2.81-2.81c.8-.78.8-2.07 0-2.86zM5.41 20L4 18.59l7.72-7.72 1.47 1.35L5.41 20z\"/>\n",
              "  </svg>\n",
              "      </button>\n",
              "      \n",
              "  <style>\n",
              "    .colab-df-container {\n",
              "      display:flex;\n",
              "      flex-wrap:wrap;\n",
              "      gap: 12px;\n",
              "    }\n",
              "\n",
              "    .colab-df-convert {\n",
              "      background-color: #E8F0FE;\n",
              "      border: none;\n",
              "      border-radius: 50%;\n",
              "      cursor: pointer;\n",
              "      display: none;\n",
              "      fill: #1967D2;\n",
              "      height: 32px;\n",
              "      padding: 0 0 0 0;\n",
              "      width: 32px;\n",
              "    }\n",
              "\n",
              "    .colab-df-convert:hover {\n",
              "      background-color: #E2EBFA;\n",
              "      box-shadow: 0px 1px 2px rgba(60, 64, 67, 0.3), 0px 1px 3px 1px rgba(60, 64, 67, 0.15);\n",
              "      fill: #174EA6;\n",
              "    }\n",
              "\n",
              "    [theme=dark] .colab-df-convert {\n",
              "      background-color: #3B4455;\n",
              "      fill: #D2E3FC;\n",
              "    }\n",
              "\n",
              "    [theme=dark] .colab-df-convert:hover {\n",
              "      background-color: #434B5C;\n",
              "      box-shadow: 0px 1px 3px 1px rgba(0, 0, 0, 0.15);\n",
              "      filter: drop-shadow(0px 1px 2px rgba(0, 0, 0, 0.3));\n",
              "      fill: #FFFFFF;\n",
              "    }\n",
              "  </style>\n",
              "\n",
              "      <script>\n",
              "        const buttonEl =\n",
              "          document.querySelector('#df-29fea072-5e98-42e0-ae37-5202f0c8e55b button.colab-df-convert');\n",
              "        buttonEl.style.display =\n",
              "          google.colab.kernel.accessAllowed ? 'block' : 'none';\n",
              "\n",
              "        async function convertToInteractive(key) {\n",
              "          const element = document.querySelector('#df-29fea072-5e98-42e0-ae37-5202f0c8e55b');\n",
              "          const dataTable =\n",
              "            await google.colab.kernel.invokeFunction('convertToInteractive',\n",
              "                                                     [key], {});\n",
              "          if (!dataTable) return;\n",
              "\n",
              "          const docLinkHtml = 'Like what you see? Visit the ' +\n",
              "            '<a target=\"_blank\" href=https://colab.research.google.com/notebooks/data_table.ipynb>data table notebook</a>'\n",
              "            + ' to learn more about interactive tables.';\n",
              "          element.innerHTML = '';\n",
              "          dataTable['output_type'] = 'display_data';\n",
              "          await google.colab.output.renderOutput(dataTable, element);\n",
              "          const docLink = document.createElement('div');\n",
              "          docLink.innerHTML = docLinkHtml;\n",
              "          element.appendChild(docLink);\n",
              "        }\n",
              "      </script>\n",
              "    </div>\n",
              "  </div>\n",
              "  "
            ]
          },
          "metadata": {},
          "execution_count": 12
        }
      ]
    },
    {
      "cell_type": "code",
      "source": [
        "df2['Token'].unique()"
      ],
      "metadata": {
        "id": "-IcitQgQA1IM",
        "colab": {
          "base_uri": "https://localhost:8080/"
        },
        "outputId": "491f58a9-a92e-4a1e-a9c4-bd79e612f43c"
      },
      "execution_count": null,
      "outputs": [
        {
          "output_type": "execute_result",
          "data": {
            "text/plain": [
              "array(['COLOR', 'NWT', 'IN', ..., 'Slick', 'Baekgaard', 'Oversize'],\n",
              "      dtype=object)"
            ]
          },
          "metadata": {},
          "execution_count": 13
        }
      ]
    },
    {
      "cell_type": "code",
      "source": [
        "df2['Tag'].unique()"
      ],
      "metadata": {
        "id": "YcaU8jxU_fpr",
        "colab": {
          "base_uri": "https://localhost:8080/"
        },
        "outputId": "f933667e-2831-4d0b-fb69-b2e1f47849be"
      },
      "execution_count": null,
      "outputs": [
        {
          "output_type": "execute_result",
          "data": {
            "text/plain": [
              "array(['No Tag', 'Type', 'Color', 'Material', 'Style', nan, 'Brand',\n",
              "       'Fabric Type', 'Accents', 'Pattern',\n",
              "       'Country/Region of Manufacture', 'Handle Style', 'Department',\n",
              "       'Occasion', 'Model', 'Features', 'Product Line', 'MPN', 'Size',\n",
              "       'Closure', 'Hardware Material', 'Handle/Strap Material', 'Obscure',\n",
              "       'Character Family', 'Measurement, dimension', 'Theme', 'Character',\n",
              "       'Pocket Type', 'Trim Material', 'Lining Material', 'Season',\n",
              "       'Handle Drop', 'Strap Drop'], dtype=object)"
            ]
          },
          "metadata": {},
          "execution_count": 14
        }
      ]
    },
    {
      "cell_type": "code",
      "source": [
        "#Lets first start with brand\n",
        "\n",
        "df_train_Brand = df_train_actual.loc[df_train_actual['Tag'] == 'Brand']\n",
        "df_train_Brand = df_train_Brand[['Record Number','Title','Token']]\n",
        "df_train_Brand"
      ],
      "metadata": {
        "id": "ufWftjkaWhPW",
        "colab": {
          "base_uri": "https://localhost:8080/",
          "height": 424
        },
        "outputId": "82273a61-892b-444d-e942-2d5c9920f596"
      },
      "execution_count": null,
      "outputs": [
        {
          "output_type": "execute_result",
          "data": {
            "text/plain": [
              "       Record Number                                              Title  \\\n",
              "34498           4975  Thirty one beach easy breezy large tote should...   \n",
              "34499           4105  Defect Thirty One thermal Picnic lunch tote ba...   \n",
              "34500           2173  Thirty one zip top Tall Organizing Utility tot...   \n",
              "34502           4938  Vintage Beaded Envelope Clutch , Blue Beads & ...   \n",
              "34503           4925       A.P.C Sac Havane Bag Black Leather Purse APC   \n",
              "...              ...                                                ...   \n",
              "38277           1272  ZARA NEW WOMAN QUILTED SHOULDER BAG WITH CHAIN...   \n",
              "38278            931  NEW ZARA WHITE FUR BOX CLUTCH HANDBAG SHOULDER...   \n",
              "38279            482  Zelris Women Spring Floral Butterfly Two Tone ...   \n",
              "38280           3701  Zumba Hello Gorgeous Crossbody Bag Tote - Styl...   \n",
              "38281            696  ZZZ Kors Fulton Large Hobo Shoulder Bag Black ...   \n",
              "\n",
              "        Token  \n",
              "34498      31  \n",
              "34499      31  \n",
              "34500      31  \n",
              "34502       &  \n",
              "34503   A.P.C  \n",
              "...       ...  \n",
              "38277    ZARA  \n",
              "38278    ZARA  \n",
              "38279  Zelris  \n",
              "38280   Zumba  \n",
              "38281     ZZZ  \n",
              "\n",
              "[3783 rows x 3 columns]"
            ],
            "text/html": [
              "\n",
              "  <div id=\"df-885c1958-566e-4eb6-a793-c8909633b403\">\n",
              "    <div class=\"colab-df-container\">\n",
              "      <div>\n",
              "<style scoped>\n",
              "    .dataframe tbody tr th:only-of-type {\n",
              "        vertical-align: middle;\n",
              "    }\n",
              "\n",
              "    .dataframe tbody tr th {\n",
              "        vertical-align: top;\n",
              "    }\n",
              "\n",
              "    .dataframe thead th {\n",
              "        text-align: right;\n",
              "    }\n",
              "</style>\n",
              "<table border=\"1\" class=\"dataframe\">\n",
              "  <thead>\n",
              "    <tr style=\"text-align: right;\">\n",
              "      <th></th>\n",
              "      <th>Record Number</th>\n",
              "      <th>Title</th>\n",
              "      <th>Token</th>\n",
              "    </tr>\n",
              "  </thead>\n",
              "  <tbody>\n",
              "    <tr>\n",
              "      <th>34498</th>\n",
              "      <td>4975</td>\n",
              "      <td>Thirty one beach easy breezy large tote should...</td>\n",
              "      <td>31</td>\n",
              "    </tr>\n",
              "    <tr>\n",
              "      <th>34499</th>\n",
              "      <td>4105</td>\n",
              "      <td>Defect Thirty One thermal Picnic lunch tote ba...</td>\n",
              "      <td>31</td>\n",
              "    </tr>\n",
              "    <tr>\n",
              "      <th>34500</th>\n",
              "      <td>2173</td>\n",
              "      <td>Thirty one zip top Tall Organizing Utility tot...</td>\n",
              "      <td>31</td>\n",
              "    </tr>\n",
              "    <tr>\n",
              "      <th>34502</th>\n",
              "      <td>4938</td>\n",
              "      <td>Vintage Beaded Envelope Clutch , Blue Beads &amp; ...</td>\n",
              "      <td>&amp;</td>\n",
              "    </tr>\n",
              "    <tr>\n",
              "      <th>34503</th>\n",
              "      <td>4925</td>\n",
              "      <td>A.P.C Sac Havane Bag Black Leather Purse APC</td>\n",
              "      <td>A.P.C</td>\n",
              "    </tr>\n",
              "    <tr>\n",
              "      <th>...</th>\n",
              "      <td>...</td>\n",
              "      <td>...</td>\n",
              "      <td>...</td>\n",
              "    </tr>\n",
              "    <tr>\n",
              "      <th>38277</th>\n",
              "      <td>1272</td>\n",
              "      <td>ZARA NEW WOMAN QUILTED SHOULDER BAG WITH CHAIN...</td>\n",
              "      <td>ZARA</td>\n",
              "    </tr>\n",
              "    <tr>\n",
              "      <th>38278</th>\n",
              "      <td>931</td>\n",
              "      <td>NEW ZARA WHITE FUR BOX CLUTCH HANDBAG SHOULDER...</td>\n",
              "      <td>ZARA</td>\n",
              "    </tr>\n",
              "    <tr>\n",
              "      <th>38279</th>\n",
              "      <td>482</td>\n",
              "      <td>Zelris Women Spring Floral Butterfly Two Tone ...</td>\n",
              "      <td>Zelris</td>\n",
              "    </tr>\n",
              "    <tr>\n",
              "      <th>38280</th>\n",
              "      <td>3701</td>\n",
              "      <td>Zumba Hello Gorgeous Crossbody Bag Tote - Styl...</td>\n",
              "      <td>Zumba</td>\n",
              "    </tr>\n",
              "    <tr>\n",
              "      <th>38281</th>\n",
              "      <td>696</td>\n",
              "      <td>ZZZ Kors Fulton Large Hobo Shoulder Bag Black ...</td>\n",
              "      <td>ZZZ</td>\n",
              "    </tr>\n",
              "  </tbody>\n",
              "</table>\n",
              "<p>3783 rows × 3 columns</p>\n",
              "</div>\n",
              "      <button class=\"colab-df-convert\" onclick=\"convertToInteractive('df-885c1958-566e-4eb6-a793-c8909633b403')\"\n",
              "              title=\"Convert this dataframe to an interactive table.\"\n",
              "              style=\"display:none;\">\n",
              "        \n",
              "  <svg xmlns=\"http://www.w3.org/2000/svg\" height=\"24px\"viewBox=\"0 0 24 24\"\n",
              "       width=\"24px\">\n",
              "    <path d=\"M0 0h24v24H0V0z\" fill=\"none\"/>\n",
              "    <path d=\"M18.56 5.44l.94 2.06.94-2.06 2.06-.94-2.06-.94-.94-2.06-.94 2.06-2.06.94zm-11 1L8.5 8.5l.94-2.06 2.06-.94-2.06-.94L8.5 2.5l-.94 2.06-2.06.94zm10 10l.94 2.06.94-2.06 2.06-.94-2.06-.94-.94-2.06-.94 2.06-2.06.94z\"/><path d=\"M17.41 7.96l-1.37-1.37c-.4-.4-.92-.59-1.43-.59-.52 0-1.04.2-1.43.59L10.3 9.45l-7.72 7.72c-.78.78-.78 2.05 0 2.83L4 21.41c.39.39.9.59 1.41.59.51 0 1.02-.2 1.41-.59l7.78-7.78 2.81-2.81c.8-.78.8-2.07 0-2.86zM5.41 20L4 18.59l7.72-7.72 1.47 1.35L5.41 20z\"/>\n",
              "  </svg>\n",
              "      </button>\n",
              "      \n",
              "  <style>\n",
              "    .colab-df-container {\n",
              "      display:flex;\n",
              "      flex-wrap:wrap;\n",
              "      gap: 12px;\n",
              "    }\n",
              "\n",
              "    .colab-df-convert {\n",
              "      background-color: #E8F0FE;\n",
              "      border: none;\n",
              "      border-radius: 50%;\n",
              "      cursor: pointer;\n",
              "      display: none;\n",
              "      fill: #1967D2;\n",
              "      height: 32px;\n",
              "      padding: 0 0 0 0;\n",
              "      width: 32px;\n",
              "    }\n",
              "\n",
              "    .colab-df-convert:hover {\n",
              "      background-color: #E2EBFA;\n",
              "      box-shadow: 0px 1px 2px rgba(60, 64, 67, 0.3), 0px 1px 3px 1px rgba(60, 64, 67, 0.15);\n",
              "      fill: #174EA6;\n",
              "    }\n",
              "\n",
              "    [theme=dark] .colab-df-convert {\n",
              "      background-color: #3B4455;\n",
              "      fill: #D2E3FC;\n",
              "    }\n",
              "\n",
              "    [theme=dark] .colab-df-convert:hover {\n",
              "      background-color: #434B5C;\n",
              "      box-shadow: 0px 1px 3px 1px rgba(0, 0, 0, 0.15);\n",
              "      filter: drop-shadow(0px 1px 2px rgba(0, 0, 0, 0.3));\n",
              "      fill: #FFFFFF;\n",
              "    }\n",
              "  </style>\n",
              "\n",
              "      <script>\n",
              "        const buttonEl =\n",
              "          document.querySelector('#df-885c1958-566e-4eb6-a793-c8909633b403 button.colab-df-convert');\n",
              "        buttonEl.style.display =\n",
              "          google.colab.kernel.accessAllowed ? 'block' : 'none';\n",
              "\n",
              "        async function convertToInteractive(key) {\n",
              "          const element = document.querySelector('#df-885c1958-566e-4eb6-a793-c8909633b403');\n",
              "          const dataTable =\n",
              "            await google.colab.kernel.invokeFunction('convertToInteractive',\n",
              "                                                     [key], {});\n",
              "          if (!dataTable) return;\n",
              "\n",
              "          const docLinkHtml = 'Like what you see? Visit the ' +\n",
              "            '<a target=\"_blank\" href=https://colab.research.google.com/notebooks/data_table.ipynb>data table notebook</a>'\n",
              "            + ' to learn more about interactive tables.';\n",
              "          element.innerHTML = '';\n",
              "          dataTable['output_type'] = 'display_data';\n",
              "          await google.colab.output.renderOutput(dataTable, element);\n",
              "          const docLink = document.createElement('div');\n",
              "          docLink.innerHTML = docLinkHtml;\n",
              "          element.appendChild(docLink);\n",
              "        }\n",
              "      </script>\n",
              "    </div>\n",
              "  </div>\n",
              "  "
            ]
          },
          "metadata": {},
          "execution_count": 15
        }
      ]
    },
    {
      "cell_type": "code",
      "source": [
        "import pandas as pd\n",
        "import numpy as np\n",
        "import json\n",
        "import matplotlib.pyplot as plt\n",
        "# Code for spacy V3\n",
        "from spacy.tokens import DocBin\n",
        "import srsly\n",
        "import spacy\n",
        "import spacy\n",
        "from spacy.training import offsets_to_biluo_tags"
      ],
      "metadata": {
        "id": "KGQTlNti17jR"
      },
      "execution_count": null,
      "outputs": []
    },
    {
      "cell_type": "code",
      "source": [
        "pip install -U spacy"
      ],
      "metadata": {
        "colab": {
          "base_uri": "https://localhost:8080/",
          "height": 875
        },
        "id": "SJsoA-Zx5rcI",
        "outputId": "e47731cf-44a8-4705-db30-91ee500d3247"
      },
      "execution_count": null,
      "outputs": [
        {
          "output_type": "stream",
          "name": "stdout",
          "text": [
            "Looking in indexes: https://pypi.org/simple, https://us-python.pkg.dev/colab-wheels/public/simple/\n",
            "Requirement already satisfied: spacy in /usr/local/lib/python3.7/dist-packages (3.4.2)\n",
            "Collecting spacy\n",
            "  Downloading spacy-3.4.3-cp37-cp37m-manylinux_2_17_x86_64.manylinux2014_x86_64.whl (6.4 MB)\n",
            "\u001b[K     |████████████████████████████████| 6.4 MB 20.9 MB/s \n",
            "\u001b[?25hRequirement already satisfied: cymem<2.1.0,>=2.0.2 in /usr/local/lib/python3.7/dist-packages (from spacy) (2.0.7)\n",
            "Requirement already satisfied: srsly<3.0.0,>=2.4.3 in /usr/local/lib/python3.7/dist-packages (from spacy) (2.4.5)\n",
            "Requirement already satisfied: typer<0.8.0,>=0.3.0 in /usr/local/lib/python3.7/dist-packages (from spacy) (0.4.2)\n",
            "Requirement already satisfied: packaging>=20.0 in /usr/local/lib/python3.7/dist-packages (from spacy) (21.3)\n",
            "Requirement already satisfied: thinc<8.2.0,>=8.1.0 in /usr/local/lib/python3.7/dist-packages (from spacy) (8.1.5)\n",
            "Requirement already satisfied: catalogue<2.1.0,>=2.0.6 in /usr/local/lib/python3.7/dist-packages (from spacy) (2.0.8)\n",
            "Requirement already satisfied: tqdm<5.0.0,>=4.38.0 in /usr/local/lib/python3.7/dist-packages (from spacy) (4.64.1)\n",
            "Requirement already satisfied: wasabi<1.1.0,>=0.9.1 in /usr/local/lib/python3.7/dist-packages (from spacy) (0.10.1)\n",
            "Requirement already satisfied: typing-extensions<4.2.0,>=3.7.4 in /usr/local/lib/python3.7/dist-packages (from spacy) (4.1.1)\n",
            "Requirement already satisfied: spacy-legacy<3.1.0,>=3.0.10 in /usr/local/lib/python3.7/dist-packages (from spacy) (3.0.10)\n",
            "Requirement already satisfied: requests<3.0.0,>=2.13.0 in /usr/local/lib/python3.7/dist-packages (from spacy) (2.23.0)\n",
            "Requirement already satisfied: pathy>=0.3.5 in /usr/local/lib/python3.7/dist-packages (from spacy) (0.6.2)\n",
            "Requirement already satisfied: murmurhash<1.1.0,>=0.28.0 in /usr/local/lib/python3.7/dist-packages (from spacy) (1.0.9)\n",
            "Requirement already satisfied: numpy>=1.15.0 in /usr/local/lib/python3.7/dist-packages (from spacy) (1.21.6)\n",
            "Requirement already satisfied: pydantic!=1.8,!=1.8.1,<1.11.0,>=1.7.4 in /usr/local/lib/python3.7/dist-packages (from spacy) (1.10.2)\n",
            "Requirement already satisfied: langcodes<4.0.0,>=3.2.0 in /usr/local/lib/python3.7/dist-packages (from spacy) (3.3.0)\n",
            "Requirement already satisfied: preshed<3.1.0,>=3.0.2 in /usr/local/lib/python3.7/dist-packages (from spacy) (3.0.8)\n",
            "Requirement already satisfied: spacy-loggers<2.0.0,>=1.0.0 in /usr/local/lib/python3.7/dist-packages (from spacy) (1.0.3)\n",
            "Requirement already satisfied: jinja2 in /usr/local/lib/python3.7/dist-packages (from spacy) (2.11.3)\n",
            "Requirement already satisfied: setuptools in /usr/local/lib/python3.7/dist-packages (from spacy) (57.4.0)\n",
            "Requirement already satisfied: zipp>=0.5 in /usr/local/lib/python3.7/dist-packages (from catalogue<2.1.0,>=2.0.6->spacy) (3.10.0)\n",
            "Requirement already satisfied: pyparsing!=3.0.5,>=2.0.2 in /usr/local/lib/python3.7/dist-packages (from packaging>=20.0->spacy) (3.0.9)\n",
            "Requirement already satisfied: smart-open<6.0.0,>=5.2.1 in /usr/local/lib/python3.7/dist-packages (from pathy>=0.3.5->spacy) (5.2.1)\n",
            "Requirement already satisfied: chardet<4,>=3.0.2 in /usr/local/lib/python3.7/dist-packages (from requests<3.0.0,>=2.13.0->spacy) (3.0.4)\n",
            "Requirement already satisfied: certifi>=2017.4.17 in /usr/local/lib/python3.7/dist-packages (from requests<3.0.0,>=2.13.0->spacy) (2022.9.24)\n",
            "Requirement already satisfied: idna<3,>=2.5 in /usr/local/lib/python3.7/dist-packages (from requests<3.0.0,>=2.13.0->spacy) (2.10)\n",
            "Requirement already satisfied: urllib3!=1.25.0,!=1.25.1,<1.26,>=1.21.1 in /usr/local/lib/python3.7/dist-packages (from requests<3.0.0,>=2.13.0->spacy) (1.24.3)\n",
            "Requirement already satisfied: blis<0.8.0,>=0.7.8 in /usr/local/lib/python3.7/dist-packages (from thinc<8.2.0,>=8.1.0->spacy) (0.7.9)\n",
            "Requirement already satisfied: confection<1.0.0,>=0.0.1 in /usr/local/lib/python3.7/dist-packages (from thinc<8.2.0,>=8.1.0->spacy) (0.0.3)\n",
            "Requirement already satisfied: click<9.0.0,>=7.1.1 in /usr/local/lib/python3.7/dist-packages (from typer<0.8.0,>=0.3.0->spacy) (7.1.2)\n",
            "Requirement already satisfied: MarkupSafe>=0.23 in /usr/local/lib/python3.7/dist-packages (from jinja2->spacy) (2.0.1)\n",
            "Installing collected packages: spacy\n",
            "  Attempting uninstall: spacy\n",
            "    Found existing installation: spacy 3.4.2\n",
            "    Uninstalling spacy-3.4.2:\n",
            "      Successfully uninstalled spacy-3.4.2\n",
            "Successfully installed spacy-3.4.3\n"
          ]
        },
        {
          "output_type": "display_data",
          "data": {
            "application/vnd.colab-display-data+json": {
              "pip_warning": {
                "packages": [
                  "spacy"
                ]
              }
            }
          },
          "metadata": {}
        }
      ]
    },
    {
      "cell_type": "code",
      "source": [
        "nlp = spacy.load('en_core_web_sm')\n"
      ],
      "metadata": {
        "id": "UGcvJC6Q6y97"
      },
      "execution_count": null,
      "outputs": []
    },
    {
      "cell_type": "code",
      "source": [
        "df_train_Brand.shape"
      ],
      "metadata": {
        "colab": {
          "base_uri": "https://localhost:8080/"
        },
        "id": "0Y2-Wjy-A0SA",
        "outputId": "62e7b245-92e6-456a-bcd2-68dfccb16613"
      },
      "execution_count": null,
      "outputs": [
        {
          "output_type": "execute_result",
          "data": {
            "text/plain": [
              "(3783, 3)"
            ]
          },
          "metadata": {},
          "execution_count": 19
        }
      ]
    },
    {
      "cell_type": "code",
      "source": [
        "idx_train = 3000\n",
        "idx_dev = 3400\n",
        "idx_test = 3783\n",
        "\n",
        "\n",
        "train = df_train_Brand.iloc[:idx_train,:]\n",
        "dev = df_train_Brand.iloc[idx_train:idx_dev]\n",
        "test = df_train_Brand.iloc[idx_dev:]"
      ],
      "metadata": {
        "id": "CGChHSjQ66Nw"
      },
      "execution_count": null,
      "outputs": []
    },
    {
      "cell_type": "code",
      "source": [
        "train"
      ],
      "metadata": {
        "colab": {
          "base_uri": "https://localhost:8080/",
          "height": 424
        },
        "id": "3oZhUVEvBJEf",
        "outputId": "214ea040-311a-421f-92b6-3eb62d82e5b4"
      },
      "execution_count": null,
      "outputs": [
        {
          "output_type": "execute_result",
          "data": {
            "text/plain": [
              "       Record Number                                              Title  \\\n",
              "34498           4975  Thirty one beach easy breezy large tote should...   \n",
              "34499           4105  Defect Thirty One thermal Picnic lunch tote ba...   \n",
              "34500           2173  Thirty one zip top Tall Organizing Utility tot...   \n",
              "34502           4938  Vintage Beaded Envelope Clutch , Blue Beads & ...   \n",
              "34503           4925       A.P.C Sac Havane Bag Black Leather Purse APC   \n",
              "...              ...                                                ...   \n",
              "37494           2838  Louis Vuitton Speedy 25 Urs Fischer White Blac...   \n",
              "37495           3733  MACRAME Handbag HOBO Purse Tote Bamboo Handles...   \n",
              "37496           1740  Madewell Medium Canvas Transport Tote In Ivory...   \n",
              "37497            640  MADISON SMALL WRISTLET IN OCELOT PRINT FABRIC ...   \n",
              "37498           3162  MAISON MARGIELA CHAMELEON Glam Slam Shoulder B...   \n",
              "\n",
              "          Token  \n",
              "34498        31  \n",
              "34499        31  \n",
              "34500        31  \n",
              "34502         &  \n",
              "34503     A.P.C  \n",
              "...         ...  \n",
              "37494     LVxUF  \n",
              "37495   MACRAME  \n",
              "37496  Madewell  \n",
              "37497   MADISON  \n",
              "37498    MAISON  \n",
              "\n",
              "[3000 rows x 3 columns]"
            ],
            "text/html": [
              "\n",
              "  <div id=\"df-cfea38bb-40ef-45f3-ac95-ce2ede4dca72\">\n",
              "    <div class=\"colab-df-container\">\n",
              "      <div>\n",
              "<style scoped>\n",
              "    .dataframe tbody tr th:only-of-type {\n",
              "        vertical-align: middle;\n",
              "    }\n",
              "\n",
              "    .dataframe tbody tr th {\n",
              "        vertical-align: top;\n",
              "    }\n",
              "\n",
              "    .dataframe thead th {\n",
              "        text-align: right;\n",
              "    }\n",
              "</style>\n",
              "<table border=\"1\" class=\"dataframe\">\n",
              "  <thead>\n",
              "    <tr style=\"text-align: right;\">\n",
              "      <th></th>\n",
              "      <th>Record Number</th>\n",
              "      <th>Title</th>\n",
              "      <th>Token</th>\n",
              "    </tr>\n",
              "  </thead>\n",
              "  <tbody>\n",
              "    <tr>\n",
              "      <th>34498</th>\n",
              "      <td>4975</td>\n",
              "      <td>Thirty one beach easy breezy large tote should...</td>\n",
              "      <td>31</td>\n",
              "    </tr>\n",
              "    <tr>\n",
              "      <th>34499</th>\n",
              "      <td>4105</td>\n",
              "      <td>Defect Thirty One thermal Picnic lunch tote ba...</td>\n",
              "      <td>31</td>\n",
              "    </tr>\n",
              "    <tr>\n",
              "      <th>34500</th>\n",
              "      <td>2173</td>\n",
              "      <td>Thirty one zip top Tall Organizing Utility tot...</td>\n",
              "      <td>31</td>\n",
              "    </tr>\n",
              "    <tr>\n",
              "      <th>34502</th>\n",
              "      <td>4938</td>\n",
              "      <td>Vintage Beaded Envelope Clutch , Blue Beads &amp; ...</td>\n",
              "      <td>&amp;</td>\n",
              "    </tr>\n",
              "    <tr>\n",
              "      <th>34503</th>\n",
              "      <td>4925</td>\n",
              "      <td>A.P.C Sac Havane Bag Black Leather Purse APC</td>\n",
              "      <td>A.P.C</td>\n",
              "    </tr>\n",
              "    <tr>\n",
              "      <th>...</th>\n",
              "      <td>...</td>\n",
              "      <td>...</td>\n",
              "      <td>...</td>\n",
              "    </tr>\n",
              "    <tr>\n",
              "      <th>37494</th>\n",
              "      <td>2838</td>\n",
              "      <td>Louis Vuitton Speedy 25 Urs Fischer White Blac...</td>\n",
              "      <td>LVxUF</td>\n",
              "    </tr>\n",
              "    <tr>\n",
              "      <th>37495</th>\n",
              "      <td>3733</td>\n",
              "      <td>MACRAME Handbag HOBO Purse Tote Bamboo Handles...</td>\n",
              "      <td>MACRAME</td>\n",
              "    </tr>\n",
              "    <tr>\n",
              "      <th>37496</th>\n",
              "      <td>1740</td>\n",
              "      <td>Madewell Medium Canvas Transport Tote In Ivory...</td>\n",
              "      <td>Madewell</td>\n",
              "    </tr>\n",
              "    <tr>\n",
              "      <th>37497</th>\n",
              "      <td>640</td>\n",
              "      <td>MADISON SMALL WRISTLET IN OCELOT PRINT FABRIC ...</td>\n",
              "      <td>MADISON</td>\n",
              "    </tr>\n",
              "    <tr>\n",
              "      <th>37498</th>\n",
              "      <td>3162</td>\n",
              "      <td>MAISON MARGIELA CHAMELEON Glam Slam Shoulder B...</td>\n",
              "      <td>MAISON</td>\n",
              "    </tr>\n",
              "  </tbody>\n",
              "</table>\n",
              "<p>3000 rows × 3 columns</p>\n",
              "</div>\n",
              "      <button class=\"colab-df-convert\" onclick=\"convertToInteractive('df-cfea38bb-40ef-45f3-ac95-ce2ede4dca72')\"\n",
              "              title=\"Convert this dataframe to an interactive table.\"\n",
              "              style=\"display:none;\">\n",
              "        \n",
              "  <svg xmlns=\"http://www.w3.org/2000/svg\" height=\"24px\"viewBox=\"0 0 24 24\"\n",
              "       width=\"24px\">\n",
              "    <path d=\"M0 0h24v24H0V0z\" fill=\"none\"/>\n",
              "    <path d=\"M18.56 5.44l.94 2.06.94-2.06 2.06-.94-2.06-.94-.94-2.06-.94 2.06-2.06.94zm-11 1L8.5 8.5l.94-2.06 2.06-.94-2.06-.94L8.5 2.5l-.94 2.06-2.06.94zm10 10l.94 2.06.94-2.06 2.06-.94-2.06-.94-.94-2.06-.94 2.06-2.06.94z\"/><path d=\"M17.41 7.96l-1.37-1.37c-.4-.4-.92-.59-1.43-.59-.52 0-1.04.2-1.43.59L10.3 9.45l-7.72 7.72c-.78.78-.78 2.05 0 2.83L4 21.41c.39.39.9.59 1.41.59.51 0 1.02-.2 1.41-.59l7.78-7.78 2.81-2.81c.8-.78.8-2.07 0-2.86zM5.41 20L4 18.59l7.72-7.72 1.47 1.35L5.41 20z\"/>\n",
              "  </svg>\n",
              "      </button>\n",
              "      \n",
              "  <style>\n",
              "    .colab-df-container {\n",
              "      display:flex;\n",
              "      flex-wrap:wrap;\n",
              "      gap: 12px;\n",
              "    }\n",
              "\n",
              "    .colab-df-convert {\n",
              "      background-color: #E8F0FE;\n",
              "      border: none;\n",
              "      border-radius: 50%;\n",
              "      cursor: pointer;\n",
              "      display: none;\n",
              "      fill: #1967D2;\n",
              "      height: 32px;\n",
              "      padding: 0 0 0 0;\n",
              "      width: 32px;\n",
              "    }\n",
              "\n",
              "    .colab-df-convert:hover {\n",
              "      background-color: #E2EBFA;\n",
              "      box-shadow: 0px 1px 2px rgba(60, 64, 67, 0.3), 0px 1px 3px 1px rgba(60, 64, 67, 0.15);\n",
              "      fill: #174EA6;\n",
              "    }\n",
              "\n",
              "    [theme=dark] .colab-df-convert {\n",
              "      background-color: #3B4455;\n",
              "      fill: #D2E3FC;\n",
              "    }\n",
              "\n",
              "    [theme=dark] .colab-df-convert:hover {\n",
              "      background-color: #434B5C;\n",
              "      box-shadow: 0px 1px 3px 1px rgba(0, 0, 0, 0.15);\n",
              "      filter: drop-shadow(0px 1px 2px rgba(0, 0, 0, 0.3));\n",
              "      fill: #FFFFFF;\n",
              "    }\n",
              "  </style>\n",
              "\n",
              "      <script>\n",
              "        const buttonEl =\n",
              "          document.querySelector('#df-cfea38bb-40ef-45f3-ac95-ce2ede4dca72 button.colab-df-convert');\n",
              "        buttonEl.style.display =\n",
              "          google.colab.kernel.accessAllowed ? 'block' : 'none';\n",
              "\n",
              "        async function convertToInteractive(key) {\n",
              "          const element = document.querySelector('#df-cfea38bb-40ef-45f3-ac95-ce2ede4dca72');\n",
              "          const dataTable =\n",
              "            await google.colab.kernel.invokeFunction('convertToInteractive',\n",
              "                                                     [key], {});\n",
              "          if (!dataTable) return;\n",
              "\n",
              "          const docLinkHtml = 'Like what you see? Visit the ' +\n",
              "            '<a target=\"_blank\" href=https://colab.research.google.com/notebooks/data_table.ipynb>data table notebook</a>'\n",
              "            + ' to learn more about interactive tables.';\n",
              "          element.innerHTML = '';\n",
              "          dataTable['output_type'] = 'display_data';\n",
              "          await google.colab.output.renderOutput(dataTable, element);\n",
              "          const docLink = document.createElement('div');\n",
              "          docLink.innerHTML = docLinkHtml;\n",
              "          element.appendChild(docLink);\n",
              "        }\n",
              "      </script>\n",
              "    </div>\n",
              "  </div>\n",
              "  "
            ]
          },
          "metadata": {},
          "execution_count": 21
        }
      ]
    },
    {
      "cell_type": "code",
      "source": [
        "test.head()"
      ],
      "metadata": {
        "colab": {
          "base_uri": "https://localhost:8080/",
          "height": 206
        },
        "id": "wl1-SA_qBMxk",
        "outputId": "3495a3e7-6e84-4044-c842-10feb88d50c1"
      },
      "execution_count": null,
      "outputs": [
        {
          "output_type": "execute_result",
          "data": {
            "text/plain": [
              "       Record Number                                              Title  Token\n",
              "37899           3417  $ 178 RALPH LAUREN PRESPRING 19 OP BROWN BLACK...  RALPH\n",
              "37900           2977  Polo Ralph Lauren Organic Cotton Canvas Big Po...  Ralph\n",
              "37901           2652  Ralph Lauren Saffiano Leather Crossbody Phone ...  Ralph\n",
              "37902           1177  Ralph Lauren Purple Label Haircalf Zebra Chain...  Ralph\n",
              "37903            353  RANI GOLDEN VELVET box CLUTCH PURSE Hard Case ...   RANI"
            ],
            "text/html": [
              "\n",
              "  <div id=\"df-9d50cc27-4207-415e-b160-301b60b94f3c\">\n",
              "    <div class=\"colab-df-container\">\n",
              "      <div>\n",
              "<style scoped>\n",
              "    .dataframe tbody tr th:only-of-type {\n",
              "        vertical-align: middle;\n",
              "    }\n",
              "\n",
              "    .dataframe tbody tr th {\n",
              "        vertical-align: top;\n",
              "    }\n",
              "\n",
              "    .dataframe thead th {\n",
              "        text-align: right;\n",
              "    }\n",
              "</style>\n",
              "<table border=\"1\" class=\"dataframe\">\n",
              "  <thead>\n",
              "    <tr style=\"text-align: right;\">\n",
              "      <th></th>\n",
              "      <th>Record Number</th>\n",
              "      <th>Title</th>\n",
              "      <th>Token</th>\n",
              "    </tr>\n",
              "  </thead>\n",
              "  <tbody>\n",
              "    <tr>\n",
              "      <th>37899</th>\n",
              "      <td>3417</td>\n",
              "      <td>$ 178 RALPH LAUREN PRESPRING 19 OP BROWN BLACK...</td>\n",
              "      <td>RALPH</td>\n",
              "    </tr>\n",
              "    <tr>\n",
              "      <th>37900</th>\n",
              "      <td>2977</td>\n",
              "      <td>Polo Ralph Lauren Organic Cotton Canvas Big Po...</td>\n",
              "      <td>Ralph</td>\n",
              "    </tr>\n",
              "    <tr>\n",
              "      <th>37901</th>\n",
              "      <td>2652</td>\n",
              "      <td>Ralph Lauren Saffiano Leather Crossbody Phone ...</td>\n",
              "      <td>Ralph</td>\n",
              "    </tr>\n",
              "    <tr>\n",
              "      <th>37902</th>\n",
              "      <td>1177</td>\n",
              "      <td>Ralph Lauren Purple Label Haircalf Zebra Chain...</td>\n",
              "      <td>Ralph</td>\n",
              "    </tr>\n",
              "    <tr>\n",
              "      <th>37903</th>\n",
              "      <td>353</td>\n",
              "      <td>RANI GOLDEN VELVET box CLUTCH PURSE Hard Case ...</td>\n",
              "      <td>RANI</td>\n",
              "    </tr>\n",
              "  </tbody>\n",
              "</table>\n",
              "</div>\n",
              "      <button class=\"colab-df-convert\" onclick=\"convertToInteractive('df-9d50cc27-4207-415e-b160-301b60b94f3c')\"\n",
              "              title=\"Convert this dataframe to an interactive table.\"\n",
              "              style=\"display:none;\">\n",
              "        \n",
              "  <svg xmlns=\"http://www.w3.org/2000/svg\" height=\"24px\"viewBox=\"0 0 24 24\"\n",
              "       width=\"24px\">\n",
              "    <path d=\"M0 0h24v24H0V0z\" fill=\"none\"/>\n",
              "    <path d=\"M18.56 5.44l.94 2.06.94-2.06 2.06-.94-2.06-.94-.94-2.06-.94 2.06-2.06.94zm-11 1L8.5 8.5l.94-2.06 2.06-.94-2.06-.94L8.5 2.5l-.94 2.06-2.06.94zm10 10l.94 2.06.94-2.06 2.06-.94-2.06-.94-.94-2.06-.94 2.06-2.06.94z\"/><path d=\"M17.41 7.96l-1.37-1.37c-.4-.4-.92-.59-1.43-.59-.52 0-1.04.2-1.43.59L10.3 9.45l-7.72 7.72c-.78.78-.78 2.05 0 2.83L4 21.41c.39.39.9.59 1.41.59.51 0 1.02-.2 1.41-.59l7.78-7.78 2.81-2.81c.8-.78.8-2.07 0-2.86zM5.41 20L4 18.59l7.72-7.72 1.47 1.35L5.41 20z\"/>\n",
              "  </svg>\n",
              "      </button>\n",
              "      \n",
              "  <style>\n",
              "    .colab-df-container {\n",
              "      display:flex;\n",
              "      flex-wrap:wrap;\n",
              "      gap: 12px;\n",
              "    }\n",
              "\n",
              "    .colab-df-convert {\n",
              "      background-color: #E8F0FE;\n",
              "      border: none;\n",
              "      border-radius: 50%;\n",
              "      cursor: pointer;\n",
              "      display: none;\n",
              "      fill: #1967D2;\n",
              "      height: 32px;\n",
              "      padding: 0 0 0 0;\n",
              "      width: 32px;\n",
              "    }\n",
              "\n",
              "    .colab-df-convert:hover {\n",
              "      background-color: #E2EBFA;\n",
              "      box-shadow: 0px 1px 2px rgba(60, 64, 67, 0.3), 0px 1px 3px 1px rgba(60, 64, 67, 0.15);\n",
              "      fill: #174EA6;\n",
              "    }\n",
              "\n",
              "    [theme=dark] .colab-df-convert {\n",
              "      background-color: #3B4455;\n",
              "      fill: #D2E3FC;\n",
              "    }\n",
              "\n",
              "    [theme=dark] .colab-df-convert:hover {\n",
              "      background-color: #434B5C;\n",
              "      box-shadow: 0px 1px 3px 1px rgba(0, 0, 0, 0.15);\n",
              "      filter: drop-shadow(0px 1px 2px rgba(0, 0, 0, 0.3));\n",
              "      fill: #FFFFFF;\n",
              "    }\n",
              "  </style>\n",
              "\n",
              "      <script>\n",
              "        const buttonEl =\n",
              "          document.querySelector('#df-9d50cc27-4207-415e-b160-301b60b94f3c button.colab-df-convert');\n",
              "        buttonEl.style.display =\n",
              "          google.colab.kernel.accessAllowed ? 'block' : 'none';\n",
              "\n",
              "        async function convertToInteractive(key) {\n",
              "          const element = document.querySelector('#df-9d50cc27-4207-415e-b160-301b60b94f3c');\n",
              "          const dataTable =\n",
              "            await google.colab.kernel.invokeFunction('convertToInteractive',\n",
              "                                                     [key], {});\n",
              "          if (!dataTable) return;\n",
              "\n",
              "          const docLinkHtml = 'Like what you see? Visit the ' +\n",
              "            '<a target=\"_blank\" href=https://colab.research.google.com/notebooks/data_table.ipynb>data table notebook</a>'\n",
              "            + ' to learn more about interactive tables.';\n",
              "          element.innerHTML = '';\n",
              "          dataTable['output_type'] = 'display_data';\n",
              "          await google.colab.output.renderOutput(dataTable, element);\n",
              "          const docLink = document.createElement('div');\n",
              "          docLink.innerHTML = docLinkHtml;\n",
              "          element.appendChild(docLink);\n",
              "        }\n",
              "      </script>\n",
              "    </div>\n",
              "  </div>\n",
              "  "
            ]
          },
          "metadata": {},
          "execution_count": 22
        }
      ]
    },
    {
      "cell_type": "code",
      "source": [
        "train.dropna()\n",
        "test.dropna()\n",
        "dev.dropna()"
      ],
      "metadata": {
        "colab": {
          "base_uri": "https://localhost:8080/",
          "height": 424
        },
        "id": "aJOh4pGWHylN",
        "outputId": "5e44be99-4dd7-471f-cb81-f279679e8e66"
      },
      "execution_count": null,
      "outputs": [
        {
          "output_type": "execute_result",
          "data": {
            "text/plain": [
              "       Record Number                                              Title  \\\n",
              "37499           4279  Mansur Gavriel Womens Balloon Bag - Dusty Rose...   \n",
              "37500           4835  MARC JACOBS LIME GREEN LEATHER ZIP CLOSURE BUC...   \n",
              "37501           4761  NWT Marc Jacobs The MINI SQUEEZE Half-Moon Cro...   \n",
              "37502           4352  Marc by Marc Jacobs Classic Q Francesca Black ...   \n",
              "37503           4313  Marc By Marc Jacobs Q Natasha Workwear Black L...   \n",
              "...              ...                                                ...   \n",
              "37894           2473  New RADLEY LONDON Charleston Medium Quilted Cr...   \n",
              "37895           1402  Radley London Crossbody All Aboard Train Stati...   \n",
              "37896            639  New Radley London Abbotsford open top leather ...   \n",
              "37897            376  New Radley London Abbotsford open top leather ...   \n",
              "37898           3909  RALPH LAUREN Vtg 80 's Blue Floral Leather Spe...   \n",
              "\n",
              "        Token  \n",
              "37499  Mansur  \n",
              "37500    MARC  \n",
              "37501    Marc  \n",
              "37502    Marc  \n",
              "37503    Marc  \n",
              "...       ...  \n",
              "37894  RADLEY  \n",
              "37895  Radley  \n",
              "37896  Radley  \n",
              "37897  Radley  \n",
              "37898   RALPH  \n",
              "\n",
              "[400 rows x 3 columns]"
            ],
            "text/html": [
              "\n",
              "  <div id=\"df-fd59a556-aeab-439b-9f13-59ea5ef4773f\">\n",
              "    <div class=\"colab-df-container\">\n",
              "      <div>\n",
              "<style scoped>\n",
              "    .dataframe tbody tr th:only-of-type {\n",
              "        vertical-align: middle;\n",
              "    }\n",
              "\n",
              "    .dataframe tbody tr th {\n",
              "        vertical-align: top;\n",
              "    }\n",
              "\n",
              "    .dataframe thead th {\n",
              "        text-align: right;\n",
              "    }\n",
              "</style>\n",
              "<table border=\"1\" class=\"dataframe\">\n",
              "  <thead>\n",
              "    <tr style=\"text-align: right;\">\n",
              "      <th></th>\n",
              "      <th>Record Number</th>\n",
              "      <th>Title</th>\n",
              "      <th>Token</th>\n",
              "    </tr>\n",
              "  </thead>\n",
              "  <tbody>\n",
              "    <tr>\n",
              "      <th>37499</th>\n",
              "      <td>4279</td>\n",
              "      <td>Mansur Gavriel Womens Balloon Bag - Dusty Rose...</td>\n",
              "      <td>Mansur</td>\n",
              "    </tr>\n",
              "    <tr>\n",
              "      <th>37500</th>\n",
              "      <td>4835</td>\n",
              "      <td>MARC JACOBS LIME GREEN LEATHER ZIP CLOSURE BUC...</td>\n",
              "      <td>MARC</td>\n",
              "    </tr>\n",
              "    <tr>\n",
              "      <th>37501</th>\n",
              "      <td>4761</td>\n",
              "      <td>NWT Marc Jacobs The MINI SQUEEZE Half-Moon Cro...</td>\n",
              "      <td>Marc</td>\n",
              "    </tr>\n",
              "    <tr>\n",
              "      <th>37502</th>\n",
              "      <td>4352</td>\n",
              "      <td>Marc by Marc Jacobs Classic Q Francesca Black ...</td>\n",
              "      <td>Marc</td>\n",
              "    </tr>\n",
              "    <tr>\n",
              "      <th>37503</th>\n",
              "      <td>4313</td>\n",
              "      <td>Marc By Marc Jacobs Q Natasha Workwear Black L...</td>\n",
              "      <td>Marc</td>\n",
              "    </tr>\n",
              "    <tr>\n",
              "      <th>...</th>\n",
              "      <td>...</td>\n",
              "      <td>...</td>\n",
              "      <td>...</td>\n",
              "    </tr>\n",
              "    <tr>\n",
              "      <th>37894</th>\n",
              "      <td>2473</td>\n",
              "      <td>New RADLEY LONDON Charleston Medium Quilted Cr...</td>\n",
              "      <td>RADLEY</td>\n",
              "    </tr>\n",
              "    <tr>\n",
              "      <th>37895</th>\n",
              "      <td>1402</td>\n",
              "      <td>Radley London Crossbody All Aboard Train Stati...</td>\n",
              "      <td>Radley</td>\n",
              "    </tr>\n",
              "    <tr>\n",
              "      <th>37896</th>\n",
              "      <td>639</td>\n",
              "      <td>New Radley London Abbotsford open top leather ...</td>\n",
              "      <td>Radley</td>\n",
              "    </tr>\n",
              "    <tr>\n",
              "      <th>37897</th>\n",
              "      <td>376</td>\n",
              "      <td>New Radley London Abbotsford open top leather ...</td>\n",
              "      <td>Radley</td>\n",
              "    </tr>\n",
              "    <tr>\n",
              "      <th>37898</th>\n",
              "      <td>3909</td>\n",
              "      <td>RALPH LAUREN Vtg 80 's Blue Floral Leather Spe...</td>\n",
              "      <td>RALPH</td>\n",
              "    </tr>\n",
              "  </tbody>\n",
              "</table>\n",
              "<p>400 rows × 3 columns</p>\n",
              "</div>\n",
              "      <button class=\"colab-df-convert\" onclick=\"convertToInteractive('df-fd59a556-aeab-439b-9f13-59ea5ef4773f')\"\n",
              "              title=\"Convert this dataframe to an interactive table.\"\n",
              "              style=\"display:none;\">\n",
              "        \n",
              "  <svg xmlns=\"http://www.w3.org/2000/svg\" height=\"24px\"viewBox=\"0 0 24 24\"\n",
              "       width=\"24px\">\n",
              "    <path d=\"M0 0h24v24H0V0z\" fill=\"none\"/>\n",
              "    <path d=\"M18.56 5.44l.94 2.06.94-2.06 2.06-.94-2.06-.94-.94-2.06-.94 2.06-2.06.94zm-11 1L8.5 8.5l.94-2.06 2.06-.94-2.06-.94L8.5 2.5l-.94 2.06-2.06.94zm10 10l.94 2.06.94-2.06 2.06-.94-2.06-.94-.94-2.06-.94 2.06-2.06.94z\"/><path d=\"M17.41 7.96l-1.37-1.37c-.4-.4-.92-.59-1.43-.59-.52 0-1.04.2-1.43.59L10.3 9.45l-7.72 7.72c-.78.78-.78 2.05 0 2.83L4 21.41c.39.39.9.59 1.41.59.51 0 1.02-.2 1.41-.59l7.78-7.78 2.81-2.81c.8-.78.8-2.07 0-2.86zM5.41 20L4 18.59l7.72-7.72 1.47 1.35L5.41 20z\"/>\n",
              "  </svg>\n",
              "      </button>\n",
              "      \n",
              "  <style>\n",
              "    .colab-df-container {\n",
              "      display:flex;\n",
              "      flex-wrap:wrap;\n",
              "      gap: 12px;\n",
              "    }\n",
              "\n",
              "    .colab-df-convert {\n",
              "      background-color: #E8F0FE;\n",
              "      border: none;\n",
              "      border-radius: 50%;\n",
              "      cursor: pointer;\n",
              "      display: none;\n",
              "      fill: #1967D2;\n",
              "      height: 32px;\n",
              "      padding: 0 0 0 0;\n",
              "      width: 32px;\n",
              "    }\n",
              "\n",
              "    .colab-df-convert:hover {\n",
              "      background-color: #E2EBFA;\n",
              "      box-shadow: 0px 1px 2px rgba(60, 64, 67, 0.3), 0px 1px 3px 1px rgba(60, 64, 67, 0.15);\n",
              "      fill: #174EA6;\n",
              "    }\n",
              "\n",
              "    [theme=dark] .colab-df-convert {\n",
              "      background-color: #3B4455;\n",
              "      fill: #D2E3FC;\n",
              "    }\n",
              "\n",
              "    [theme=dark] .colab-df-convert:hover {\n",
              "      background-color: #434B5C;\n",
              "      box-shadow: 0px 1px 3px 1px rgba(0, 0, 0, 0.15);\n",
              "      filter: drop-shadow(0px 1px 2px rgba(0, 0, 0, 0.3));\n",
              "      fill: #FFFFFF;\n",
              "    }\n",
              "  </style>\n",
              "\n",
              "      <script>\n",
              "        const buttonEl =\n",
              "          document.querySelector('#df-fd59a556-aeab-439b-9f13-59ea5ef4773f button.colab-df-convert');\n",
              "        buttonEl.style.display =\n",
              "          google.colab.kernel.accessAllowed ? 'block' : 'none';\n",
              "\n",
              "        async function convertToInteractive(key) {\n",
              "          const element = document.querySelector('#df-fd59a556-aeab-439b-9f13-59ea5ef4773f');\n",
              "          const dataTable =\n",
              "            await google.colab.kernel.invokeFunction('convertToInteractive',\n",
              "                                                     [key], {});\n",
              "          if (!dataTable) return;\n",
              "\n",
              "          const docLinkHtml = 'Like what you see? Visit the ' +\n",
              "            '<a target=\"_blank\" href=https://colab.research.google.com/notebooks/data_table.ipynb>data table notebook</a>'\n",
              "            + ' to learn more about interactive tables.';\n",
              "          element.innerHTML = '';\n",
              "          dataTable['output_type'] = 'display_data';\n",
              "          await google.colab.output.renderOutput(dataTable, element);\n",
              "          const docLink = document.createElement('div');\n",
              "          docLink.innerHTML = docLinkHtml;\n",
              "          element.appendChild(docLink);\n",
              "        }\n",
              "      </script>\n",
              "    </div>\n",
              "  </div>\n",
              "  "
            ]
          },
          "metadata": {},
          "execution_count": 23
        }
      ]
    },
    {
      "cell_type": "code",
      "source": [
        "# Generate a list of [start_char,end_char, label] of given label, tagname is the name of the label\n",
        "# Spacy format : \n",
        "# [('Dell Laptop 3GB',{'entities': [0,4,ORG]}), ('Jackie love Paris',{'entities': [0,6,PERSON]})]\n",
        "def get_start_end_label(title, label, tagname=\"BRAND\"):\n",
        "    title = title.lower()\n",
        "    label = label.lower().strip()\n",
        "    if title.find(label) != -1:\n",
        "        start_index = title.find(label)\n",
        "        last_index = start_index + len(label)\n",
        "        return [start_index,last_index,tagname]\n",
        "    else:\n",
        "        print(title)\n",
        "        print(f\"{label} not found in the given sentence\")"
      ],
      "metadata": {
        "id": "OBQwYyCqBTzz"
      },
      "execution_count": null,
      "outputs": []
    },
    {
      "cell_type": "code",
      "source": [
        "# Generate offset dict\n",
        "ner_training = []\n",
        "for i,row in enumerate(train.itertuples(),1):\n",
        "    title = row.Title\n",
        "    token = row.Token\n",
        "    brand_entity = get_start_end_label(title,token)\n",
        "    train_datapoint = (title,{'entities': brand_entity})\n",
        "    ner_training.append(train_datapoint)\n",
        "with open('Ebay_train_shuffle.json','w') as f:\n",
        "  json.dump(ner_training,f)"
      ],
      "metadata": {
        "colab": {
          "base_uri": "https://localhost:8080/"
        },
        "id": "lLleWaNHB7Pm",
        "outputId": "ea500f42-b86c-412a-81a9-8d7ada54bc57"
      },
      "execution_count": null,
      "outputs": [
        {
          "output_type": "stream",
          "name": "stdout",
          "text": [
            "#name?\n",
            "gucci not found in the given sentence\n"
          ]
        }
      ]
    },
    {
      "cell_type": "code",
      "source": [
        "# Create test datapoints with json format\n",
        "ner_test = []\n",
        "for i,row in enumerate(test.itertuples(),1):\n",
        "    title = row.Title\n",
        "    token = row.Token\n",
        "    brand_entity = get_start_end_label(title,token)\n",
        "    train_datapoint = (title,{'entities': brand_entity})\n",
        "    ner_test.append(train_datapoint)\n",
        "with open('Ebay_test_shuffle.json','w') as f:\n",
        "  json.dump(ner_test,f)"
      ],
      "metadata": {
        "id": "Qx98k9U7EBSW"
      },
      "execution_count": null,
      "outputs": []
    },
    {
      "cell_type": "code",
      "source": [
        "ner_test[0]"
      ],
      "metadata": {
        "colab": {
          "base_uri": "https://localhost:8080/"
        },
        "id": "87xGQM-3ZJGG",
        "outputId": "a1e6ab43-db13-4d6f-b059-db3c3d458c5f"
      },
      "execution_count": null,
      "outputs": [
        {
          "output_type": "execute_result",
          "data": {
            "text/plain": [
              "('$ 178 RALPH LAUREN PRESPRING 19 OP BROWN BLACK PEBBLED LEATHER TOTE SHOULDER BAG',\n",
              " {'entities': [6, 11, 'BRAND']})"
            ]
          },
          "metadata": {},
          "execution_count": 27
        }
      ]
    },
    {
      "cell_type": "code",
      "source": [
        "# Create dev datapoints with json format\n",
        "ner_dev = []\n",
        "for i,row in enumerate(dev.itertuples(),1):\n",
        "    title = row.Title\n",
        "    token = row.Token\n",
        "    brand_entity = get_start_end_label(title,token)\n",
        "    train_datapoint = (title,{'entities': brand_entity})\n",
        "    ner_dev.append(train_datapoint)\n",
        "with open('Ebay_dev_shuffle.json','w') as f:\n",
        "  json.dump(ner_dev,f)"
      ],
      "metadata": {
        "id": "qnxcGo3kELJk"
      },
      "execution_count": null,
      "outputs": []
    },
    {
      "cell_type": "code",
      "source": [
        "ner_dev[0]"
      ],
      "metadata": {
        "colab": {
          "base_uri": "https://localhost:8080/"
        },
        "id": "1qMTKhc9ZNT4",
        "outputId": "0f13b5ef-fc28-4253-cbf9-91e3f2790003"
      },
      "execution_count": null,
      "outputs": [
        {
          "output_type": "execute_result",
          "data": {
            "text/plain": [
              "('Mansur Gavriel Womens Balloon Bag - Dusty Rose Size One Size',\n",
              " {'entities': [0, 6, 'BRAND']})"
            ]
          },
          "metadata": {},
          "execution_count": 29
        }
      ]
    },
    {
      "cell_type": "code",
      "source": [
        "# Save also individual csv files\n",
        "train.to_csv('Ebay_train_shuffle.csv',index=False)\n",
        "test.to_csv('Ebay_test_shuffle.csv',index=False)\n",
        "dev.to_csv('Ebay_dev_shuffle.csv',index=False)"
      ],
      "metadata": {
        "id": "7533U2_QEZiH"
      },
      "execution_count": null,
      "outputs": []
    },
    {
      "cell_type": "code",
      "source": [
        "#Convert to Spacy Binary file\n",
        "def convert(lang, input_path, output_path):\n",
        "    nlp = spacy.blank(lang)\n",
        "    db = DocBin()\n",
        "    skipped = 0\n",
        "    for text, annot in srsly.read_json(input_path):\n",
        "        doc = nlp.make_doc(text)\n",
        "        ents = []\n",
        "        for annot in annot[\"entities\"]:\n",
        "          if annot is not None:\n",
        "            start = annot[0]\n",
        "            end = annot[1]\n",
        "            label = annot[2]\n",
        "            span = doc.char_span(start, end, label=label)\n",
        "            if span is None:\n",
        "                  skipped+=1\n",
        "                  msg = f\"Skipping entity [{start}, {end}, {label}] in the following text because the character span '{doc.text[start:end]}' does not align with token boundaries:\\n\\n{repr(text)}\\n\"\n",
        "                  print(msg)\n",
        "            else:\n",
        "                  ents.append(span)\n",
        "        doc.ents = ents\n",
        "        db.add(doc)\n",
        "    print('### Totally skipped docs:', skipped)\n",
        "    db.to_disk(output_path)"
      ],
      "metadata": {
        "id": "BqprNgilE18f"
      },
      "execution_count": null,
      "outputs": []
    },
    {
      "cell_type": "code",
      "source": [
        "def convert2(lang, input_path, output_path):\n",
        "    nlp = spacy.blank(lang)\n",
        "    db = DocBin()\n",
        "    skipped = 0\n",
        "    for text, annot in srsly.read_json(input_path):\n",
        "        doc = nlp.make_doc(text)\n",
        "        ents = []\n",
        "        if annot[\"entities\"] is not None:\n",
        "          start = annot[\"entities\"][0]\n",
        "          end = annot[\"entities\"][1]\n",
        "          label = annot[\"entities\"][2]\n",
        "          span = doc.char_span(start, end, label=label)\n",
        "          if span is None:\n",
        "              skipped+=1\n",
        "              msg = f\"Skipping entity [{start}, {end}, {label}] in the following text because the character span '{doc.text[start:end]}' does not align with token boundaries:\\n\\n{repr(text)}\\n\"\n",
        "              print(msg)\n",
        "          else:\n",
        "              ents.append(span)\n",
        "        doc.ents = ents\n",
        "        db.add(doc)\n",
        "    print('### Totally skipped docs:', skipped)\n",
        "    db.to_disk(output_path)\n"
      ],
      "metadata": {
        "id": "qdTi5wr1U6n0"
      },
      "execution_count": null,
      "outputs": []
    },
    {
      "cell_type": "code",
      "source": [
        "convert2(\"en\",\"Ebay_train_shuffle.json\",\"Ebay_train_shuffle.spacy\")\n",
        "convert2(\"en\",\"Ebay_test_shuffle.json\",\"Ebay_test_shuffle.spacy\")\n",
        "convert2(\"en\",\"Ebay_dev_shuffle.json\",\"Ebay_dev_shuffle.spacy\")\n",
        "\n"
      ],
      "metadata": {
        "colab": {
          "base_uri": "https://localhost:8080/"
        },
        "id": "3BC2JSfdU-FZ",
        "outputId": "6b29c0ff-6d0c-4db1-a326-0324ef2ee136"
      },
      "execution_count": null,
      "outputs": [
        {
          "output_type": "stream",
          "name": "stdout",
          "text": [
            "Skipping entity [0, 2, BRAND] in the following text because the character span 'Le' does not align with token boundaries:\n",
            "\n",
            "'Leather Shoulder Bag With Handles and Removable Strap by Le Privé'\n",
            "\n",
            "Skipping entity [48, 50, BRAND] in the following text because the character span 'LV' does not align with token boundaries:\n",
            "\n",
            "'Louis Vuitton Speedy 25 Urs Fischer White Black LVxUF Bag Authentic LV Brand New'\n",
            "\n",
            "### Totally skipped docs: 2\n",
            "### Totally skipped docs: 0\n",
            "### Totally skipped docs: 0\n"
          ]
        }
      ]
    },
    {
      "cell_type": "code",
      "source": [
        "#Convert dataset to BIO Format\n",
        "#Flair expect a data frame with 3 columns : sentence ID, words, tags . We will convert our current dataset into this format in this part.\n",
        "\n",
        "import spacy\n",
        "from spacy.training import offsets_to_biluo_tags\n",
        "\n",
        "nlp = spacy.load('en_core_web_sm')\n",
        "docs = []\n",
        "train_bio = []\n",
        "k = 0\n",
        "\n",
        "for text, annot in ner_training:\n",
        "    doc = nlp(text)\n",
        "    if annot['entities'] is not None:\n",
        "      tags = offsets_to_biluo_tags(doc, [tuple(annot['entities'])])\n",
        "      bio_tags = [tag.replace('L-BRAND','I-BRAND').replace('U-BRAND','B-BRAND') for tag in tags]\n",
        "      tokens = [tok.text for tok in doc]\n",
        "      token_tags = list(zip(tokens,bio_tags))\n",
        "      train_bio_sample = [{'sentence_id':k,'words':el[0],'labels':el[1]} for el in token_tags]\n",
        "      #print(train_bio_sample)\n",
        "      train_bio += train_bio_sample\n",
        "      k += 1"
      ],
      "metadata": {
        "id": "VmAH9CPQJTd0",
        "colab": {
          "base_uri": "https://localhost:8080/"
        },
        "outputId": "6cb1f550-db38-4fde-98f7-69911c1c9e15"
      },
      "execution_count": null,
      "outputs": [
        {
          "output_type": "stream",
          "name": "stderr",
          "text": [
            "/usr/local/lib/python3.7/dist-packages/spacy/training/iob_utils.py:152: UserWarning: [W030] Some entities could not be aligned in the text \"Leather Shoulder Bag With Handles and Removable St...\" with entities \"[(0, 2, 'BRAND')]\". Use `spacy.training.offsets_to_biluo_tags(nlp.make_doc(text), entities)` to check the alignment. Misaligned entities ('-') will be ignored during training.\n",
            "  entities=ent_str[:50] + \"...\" if len(ent_str) > 50 else ent_str,\n",
            "/usr/local/lib/python3.7/dist-packages/spacy/training/iob_utils.py:152: UserWarning: [W030] Some entities could not be aligned in the text \"Louis Vuitton Speedy 25 Urs Fischer White Black LV...\" with entities \"[(48, 50, 'BRAND')]\". Use `spacy.training.offsets_to_biluo_tags(nlp.make_doc(text), entities)` to check the alignment. Misaligned entities ('-') will be ignored during training.\n",
            "  entities=ent_str[:50] + \"...\" if len(ent_str) > 50 else ent_str,\n"
          ]
        }
      ]
    },
    {
      "cell_type": "code",
      "source": [
        "# nlp = spacy.load('en_core_web_sm')\n",
        "# docs = []\n",
        "# test_bio = []\n",
        "# k = 0\n",
        "# for text, annot in ner_test:\n",
        "#     doc = nlp(text)\n",
        "#     tags = offsets_to_biluo_tags(doc, annot['entities'])\n",
        "#     bio_tags = [tag.replace('L-BRAND','I-BRAND').replace('U-BRAND','B-BRAND') for tag in tags]\n",
        "#     tokens = [tok.text for tok in doc]\n",
        "#     token_tags = list(zip(tokens,bio_tags))\n",
        "#     test_bio_sample = [{'sentence_id':k,'words':el[0],'labels':el[1]} for el in token_tags]\n",
        "#     #print(train_bio_sample)\n",
        "#     test_bio += test_bio_sample\n",
        "#     k += 1\n",
        "\n",
        "\n",
        "nlp = spacy.load('en_core_web_sm')\n",
        "docs = []\n",
        "test_bio = []\n",
        "k = 0\n",
        "\n",
        "for text, annot in ner_test:\n",
        "    doc = nlp(text)\n",
        "    if annot['entities'] is not None:\n",
        "      tags = offsets_to_biluo_tags(doc, [tuple(annot['entities'])])\n",
        "      bio_tags = [tag.replace('L-BRAND','I-BRAND').replace('U-BRAND','B-BRAND') for tag in tags]\n",
        "      tokens = [tok.text for tok in doc]\n",
        "      token_tags = list(zip(tokens,bio_tags))\n",
        "      test_bio_sample = [{'sentence_id':k,'words':el[0],'labels':el[1]} for el in token_tags]\n",
        "      #print(train_bio_sample)\n",
        "      test_bio += test_bio_sample\n",
        "      k += 1"
      ],
      "metadata": {
        "id": "SLGFap0YKgY9"
      },
      "execution_count": null,
      "outputs": []
    },
    {
      "cell_type": "code",
      "source": [
        "# nlp = spacy.load('en_core_web_sm')\n",
        "# docs = []\n",
        "# dev_bio = []\n",
        "# k = 0\n",
        "# for text, annot in ner_dev:\n",
        "#     doc = nlp(text)\n",
        "#     tags = offsets_to_biluo_tags(doc, annot['entities'])\n",
        "#     bio_tags = [tag.replace('L-BRAND','I-BRAND').replace('U-BRAND','B-BRAND') for tag in tags]\n",
        "#     tokens = [tok.text for tok in doc]\n",
        "#     token_tags = list(zip(tokens,bio_tags))\n",
        "#     dev_bio_sample = [{'sentence_id':k,'words':el[0],'labels':el[1]} for el in token_tags]\n",
        "#     #print(train_bio_sample)\n",
        "#     dev_bio += dev_bio_sample\n",
        "#     k += 1\n",
        "\n",
        "nlp = spacy.load('en_core_web_sm')\n",
        "docs = []\n",
        "dev_bio = []\n",
        "k = 0\n",
        "\n",
        "for text, annot in ner_dev:\n",
        "    doc = nlp(text)\n",
        "    if annot['entities'] is not None:\n",
        "      tags = offsets_to_biluo_tags(doc, [tuple(annot['entities'])])\n",
        "      bio_tags = [tag.replace('L-BRAND','I-BRAND').replace('U-BRAND','B-BRAND') for tag in tags]\n",
        "      tokens = [tok.text for tok in doc]\n",
        "      token_tags = list(zip(tokens,bio_tags))\n",
        "      dev_bio_sample = [{'sentence_id':k,'words':el[0],'labels':el[1]} for el in token_tags]\n",
        "      dev_bio += dev_bio_sample\n",
        "      k += 1"
      ],
      "metadata": {
        "id": "yPRLvT-_ajxa"
      },
      "execution_count": null,
      "outputs": []
    },
    {
      "cell_type": "code",
      "source": [
        "\n",
        "# convert things to df \n",
        "all_bio = train_bio+dev_bio+test_bio\n",
        "print(len(all_bio))\n"
      ],
      "metadata": {
        "id": "pxAbVL1LKX13",
        "colab": {
          "base_uri": "https://localhost:8080/"
        },
        "outputId": "82d66810-aa86-46b8-8318-fd73635bac79"
      },
      "execution_count": null,
      "outputs": [
        {
          "output_type": "stream",
          "name": "stdout",
          "text": [
            "42494\n"
          ]
        }
      ]
    },
    {
      "cell_type": "code",
      "source": [
        "all_bio_df = pd.DataFrame(all_bio,columns=['sentence_id','words','labels'])\n"
      ],
      "metadata": {
        "id": "83hWZVl4KZup"
      },
      "execution_count": null,
      "outputs": []
    },
    {
      "cell_type": "code",
      "source": [
        "all_bio_df"
      ],
      "metadata": {
        "id": "_37dDAGNKb2n",
        "colab": {
          "base_uri": "https://localhost:8080/",
          "height": 424
        },
        "outputId": "93b2fd99-2a09-4d3c-9868-e41ba461a0b4"
      },
      "execution_count": null,
      "outputs": [
        {
          "output_type": "execute_result",
          "data": {
            "text/plain": [
              "       sentence_id       words labels\n",
              "0                0      Thirty      O\n",
              "1                0         one      O\n",
              "2                0       beach      O\n",
              "3                0        easy      O\n",
              "4                0      breezy      O\n",
              "...            ...         ...    ...\n",
              "42489          382  35S0GFTH3L      O\n",
              "42490          382         NWT      O\n",
              "42491          382           $      O\n",
              "42492          382         398      O\n",
              "42493          382          FS      O\n",
              "\n",
              "[42494 rows x 3 columns]"
            ],
            "text/html": [
              "\n",
              "  <div id=\"df-fca8edf0-e759-432b-8151-41d07b94cbfd\">\n",
              "    <div class=\"colab-df-container\">\n",
              "      <div>\n",
              "<style scoped>\n",
              "    .dataframe tbody tr th:only-of-type {\n",
              "        vertical-align: middle;\n",
              "    }\n",
              "\n",
              "    .dataframe tbody tr th {\n",
              "        vertical-align: top;\n",
              "    }\n",
              "\n",
              "    .dataframe thead th {\n",
              "        text-align: right;\n",
              "    }\n",
              "</style>\n",
              "<table border=\"1\" class=\"dataframe\">\n",
              "  <thead>\n",
              "    <tr style=\"text-align: right;\">\n",
              "      <th></th>\n",
              "      <th>sentence_id</th>\n",
              "      <th>words</th>\n",
              "      <th>labels</th>\n",
              "    </tr>\n",
              "  </thead>\n",
              "  <tbody>\n",
              "    <tr>\n",
              "      <th>0</th>\n",
              "      <td>0</td>\n",
              "      <td>Thirty</td>\n",
              "      <td>O</td>\n",
              "    </tr>\n",
              "    <tr>\n",
              "      <th>1</th>\n",
              "      <td>0</td>\n",
              "      <td>one</td>\n",
              "      <td>O</td>\n",
              "    </tr>\n",
              "    <tr>\n",
              "      <th>2</th>\n",
              "      <td>0</td>\n",
              "      <td>beach</td>\n",
              "      <td>O</td>\n",
              "    </tr>\n",
              "    <tr>\n",
              "      <th>3</th>\n",
              "      <td>0</td>\n",
              "      <td>easy</td>\n",
              "      <td>O</td>\n",
              "    </tr>\n",
              "    <tr>\n",
              "      <th>4</th>\n",
              "      <td>0</td>\n",
              "      <td>breezy</td>\n",
              "      <td>O</td>\n",
              "    </tr>\n",
              "    <tr>\n",
              "      <th>...</th>\n",
              "      <td>...</td>\n",
              "      <td>...</td>\n",
              "      <td>...</td>\n",
              "    </tr>\n",
              "    <tr>\n",
              "      <th>42489</th>\n",
              "      <td>382</td>\n",
              "      <td>35S0GFTH3L</td>\n",
              "      <td>O</td>\n",
              "    </tr>\n",
              "    <tr>\n",
              "      <th>42490</th>\n",
              "      <td>382</td>\n",
              "      <td>NWT</td>\n",
              "      <td>O</td>\n",
              "    </tr>\n",
              "    <tr>\n",
              "      <th>42491</th>\n",
              "      <td>382</td>\n",
              "      <td>$</td>\n",
              "      <td>O</td>\n",
              "    </tr>\n",
              "    <tr>\n",
              "      <th>42492</th>\n",
              "      <td>382</td>\n",
              "      <td>398</td>\n",
              "      <td>O</td>\n",
              "    </tr>\n",
              "    <tr>\n",
              "      <th>42493</th>\n",
              "      <td>382</td>\n",
              "      <td>FS</td>\n",
              "      <td>O</td>\n",
              "    </tr>\n",
              "  </tbody>\n",
              "</table>\n",
              "<p>42494 rows × 3 columns</p>\n",
              "</div>\n",
              "      <button class=\"colab-df-convert\" onclick=\"convertToInteractive('df-fca8edf0-e759-432b-8151-41d07b94cbfd')\"\n",
              "              title=\"Convert this dataframe to an interactive table.\"\n",
              "              style=\"display:none;\">\n",
              "        \n",
              "  <svg xmlns=\"http://www.w3.org/2000/svg\" height=\"24px\"viewBox=\"0 0 24 24\"\n",
              "       width=\"24px\">\n",
              "    <path d=\"M0 0h24v24H0V0z\" fill=\"none\"/>\n",
              "    <path d=\"M18.56 5.44l.94 2.06.94-2.06 2.06-.94-2.06-.94-.94-2.06-.94 2.06-2.06.94zm-11 1L8.5 8.5l.94-2.06 2.06-.94-2.06-.94L8.5 2.5l-.94 2.06-2.06.94zm10 10l.94 2.06.94-2.06 2.06-.94-2.06-.94-.94-2.06-.94 2.06-2.06.94z\"/><path d=\"M17.41 7.96l-1.37-1.37c-.4-.4-.92-.59-1.43-.59-.52 0-1.04.2-1.43.59L10.3 9.45l-7.72 7.72c-.78.78-.78 2.05 0 2.83L4 21.41c.39.39.9.59 1.41.59.51 0 1.02-.2 1.41-.59l7.78-7.78 2.81-2.81c.8-.78.8-2.07 0-2.86zM5.41 20L4 18.59l7.72-7.72 1.47 1.35L5.41 20z\"/>\n",
              "  </svg>\n",
              "      </button>\n",
              "      \n",
              "  <style>\n",
              "    .colab-df-container {\n",
              "      display:flex;\n",
              "      flex-wrap:wrap;\n",
              "      gap: 12px;\n",
              "    }\n",
              "\n",
              "    .colab-df-convert {\n",
              "      background-color: #E8F0FE;\n",
              "      border: none;\n",
              "      border-radius: 50%;\n",
              "      cursor: pointer;\n",
              "      display: none;\n",
              "      fill: #1967D2;\n",
              "      height: 32px;\n",
              "      padding: 0 0 0 0;\n",
              "      width: 32px;\n",
              "    }\n",
              "\n",
              "    .colab-df-convert:hover {\n",
              "      background-color: #E2EBFA;\n",
              "      box-shadow: 0px 1px 2px rgba(60, 64, 67, 0.3), 0px 1px 3px 1px rgba(60, 64, 67, 0.15);\n",
              "      fill: #174EA6;\n",
              "    }\n",
              "\n",
              "    [theme=dark] .colab-df-convert {\n",
              "      background-color: #3B4455;\n",
              "      fill: #D2E3FC;\n",
              "    }\n",
              "\n",
              "    [theme=dark] .colab-df-convert:hover {\n",
              "      background-color: #434B5C;\n",
              "      box-shadow: 0px 1px 3px 1px rgba(0, 0, 0, 0.15);\n",
              "      filter: drop-shadow(0px 1px 2px rgba(0, 0, 0, 0.3));\n",
              "      fill: #FFFFFF;\n",
              "    }\n",
              "  </style>\n",
              "\n",
              "      <script>\n",
              "        const buttonEl =\n",
              "          document.querySelector('#df-fca8edf0-e759-432b-8151-41d07b94cbfd button.colab-df-convert');\n",
              "        buttonEl.style.display =\n",
              "          google.colab.kernel.accessAllowed ? 'block' : 'none';\n",
              "\n",
              "        async function convertToInteractive(key) {\n",
              "          const element = document.querySelector('#df-fca8edf0-e759-432b-8151-41d07b94cbfd');\n",
              "          const dataTable =\n",
              "            await google.colab.kernel.invokeFunction('convertToInteractive',\n",
              "                                                     [key], {});\n",
              "          if (!dataTable) return;\n",
              "\n",
              "          const docLinkHtml = 'Like what you see? Visit the ' +\n",
              "            '<a target=\"_blank\" href=https://colab.research.google.com/notebooks/data_table.ipynb>data table notebook</a>'\n",
              "            + ' to learn more about interactive tables.';\n",
              "          element.innerHTML = '';\n",
              "          dataTable['output_type'] = 'display_data';\n",
              "          await google.colab.output.renderOutput(dataTable, element);\n",
              "          const docLink = document.createElement('div');\n",
              "          docLink.innerHTML = docLinkHtml;\n",
              "          element.appendChild(docLink);\n",
              "        }\n",
              "      </script>\n",
              "    </div>\n",
              "  </div>\n",
              "  "
            ]
          },
          "metadata": {},
          "execution_count": 39
        }
      ]
    },
    {
      "cell_type": "code",
      "source": [
        "all_bio_df.to_csv('data_bio_shuffled.csv',index=False)\n"
      ],
      "metadata": {
        "id": "P2vOqU7jKduM"
      },
      "execution_count": null,
      "outputs": []
    },
    {
      "cell_type": "code",
      "source": [
        "!pip install flair"
      ],
      "metadata": {
        "colab": {
          "base_uri": "https://localhost:8080/",
          "height": 1000
        },
        "id": "05fLb25gelO8",
        "outputId": "58db99eb-ad0a-4144-97ca-a9e1418afff9"
      },
      "execution_count": null,
      "outputs": [
        {
          "output_type": "stream",
          "name": "stdout",
          "text": [
            "Looking in indexes: https://pypi.org/simple, https://us-python.pkg.dev/colab-wheels/public/simple/\n",
            "Collecting flair\n",
            "  Downloading flair-0.11.3-py3-none-any.whl (401 kB)\n",
            "\u001b[K     |████████████████████████████████| 401 kB 21.6 MB/s \n",
            "\u001b[?25hRequirement already satisfied: torch!=1.8,>=1.5.0 in /usr/local/lib/python3.7/dist-packages (from flair) (1.12.1+cu113)\n",
            "Collecting sentencepiece==0.1.95\n",
            "  Downloading sentencepiece-0.1.95-cp37-cp37m-manylinux2014_x86_64.whl (1.2 MB)\n",
            "\u001b[K     |████████████████████████████████| 1.2 MB 43.2 MB/s \n",
            "\u001b[?25hCollecting wikipedia-api\n",
            "  Downloading Wikipedia-API-0.5.4.tar.gz (18 kB)\n",
            "Requirement already satisfied: gensim>=3.4.0 in /usr/local/lib/python3.7/dist-packages (from flair) (3.6.0)\n",
            "Requirement already satisfied: gdown==4.4.0 in /usr/local/lib/python3.7/dist-packages (from flair) (4.4.0)\n",
            "Requirement already satisfied: more-itertools in /usr/local/lib/python3.7/dist-packages (from flair) (9.0.0)\n",
            "Requirement already satisfied: tqdm>=4.26.0 in /usr/local/lib/python3.7/dist-packages (from flair) (4.64.1)\n",
            "Collecting janome\n",
            "  Downloading Janome-0.4.2-py2.py3-none-any.whl (19.7 MB)\n",
            "\u001b[K     |████████████████████████████████| 19.7 MB 391 kB/s \n",
            "\u001b[?25hCollecting langdetect\n",
            "  Downloading langdetect-1.0.9.tar.gz (981 kB)\n",
            "\u001b[K     |████████████████████████████████| 981 kB 62.8 MB/s \n",
            "\u001b[?25hCollecting conllu>=4.0\n",
            "  Downloading conllu-4.5.2-py2.py3-none-any.whl (16 kB)\n",
            "Collecting transformers>=4.0.0\n",
            "  Downloading transformers-4.24.0-py3-none-any.whl (5.5 MB)\n",
            "\u001b[K     |████████████████████████████████| 5.5 MB 42.8 MB/s \n",
            "\u001b[?25hRequirement already satisfied: matplotlib>=2.2.3 in /usr/local/lib/python3.7/dist-packages (from flair) (3.2.2)\n",
            "Requirement already satisfied: lxml in /usr/local/lib/python3.7/dist-packages (from flair) (4.9.1)\n",
            "Collecting ftfy\n",
            "  Downloading ftfy-6.1.1-py3-none-any.whl (53 kB)\n",
            "\u001b[K     |████████████████████████████████| 53 kB 2.0 MB/s \n",
            "\u001b[?25hCollecting pptree\n",
            "  Downloading pptree-3.1.tar.gz (3.0 kB)\n",
            "Collecting huggingface-hub\n",
            "  Downloading huggingface_hub-0.11.0-py3-none-any.whl (182 kB)\n",
            "\u001b[K     |████████████████████████████████| 182 kB 61.5 MB/s \n",
            "\u001b[?25hCollecting segtok>=1.5.7\n",
            "  Downloading segtok-1.5.11-py3-none-any.whl (24 kB)\n",
            "Collecting bpemb>=0.3.2\n",
            "  Downloading bpemb-0.3.4-py3-none-any.whl (19 kB)\n",
            "Collecting deprecated>=1.2.4\n",
            "  Downloading Deprecated-1.2.13-py2.py3-none-any.whl (9.6 kB)\n",
            "Collecting mpld3==0.3\n",
            "  Downloading mpld3-0.3.tar.gz (788 kB)\n",
            "\u001b[K     |████████████████████████████████| 788 kB 56.7 MB/s \n",
            "\u001b[?25hRequirement already satisfied: scikit-learn>=0.21.3 in /usr/local/lib/python3.7/dist-packages (from flair) (1.0.2)\n",
            "Collecting konoha<5.0.0,>=4.0.0\n",
            "  Downloading konoha-4.6.5-py3-none-any.whl (20 kB)\n",
            "Requirement already satisfied: python-dateutil>=2.6.1 in /usr/local/lib/python3.7/dist-packages (from flair) (2.8.2)\n",
            "Requirement already satisfied: regex in /usr/local/lib/python3.7/dist-packages (from flair) (2022.6.2)\n",
            "Collecting sqlitedict>=1.6.0\n",
            "  Downloading sqlitedict-2.0.0.tar.gz (46 kB)\n",
            "\u001b[K     |████████████████████████████████| 46 kB 4.3 MB/s \n",
            "\u001b[?25hRequirement already satisfied: tabulate in /usr/local/lib/python3.7/dist-packages (from flair) (0.8.10)\n",
            "Collecting hyperopt>=0.2.7\n",
            "  Downloading hyperopt-0.2.7-py2.py3-none-any.whl (1.6 MB)\n",
            "\u001b[K     |████████████████████████████████| 1.6 MB 34.0 MB/s \n",
            "\u001b[?25hRequirement already satisfied: requests[socks] in /usr/local/lib/python3.7/dist-packages (from gdown==4.4.0->flair) (2.23.0)\n",
            "Requirement already satisfied: six in /usr/local/lib/python3.7/dist-packages (from gdown==4.4.0->flair) (1.15.0)\n",
            "Requirement already satisfied: filelock in /usr/local/lib/python3.7/dist-packages (from gdown==4.4.0->flair) (3.8.0)\n",
            "Requirement already satisfied: beautifulsoup4 in /usr/local/lib/python3.7/dist-packages (from gdown==4.4.0->flair) (4.6.3)\n",
            "Requirement already satisfied: numpy in /usr/local/lib/python3.7/dist-packages (from bpemb>=0.3.2->flair) (1.21.6)\n",
            "Requirement already satisfied: wrapt<2,>=1.10 in /usr/local/lib/python3.7/dist-packages (from deprecated>=1.2.4->flair) (1.14.1)\n",
            "Requirement already satisfied: scipy>=0.18.1 in /usr/local/lib/python3.7/dist-packages (from gensim>=3.4.0->flair) (1.7.3)\n",
            "Requirement already satisfied: smart-open>=1.2.1 in /usr/local/lib/python3.7/dist-packages (from gensim>=3.4.0->flair) (5.2.1)\n",
            "Requirement already satisfied: networkx>=2.2 in /usr/local/lib/python3.7/dist-packages (from hyperopt>=0.2.7->flair) (2.6.3)\n",
            "Requirement already satisfied: future in /usr/local/lib/python3.7/dist-packages (from hyperopt>=0.2.7->flair) (0.16.0)\n",
            "Requirement already satisfied: cloudpickle in /usr/local/lib/python3.7/dist-packages (from hyperopt>=0.2.7->flair) (1.5.0)\n",
            "Collecting py4j\n",
            "  Downloading py4j-0.10.9.7-py2.py3-none-any.whl (200 kB)\n",
            "\u001b[K     |████████████████████████████████| 200 kB 58.5 MB/s \n",
            "\u001b[?25hCollecting importlib-metadata<4.0.0,>=3.7.0\n",
            "  Downloading importlib_metadata-3.10.1-py3-none-any.whl (14 kB)\n",
            "Collecting requests\n",
            "  Downloading requests-2.28.1-py3-none-any.whl (62 kB)\n",
            "\u001b[K     |████████████████████████████████| 62 kB 1.4 MB/s \n",
            "\u001b[?25hCollecting overrides<4.0.0,>=3.0.0\n",
            "  Downloading overrides-3.1.0.tar.gz (11 kB)\n",
            "Requirement already satisfied: typing-extensions>=3.6.4 in /usr/local/lib/python3.7/dist-packages (from importlib-metadata<4.0.0,>=3.7.0->konoha<5.0.0,>=4.0.0->flair) (4.1.1)\n",
            "Requirement already satisfied: zipp>=0.5 in /usr/local/lib/python3.7/dist-packages (from importlib-metadata<4.0.0,>=3.7.0->konoha<5.0.0,>=4.0.0->flair) (3.10.0)\n",
            "Requirement already satisfied: kiwisolver>=1.0.1 in /usr/local/lib/python3.7/dist-packages (from matplotlib>=2.2.3->flair) (1.4.4)\n",
            "Requirement already satisfied: cycler>=0.10 in /usr/local/lib/python3.7/dist-packages (from matplotlib>=2.2.3->flair) (0.11.0)\n",
            "Requirement already satisfied: pyparsing!=2.0.4,!=2.1.2,!=2.1.6,>=2.0.1 in /usr/local/lib/python3.7/dist-packages (from matplotlib>=2.2.3->flair) (3.0.9)\n",
            "Requirement already satisfied: certifi>=2017.4.17 in /usr/local/lib/python3.7/dist-packages (from requests->bpemb>=0.3.2->flair) (2022.9.24)\n",
            "Requirement already satisfied: urllib3<1.27,>=1.21.1 in /usr/local/lib/python3.7/dist-packages (from requests->bpemb>=0.3.2->flair) (1.24.3)\n",
            "Requirement already satisfied: idna<4,>=2.5 in /usr/local/lib/python3.7/dist-packages (from requests->bpemb>=0.3.2->flair) (2.10)\n",
            "Requirement already satisfied: charset-normalizer<3,>=2 in /usr/local/lib/python3.7/dist-packages (from requests->bpemb>=0.3.2->flair) (2.1.1)\n",
            "Requirement already satisfied: joblib>=0.11 in /usr/local/lib/python3.7/dist-packages (from scikit-learn>=0.21.3->flair) (1.2.0)\n",
            "Requirement already satisfied: threadpoolctl>=2.0.0 in /usr/local/lib/python3.7/dist-packages (from scikit-learn>=0.21.3->flair) (3.1.0)\n",
            "Requirement already satisfied: pyyaml>=5.1 in /usr/local/lib/python3.7/dist-packages (from transformers>=4.0.0->flair) (6.0)\n",
            "Requirement already satisfied: packaging>=20.0 in /usr/local/lib/python3.7/dist-packages (from transformers>=4.0.0->flair) (21.3)\n",
            "Collecting tokenizers!=0.11.3,<0.14,>=0.11.1\n",
            "  Downloading tokenizers-0.13.2-cp37-cp37m-manylinux_2_17_x86_64.manylinux2014_x86_64.whl (7.6 MB)\n",
            "\u001b[K     |████████████████████████████████| 7.6 MB 21.0 MB/s \n",
            "\u001b[?25hRequirement already satisfied: wcwidth>=0.2.5 in /usr/local/lib/python3.7/dist-packages (from ftfy->flair) (0.2.5)\n",
            "Requirement already satisfied: PySocks!=1.5.7,>=1.5.6 in /usr/local/lib/python3.7/dist-packages (from requests->bpemb>=0.3.2->flair) (1.7.1)\n",
            "Building wheels for collected packages: mpld3, overrides, sqlitedict, langdetect, pptree, wikipedia-api\n",
            "  Building wheel for mpld3 (setup.py) ... \u001b[?25l\u001b[?25hdone\n",
            "  Created wheel for mpld3: filename=mpld3-0.3-py3-none-any.whl size=116702 sha256=acf093af48603746bda0c0f846bfa35e765341442c09233b872646474557773e\n",
            "  Stored in directory: /root/.cache/pip/wheels/26/70/6a/1c79e59951a41b4045497da187b2724f5659ca64033cf4548e\n",
            "  Building wheel for overrides (setup.py) ... \u001b[?25l\u001b[?25hdone\n",
            "  Created wheel for overrides: filename=overrides-3.1.0-py3-none-any.whl size=10188 sha256=93275aa6c17d1269f307cc8887f05e81be7736f2c4772ffbb8e3c40efba34cf3\n",
            "  Stored in directory: /root/.cache/pip/wheels/3a/0d/38/01a9bc6e20dcfaf0a6a7b552d03137558ba1c38aea47644682\n",
            "  Building wheel for sqlitedict (setup.py) ... \u001b[?25l\u001b[?25hdone\n",
            "  Created wheel for sqlitedict: filename=sqlitedict-2.0.0-py3-none-any.whl size=15735 sha256=d6b1af1da1db42164ae4f02dbdfbbfd23a6f169aa56210df965f65470cd09ca3\n",
            "  Stored in directory: /root/.cache/pip/wheels/96/dd/2e/0ed4a25cb73fc30c7ea8d10b50acb7226175736067e40a7ea3\n",
            "  Building wheel for langdetect (setup.py) ... \u001b[?25l\u001b[?25hdone\n",
            "  Created wheel for langdetect: filename=langdetect-1.0.9-py3-none-any.whl size=993241 sha256=66bf5565564abd95a6cf3bde34d6a1378ef7fc795413ad6bbc77c93d6c41d635\n",
            "  Stored in directory: /root/.cache/pip/wheels/c5/96/8a/f90c59ed25d75e50a8c10a1b1c2d4c402e4dacfa87f3aff36a\n",
            "  Building wheel for pptree (setup.py) ... \u001b[?25l\u001b[?25hdone\n",
            "  Created wheel for pptree: filename=pptree-3.1-py3-none-any.whl size=4628 sha256=065c770dc8b791744bc02184fd42c06ef817db27e932a0f23cdf0ba513045720\n",
            "  Stored in directory: /root/.cache/pip/wheels/9e/e8/7d/a9c3c19b4722608a0d8b05a38c36bc3f230c43becd2a46794b\n",
            "  Building wheel for wikipedia-api (setup.py) ... \u001b[?25l\u001b[?25hdone\n",
            "  Created wheel for wikipedia-api: filename=Wikipedia_API-0.5.4-py3-none-any.whl size=13479 sha256=e53ac22ac1bbce21c9a43a4b8c070fe3fe159921ff333d10ce532f6fa039433c\n",
            "  Stored in directory: /root/.cache/pip/wheels/d3/24/56/58ba93cf78be162451144e7a9889603f437976ef1ae7013d04\n",
            "Successfully built mpld3 overrides sqlitedict langdetect pptree wikipedia-api\n",
            "Installing collected packages: requests, importlib-metadata, tokenizers, sentencepiece, py4j, overrides, huggingface-hub, wikipedia-api, transformers, sqlitedict, segtok, pptree, mpld3, langdetect, konoha, janome, hyperopt, ftfy, deprecated, conllu, bpemb, flair\n",
            "  Attempting uninstall: requests\n",
            "    Found existing installation: requests 2.23.0\n",
            "    Uninstalling requests-2.23.0:\n",
            "      Successfully uninstalled requests-2.23.0\n",
            "  Attempting uninstall: importlib-metadata\n",
            "    Found existing installation: importlib-metadata 4.13.0\n",
            "    Uninstalling importlib-metadata-4.13.0:\n",
            "      Successfully uninstalled importlib-metadata-4.13.0\n",
            "  Attempting uninstall: hyperopt\n",
            "    Found existing installation: hyperopt 0.1.2\n",
            "    Uninstalling hyperopt-0.1.2:\n",
            "      Successfully uninstalled hyperopt-0.1.2\n",
            "\u001b[31mERROR: pip's dependency resolver does not currently take into account all the packages that are installed. This behaviour is the source of the following dependency conflicts.\n",
            "markdown 3.4.1 requires importlib-metadata>=4.4; python_version < \"3.10\", but you have importlib-metadata 3.10.1 which is incompatible.\n",
            "gym 0.25.2 requires importlib-metadata>=4.8.0; python_version < \"3.10\", but you have importlib-metadata 3.10.1 which is incompatible.\u001b[0m\n",
            "Successfully installed bpemb-0.3.4 conllu-4.5.2 deprecated-1.2.13 flair-0.11.3 ftfy-6.1.1 huggingface-hub-0.11.0 hyperopt-0.2.7 importlib-metadata-3.10.1 janome-0.4.2 konoha-4.6.5 langdetect-1.0.9 mpld3-0.3 overrides-3.1.0 pptree-3.1 py4j-0.10.9.7 requests-2.28.1 segtok-1.5.11 sentencepiece-0.1.95 sqlitedict-2.0.0 tokenizers-0.13.2 transformers-4.24.0 wikipedia-api-0.5.4\n"
          ]
        },
        {
          "output_type": "display_data",
          "data": {
            "application/vnd.colab-display-data+json": {
              "pip_warning": {
                "packages": [
                  "importlib_metadata",
                  "requests"
                ]
              }
            }
          },
          "metadata": {}
        }
      ]
    },
    {
      "cell_type": "code",
      "source": [
        "import pandas as pd\n",
        "from flair.data import Sentence\n",
        "from flair.models import SequenceTagger\n",
        "import logging\n",
        "import json\n",
        "#Import flair modules\n",
        "from flair.data import Corpus\n",
        "from flair.datasets import ColumnCorpus\n",
        "from flair.embeddings import WordEmbeddings, FlairEmbeddings, StackedEmbeddings, BytePairEmbeddings, TransformerWordEmbeddings\n",
        "\n",
        "from flair.models import SequenceTagger\n",
        "from flair.trainers import ModelTrainer"
      ],
      "metadata": {
        "id": "Iuot9yFXewob"
      },
      "execution_count": null,
      "outputs": []
    },
    {
      "cell_type": "code",
      "source": [
        "# Data preparation\n",
        "data_path = \"/content/drive/MyDrive/eBay_ML_Challenge_Dataset_2022/data_bio_shuffled.csv\"\n",
        "data_df = pd.read_csv(data_path)\n",
        "\n",
        "#data_df['labels'] = data_df.labels.replace('I-BRAND','B-BRAND')\n",
        "\n"
      ],
      "metadata": {
        "id": "0Pvj7Oc8e2Jt"
      },
      "execution_count": null,
      "outputs": []
    },
    {
      "cell_type": "code",
      "source": [
        "data_df.tail()"
      ],
      "metadata": {
        "colab": {
          "base_uri": "https://localhost:8080/",
          "height": 206
        },
        "id": "Q408As-BhbKR",
        "outputId": "94ad0a3d-a48d-49c9-e7af-5d8c435b2da4"
      },
      "execution_count": null,
      "outputs": [
        {
          "output_type": "execute_result",
          "data": {
            "text/plain": [
              "       sentence_id       words labels\n",
              "42489          382  35S0GFTH3L      O\n",
              "42490          382         NWT      O\n",
              "42491          382           $      O\n",
              "42492          382         398      O\n",
              "42493          382          FS      O"
            ],
            "text/html": [
              "\n",
              "  <div id=\"df-646608d9-eb29-4b88-89c3-02680420c2e8\">\n",
              "    <div class=\"colab-df-container\">\n",
              "      <div>\n",
              "<style scoped>\n",
              "    .dataframe tbody tr th:only-of-type {\n",
              "        vertical-align: middle;\n",
              "    }\n",
              "\n",
              "    .dataframe tbody tr th {\n",
              "        vertical-align: top;\n",
              "    }\n",
              "\n",
              "    .dataframe thead th {\n",
              "        text-align: right;\n",
              "    }\n",
              "</style>\n",
              "<table border=\"1\" class=\"dataframe\">\n",
              "  <thead>\n",
              "    <tr style=\"text-align: right;\">\n",
              "      <th></th>\n",
              "      <th>sentence_id</th>\n",
              "      <th>words</th>\n",
              "      <th>labels</th>\n",
              "    </tr>\n",
              "  </thead>\n",
              "  <tbody>\n",
              "    <tr>\n",
              "      <th>42489</th>\n",
              "      <td>382</td>\n",
              "      <td>35S0GFTH3L</td>\n",
              "      <td>O</td>\n",
              "    </tr>\n",
              "    <tr>\n",
              "      <th>42490</th>\n",
              "      <td>382</td>\n",
              "      <td>NWT</td>\n",
              "      <td>O</td>\n",
              "    </tr>\n",
              "    <tr>\n",
              "      <th>42491</th>\n",
              "      <td>382</td>\n",
              "      <td>$</td>\n",
              "      <td>O</td>\n",
              "    </tr>\n",
              "    <tr>\n",
              "      <th>42492</th>\n",
              "      <td>382</td>\n",
              "      <td>398</td>\n",
              "      <td>O</td>\n",
              "    </tr>\n",
              "    <tr>\n",
              "      <th>42493</th>\n",
              "      <td>382</td>\n",
              "      <td>FS</td>\n",
              "      <td>O</td>\n",
              "    </tr>\n",
              "  </tbody>\n",
              "</table>\n",
              "</div>\n",
              "      <button class=\"colab-df-convert\" onclick=\"convertToInteractive('df-646608d9-eb29-4b88-89c3-02680420c2e8')\"\n",
              "              title=\"Convert this dataframe to an interactive table.\"\n",
              "              style=\"display:none;\">\n",
              "        \n",
              "  <svg xmlns=\"http://www.w3.org/2000/svg\" height=\"24px\"viewBox=\"0 0 24 24\"\n",
              "       width=\"24px\">\n",
              "    <path d=\"M0 0h24v24H0V0z\" fill=\"none\"/>\n",
              "    <path d=\"M18.56 5.44l.94 2.06.94-2.06 2.06-.94-2.06-.94-.94-2.06-.94 2.06-2.06.94zm-11 1L8.5 8.5l.94-2.06 2.06-.94-2.06-.94L8.5 2.5l-.94 2.06-2.06.94zm10 10l.94 2.06.94-2.06 2.06-.94-2.06-.94-.94-2.06-.94 2.06-2.06.94z\"/><path d=\"M17.41 7.96l-1.37-1.37c-.4-.4-.92-.59-1.43-.59-.52 0-1.04.2-1.43.59L10.3 9.45l-7.72 7.72c-.78.78-.78 2.05 0 2.83L4 21.41c.39.39.9.59 1.41.59.51 0 1.02-.2 1.41-.59l7.78-7.78 2.81-2.81c.8-.78.8-2.07 0-2.86zM5.41 20L4 18.59l7.72-7.72 1.47 1.35L5.41 20z\"/>\n",
              "  </svg>\n",
              "      </button>\n",
              "      \n",
              "  <style>\n",
              "    .colab-df-container {\n",
              "      display:flex;\n",
              "      flex-wrap:wrap;\n",
              "      gap: 12px;\n",
              "    }\n",
              "\n",
              "    .colab-df-convert {\n",
              "      background-color: #E8F0FE;\n",
              "      border: none;\n",
              "      border-radius: 50%;\n",
              "      cursor: pointer;\n",
              "      display: none;\n",
              "      fill: #1967D2;\n",
              "      height: 32px;\n",
              "      padding: 0 0 0 0;\n",
              "      width: 32px;\n",
              "    }\n",
              "\n",
              "    .colab-df-convert:hover {\n",
              "      background-color: #E2EBFA;\n",
              "      box-shadow: 0px 1px 2px rgba(60, 64, 67, 0.3), 0px 1px 3px 1px rgba(60, 64, 67, 0.15);\n",
              "      fill: #174EA6;\n",
              "    }\n",
              "\n",
              "    [theme=dark] .colab-df-convert {\n",
              "      background-color: #3B4455;\n",
              "      fill: #D2E3FC;\n",
              "    }\n",
              "\n",
              "    [theme=dark] .colab-df-convert:hover {\n",
              "      background-color: #434B5C;\n",
              "      box-shadow: 0px 1px 3px 1px rgba(0, 0, 0, 0.15);\n",
              "      filter: drop-shadow(0px 1px 2px rgba(0, 0, 0, 0.3));\n",
              "      fill: #FFFFFF;\n",
              "    }\n",
              "  </style>\n",
              "\n",
              "      <script>\n",
              "        const buttonEl =\n",
              "          document.querySelector('#df-646608d9-eb29-4b88-89c3-02680420c2e8 button.colab-df-convert');\n",
              "        buttonEl.style.display =\n",
              "          google.colab.kernel.accessAllowed ? 'block' : 'none';\n",
              "\n",
              "        async function convertToInteractive(key) {\n",
              "          const element = document.querySelector('#df-646608d9-eb29-4b88-89c3-02680420c2e8');\n",
              "          const dataTable =\n",
              "            await google.colab.kernel.invokeFunction('convertToInteractive',\n",
              "                                                     [key], {});\n",
              "          if (!dataTable) return;\n",
              "\n",
              "          const docLinkHtml = 'Like what you see? Visit the ' +\n",
              "            '<a target=\"_blank\" href=https://colab.research.google.com/notebooks/data_table.ipynb>data table notebook</a>'\n",
              "            + ' to learn more about interactive tables.';\n",
              "          element.innerHTML = '';\n",
              "          dataTable['output_type'] = 'display_data';\n",
              "          await google.colab.output.renderOutput(dataTable, element);\n",
              "          const docLink = document.createElement('div');\n",
              "          docLink.innerHTML = docLinkHtml;\n",
              "          element.appendChild(docLink);\n",
              "        }\n",
              "      </script>\n",
              "    </div>\n",
              "  </div>\n",
              "  "
            ]
          },
          "metadata": {},
          "execution_count": 48
        }
      ]
    },
    {
      "cell_type": "code",
      "source": [
        "data_df.sentence_id.max()\n"
      ],
      "metadata": {
        "colab": {
          "base_uri": "https://localhost:8080/"
        },
        "id": "noRW4cLWgvdj",
        "outputId": "c69297b8-8937-4898-ef66-e70fa638f292"
      },
      "execution_count": null,
      "outputs": [
        {
          "output_type": "execute_result",
          "data": {
            "text/plain": [
              "2998"
            ]
          },
          "metadata": {},
          "execution_count": 45
        }
      ]
    },
    {
      "cell_type": "code",
      "source": [
        "# Creating train.txt test.txt and dev.txt\n",
        "\n",
        "idx_train = 2300\n",
        "idx_dev = 2650\n",
        "idx_test = 2998\n",
        "\n",
        "df_train = data_df[data_df.sentence_id <= idx_train]\n",
        "df_dev = data_df[(data_df.sentence_id > idx_train) & (data_df.sentence_id <= idx_dev)]\n",
        "df_test = data_df[(data_df.sentence_id > idx_dev) & (data_df.sentence_id <= idx_test)]"
      ],
      "metadata": {
        "id": "6aQTd0fQg1Oj"
      },
      "execution_count": null,
      "outputs": []
    },
    {
      "cell_type": "code",
      "source": [
        "# Creating a BILUO tagging scheme \n",
        "# Flair accept ner data format with word label in each line of text file with empty line for new sentence\n",
        "path = '/content/drive/MyDrive/eBay_ML_Challenge_Dataset_2022/'\n",
        "def to_biluo(data,fn):\n",
        "  sentence_df = data.groupby('sentence_id')\n",
        "  f = open(path+fn,'w')\n",
        "  for name, sentence_grp in sentence_df:\n",
        "    for i,item in sentence_grp.iterrows():\n",
        "      word = item['words']\n",
        "      tag = item['labels']\n",
        "      f.write(f\"{word} {tag}\\n\")\n",
        "    f.write('\\n')"
      ],
      "metadata": {
        "id": "wDx-9QsQgEax"
      },
      "execution_count": null,
      "outputs": []
    },
    {
      "cell_type": "code",
      "source": [
        "to_biluo(df_train,'train.txt')\n",
        "to_biluo(df_test,'test.txt')\n",
        "to_biluo(df_dev,'dev.txt')\n"
      ],
      "metadata": {
        "id": "Pbu9BFtfguqq"
      },
      "execution_count": null,
      "outputs": []
    },
    {
      "cell_type": "markdown",
      "source": [
        "Building the model\n",
        "We first start by converting our txt files into a Corpusobject that will be used by Flair to train the model, this code sinppet is grabbed from Flair documentation"
      ],
      "metadata": {
        "id": "NnETyOl5igpp"
      }
    },
    {
      "cell_type": "code",
      "source": [
        "# Creating a corpus object\n",
        "from flair.data import Corpus\n",
        "from flair.datasets import ColumnCorpus\n",
        "\n",
        "# define columns\n",
        "columns = {0: 'text', 1: 'ner',}\n",
        "\n",
        "# this is the folder in which train, test and dev files reside\n",
        "data_folder = path\n",
        "\n",
        "# init a corpus using column format, data folder and the names of the train, dev and test files\n",
        "corpus: Corpus = ColumnCorpus(data_folder, columns,\n",
        "                              train_file='train.txt',\n",
        "                              test_file='test.txt',\n",
        "                              dev_file='dev.txt')"
      ],
      "metadata": {
        "colab": {
          "base_uri": "https://localhost:8080/"
        },
        "id": "BV_zvFOSii1C",
        "outputId": "63f2801b-60bb-4b39-e026-eec1a0a6219c"
      },
      "execution_count": null,
      "outputs": [
        {
          "output_type": "stream",
          "name": "stdout",
          "text": [
            "2022-11-20 00:57:47,967 Reading data from /content/drive/MyDrive/eBay_ML_Challenge_Dataset_2022\n",
            "2022-11-20 00:57:47,971 Train: /content/drive/MyDrive/eBay_ML_Challenge_Dataset_2022/train.txt\n",
            "2022-11-20 00:57:47,973 Dev: /content/drive/MyDrive/eBay_ML_Challenge_Dataset_2022/dev.txt\n",
            "2022-11-20 00:57:47,975 Test: /content/drive/MyDrive/eBay_ML_Challenge_Dataset_2022/test.txt\n"
          ]
        }
      ]
    },
    {
      "cell_type": "code",
      "source": [
        "print(corpus)\n"
      ],
      "metadata": {
        "colab": {
          "base_uri": "https://localhost:8080/"
        },
        "id": "s3IVV6ZOiply",
        "outputId": "6e689894-b768-4422-c9a4-c3475c94cfca"
      },
      "execution_count": null,
      "outputs": [
        {
          "output_type": "stream",
          "name": "stdout",
          "text": [
            "Corpus: 2301 train + 350 dev + 348 test sentences\n"
          ]
        }
      ]
    },
    {
      "cell_type": "code",
      "source": [
        "# tag to predict\n",
        "tag_type = 'ner'\n",
        "# make tag dictionary from the corpus\n",
        "tag_dictionary = corpus.make_label_dictionary(label_type='ner')"
      ],
      "metadata": {
        "colab": {
          "base_uri": "https://localhost:8080/"
        },
        "id": "SdTsayRzisav",
        "outputId": "332eb8d6-9cdc-4b10-e843-e7c1a81447f5"
      },
      "execution_count": null,
      "outputs": [
        {
          "output_type": "stream",
          "name": "stdout",
          "text": [
            "2022-11-20 01:00:31,585 Computing label dictionary. Progress:\n"
          ]
        },
        {
          "output_type": "stream",
          "name": "stderr",
          "text": [
            "2301it [00:00, 32773.45it/s]"
          ]
        },
        {
          "output_type": "stream",
          "name": "stdout",
          "text": [
            "2022-11-20 01:00:31,671 Dictionary created for label 'ner' with 3 values: BRAND (seen 3083 times),  (seen 1 times)\n"
          ]
        },
        {
          "output_type": "stream",
          "name": "stderr",
          "text": [
            "\n"
          ]
        }
      ]
    },
    {
      "cell_type": "code",
      "source": [
        "# 4. initialize fine-tuneable transformer embeddings WITH document context\n",
        "\n",
        "embeddings = [\n",
        "              WordEmbeddings('glove'),\n",
        "              FlairEmbeddings('news-forward-fast'),\n",
        "              FlairEmbeddings('news-backward-fast')\n",
        "]\n",
        "embeddings = StackedEmbeddings(embeddings)\n",
        "\n",
        "# 5. initialize sequence tagger\n",
        "tagger = SequenceTagger(hidden_size=256,\n",
        "                        embeddings=embeddings,\n",
        "                        tag_dictionary=tag_dictionary,\n",
        "                        tag_type=tag_type,\n",
        "                        use_crf=True\n",
        "                        )\n",
        "\n",
        "# 6. initialize trainer\n",
        "trainer = ModelTrainer(tagger, corpus)"
      ],
      "metadata": {
        "colab": {
          "base_uri": "https://localhost:8080/"
        },
        "id": "f7J3XRxqiu8x",
        "outputId": "f958d28b-b6c6-4c8e-e781-237893c702ed"
      },
      "execution_count": null,
      "outputs": [
        {
          "output_type": "stream",
          "name": "stdout",
          "text": [
            "2022-11-20 01:02:12,853 https://flair.informatik.hu-berlin.de/resources/embeddings/token/glove.gensim.vectors.npy not found in cache, downloading to /tmp/tmpkx7cyt64\n"
          ]
        },
        {
          "output_type": "stream",
          "name": "stderr",
          "text": [
            "100%|██████████| 160000128/160000128 [00:06<00:00, 25530805.72B/s]"
          ]
        },
        {
          "output_type": "stream",
          "name": "stdout",
          "text": [
            "2022-11-20 01:02:19,460 copying /tmp/tmpkx7cyt64 to cache at /root/.flair/embeddings/glove.gensim.vectors.npy\n"
          ]
        },
        {
          "output_type": "stream",
          "name": "stderr",
          "text": [
            "\n"
          ]
        },
        {
          "output_type": "stream",
          "name": "stdout",
          "text": [
            "2022-11-20 01:02:19,758 removing temp file /tmp/tmpkx7cyt64\n",
            "2022-11-20 01:02:20,107 https://flair.informatik.hu-berlin.de/resources/embeddings/token/glove.gensim not found in cache, downloading to /tmp/tmprl2khcwz\n"
          ]
        },
        {
          "output_type": "stream",
          "name": "stderr",
          "text": [
            "100%|██████████| 21494764/21494764 [00:01<00:00, 15328527.00B/s]"
          ]
        },
        {
          "output_type": "stream",
          "name": "stdout",
          "text": [
            "2022-11-20 01:02:21,851 copying /tmp/tmprl2khcwz to cache at /root/.flair/embeddings/glove.gensim\n",
            "2022-11-20 01:02:21,879 removing temp file /tmp/tmprl2khcwz\n"
          ]
        },
        {
          "output_type": "stream",
          "name": "stderr",
          "text": [
            "\n"
          ]
        },
        {
          "output_type": "stream",
          "name": "stdout",
          "text": [
            "2022-11-20 01:02:24,059 https://flair.informatik.hu-berlin.de/resources/embeddings/flair/lm-news-english-forward-1024-v0.2rc.pt not found in cache, downloading to /tmp/tmphy49yf_3\n"
          ]
        },
        {
          "output_type": "stream",
          "name": "stderr",
          "text": [
            "100%|██████████| 19689779/19689779 [00:01<00:00, 13301800.29B/s]"
          ]
        },
        {
          "output_type": "stream",
          "name": "stdout",
          "text": [
            "2022-11-20 01:02:25,864 copying /tmp/tmphy49yf_3 to cache at /root/.flair/embeddings/lm-news-english-forward-1024-v0.2rc.pt\n"
          ]
        },
        {
          "output_type": "stream",
          "name": "stderr",
          "text": [
            "\n"
          ]
        },
        {
          "output_type": "stream",
          "name": "stdout",
          "text": [
            "2022-11-20 01:02:25,896 removing temp file /tmp/tmphy49yf_3\n",
            "2022-11-20 01:02:26,360 https://flair.informatik.hu-berlin.de/resources/embeddings/flair/lm-news-english-backward-1024-v0.2rc.pt not found in cache, downloading to /tmp/tmpbpdvchas\n"
          ]
        },
        {
          "output_type": "stream",
          "name": "stderr",
          "text": [
            "100%|██████████| 19689779/19689779 [00:01<00:00, 14579780.05B/s]"
          ]
        },
        {
          "output_type": "stream",
          "name": "stdout",
          "text": [
            "2022-11-20 01:02:28,075 copying /tmp/tmpbpdvchas to cache at /root/.flair/embeddings/lm-news-english-backward-1024-v0.2rc.pt\n",
            "2022-11-20 01:02:28,105 removing temp file /tmp/tmpbpdvchas\n"
          ]
        },
        {
          "output_type": "stream",
          "name": "stderr",
          "text": [
            "\n"
          ]
        },
        {
          "output_type": "stream",
          "name": "stdout",
          "text": [
            "2022-11-20 01:02:28,180 SequenceTagger predicts: Dictionary with 9 tags: O, S-BRAND, B-BRAND, E-BRAND, I-BRAND, S-, B-, E-, I-\n"
          ]
        }
      ]
    },
    {
      "cell_type": "code",
      "source": [
        "# Train the model and save in drive\n",
        "# 7. start training\n",
        "model_path = '/content/drive/MyDrive/eBay_ML_Challenge_Dataset_2022/flair/'\n",
        "model_name = 'flair-ner-new-ebay'\n",
        "# 7. start training\n",
        "trainer.train(model_path+model_name,\n",
        "              learning_rate=0.03,\n",
        "              mini_batch_size=32,\n",
        "              max_epochs=10,\n",
        "              embeddings_storage_mode='none'\n",
        "              )"
      ],
      "metadata": {
        "colab": {
          "base_uri": "https://localhost:8080/"
        },
        "id": "yWICejk-jqJv",
        "outputId": "f9651366-71f6-4480-adfb-95c9468e89c1"
      },
      "execution_count": null,
      "outputs": [
        {
          "output_type": "stream",
          "name": "stdout",
          "text": [
            "2022-11-20 01:03:30,965 ----------------------------------------------------------------------------------------------------\n",
            "2022-11-20 01:03:30,969 Model: \"SequenceTagger(\n",
            "  (embeddings): StackedEmbeddings(\n",
            "    (list_embedding_0): WordEmbeddings(\n",
            "      'glove'\n",
            "      (embedding): Embedding(400001, 100)\n",
            "    )\n",
            "    (list_embedding_1): FlairEmbeddings(\n",
            "      (lm): LanguageModel(\n",
            "        (drop): Dropout(p=0.25, inplace=False)\n",
            "        (encoder): Embedding(275, 100)\n",
            "        (rnn): LSTM(100, 1024)\n",
            "        (decoder): Linear(in_features=1024, out_features=275, bias=True)\n",
            "      )\n",
            "    )\n",
            "    (list_embedding_2): FlairEmbeddings(\n",
            "      (lm): LanguageModel(\n",
            "        (drop): Dropout(p=0.25, inplace=False)\n",
            "        (encoder): Embedding(275, 100)\n",
            "        (rnn): LSTM(100, 1024)\n",
            "        (decoder): Linear(in_features=1024, out_features=275, bias=True)\n",
            "      )\n",
            "    )\n",
            "  )\n",
            "  (word_dropout): WordDropout(p=0.05)\n",
            "  (locked_dropout): LockedDropout(p=0.5)\n",
            "  (embedding2nn): Linear(in_features=2148, out_features=2148, bias=True)\n",
            "  (rnn): LSTM(2148, 256, batch_first=True, bidirectional=True)\n",
            "  (linear): Linear(in_features=512, out_features=11, bias=True)\n",
            "  (loss_function): ViterbiLoss()\n",
            "  (crf): CRF()\n",
            ")\"\n",
            "2022-11-20 01:03:30,973 ----------------------------------------------------------------------------------------------------\n",
            "2022-11-20 01:03:30,977 Corpus: \"Corpus: 2301 train + 350 dev + 348 test sentences\"\n",
            "2022-11-20 01:03:30,979 ----------------------------------------------------------------------------------------------------\n",
            "2022-11-20 01:03:30,986 Parameters:\n",
            "2022-11-20 01:03:30,987  - learning_rate: \"0.030000\"\n",
            "2022-11-20 01:03:30,989  - mini_batch_size: \"32\"\n",
            "2022-11-20 01:03:30,991  - patience: \"3\"\n",
            "2022-11-20 01:03:30,993  - anneal_factor: \"0.5\"\n",
            "2022-11-20 01:03:30,995  - max_epochs: \"10\"\n",
            "2022-11-20 01:03:30,997  - shuffle: \"True\"\n",
            "2022-11-20 01:03:30,999  - train_with_dev: \"False\"\n",
            "2022-11-20 01:03:31,000  - batch_growth_annealing: \"False\"\n",
            "2022-11-20 01:03:31,003 ----------------------------------------------------------------------------------------------------\n",
            "2022-11-20 01:03:31,004 Model training base path: \"/content/drive/MyDrive/eBay_ML_Challenge_Dataset_2022/flair/flair-ner-new-ebay\"\n",
            "2022-11-20 01:03:31,010 ----------------------------------------------------------------------------------------------------\n",
            "2022-11-20 01:03:31,012 Device: cpu\n",
            "2022-11-20 01:03:31,014 ----------------------------------------------------------------------------------------------------\n",
            "2022-11-20 01:03:31,017 Embeddings storage mode: none\n",
            "2022-11-20 01:03:31,022 ----------------------------------------------------------------------------------------------------\n",
            "2022-11-20 01:04:04,691 epoch 1 - iter 7/72 - loss 1.08368506 - samples/sec: 6.65 - lr: 0.030000\n",
            "2022-11-20 01:04:34,915 epoch 1 - iter 14/72 - loss 0.75440155 - samples/sec: 7.41 - lr: 0.030000\n",
            "2022-11-20 01:04:47,392 epoch 1 - iter 21/72 - loss 0.66137647 - samples/sec: 17.97 - lr: 0.030000\n",
            "2022-11-20 01:04:58,866 epoch 1 - iter 28/72 - loss 0.59751152 - samples/sec: 19.53 - lr: 0.030000\n",
            "2022-11-20 01:05:10,680 epoch 1 - iter 35/72 - loss 0.54772529 - samples/sec: 18.97 - lr: 0.030000\n",
            "2022-11-20 01:05:25,044 epoch 1 - iter 42/72 - loss 0.51572596 - samples/sec: 15.60 - lr: 0.030000\n",
            "2022-11-20 01:05:36,546 epoch 1 - iter 49/72 - loss 0.48002253 - samples/sec: 19.48 - lr: 0.030000\n",
            "2022-11-20 01:05:48,117 epoch 1 - iter 56/72 - loss 0.44613709 - samples/sec: 19.37 - lr: 0.030000\n",
            "2022-11-20 01:05:59,866 epoch 1 - iter 63/72 - loss 0.42461232 - samples/sec: 19.07 - lr: 0.030000\n",
            "2022-11-20 01:06:11,064 epoch 1 - iter 70/72 - loss 0.40094311 - samples/sec: 20.01 - lr: 0.030000\n",
            "2022-11-20 01:06:14,137 ----------------------------------------------------------------------------------------------------\n",
            "2022-11-20 01:06:14,140 EPOCH 1 done: loss 0.3944 - lr 0.030000\n"
          ]
        },
        {
          "output_type": "stream",
          "name": "stderr",
          "text": [
            "100%|██████████| 11/11 [00:15<00:00,  1.38s/it]"
          ]
        },
        {
          "output_type": "stream",
          "name": "stdout",
          "text": [
            "2022-11-20 01:06:29,363 Evaluating as a multi-label problem: False\n",
            "2022-11-20 01:06:29,378 DEV : loss 0.025084296241402626 - f1-score (micro avg)  0.9751\n",
            "2022-11-20 01:06:29,392 BAD EPOCHS (no improvement): 0\n",
            "2022-11-20 01:06:29,400 saving best model\n"
          ]
        },
        {
          "output_type": "stream",
          "name": "stderr",
          "text": [
            "\n"
          ]
        },
        {
          "output_type": "stream",
          "name": "stdout",
          "text": [
            "2022-11-20 01:06:30,813 ----------------------------------------------------------------------------------------------------\n",
            "2022-11-20 01:07:01,073 epoch 2 - iter 7/72 - loss 0.21121881 - samples/sec: 7.41 - lr: 0.030000\n",
            "2022-11-20 01:07:33,246 epoch 2 - iter 14/72 - loss 0.18588115 - samples/sec: 6.96 - lr: 0.030000\n",
            "2022-11-20 01:08:02,005 epoch 2 - iter 21/72 - loss 0.17962039 - samples/sec: 7.79 - lr: 0.030000\n",
            "2022-11-20 01:08:31,206 epoch 2 - iter 28/72 - loss 0.16611089 - samples/sec: 7.67 - lr: 0.030000\n",
            "2022-11-20 01:08:59,271 epoch 2 - iter 35/72 - loss 0.16218175 - samples/sec: 7.98 - lr: 0.030000\n",
            "2022-11-20 01:09:29,278 epoch 2 - iter 42/72 - loss 0.15794937 - samples/sec: 7.47 - lr: 0.030000\n",
            "2022-11-20 01:10:01,150 epoch 2 - iter 49/72 - loss 0.15302551 - samples/sec: 7.03 - lr: 0.030000\n",
            "2022-11-20 01:10:30,679 epoch 2 - iter 56/72 - loss 0.15001708 - samples/sec: 7.59 - lr: 0.030000\n",
            "2022-11-20 01:10:59,681 epoch 2 - iter 63/72 - loss 0.14791241 - samples/sec: 7.73 - lr: 0.030000\n",
            "2022-11-20 01:11:28,527 epoch 2 - iter 70/72 - loss 0.14390950 - samples/sec: 7.77 - lr: 0.030000\n",
            "2022-11-20 01:11:36,163 ----------------------------------------------------------------------------------------------------\n",
            "2022-11-20 01:11:36,166 EPOCH 2 done: loss 0.1436 - lr 0.030000\n"
          ]
        },
        {
          "output_type": "stream",
          "name": "stderr",
          "text": [
            "100%|██████████| 11/11 [00:17<00:00,  1.60s/it]"
          ]
        },
        {
          "output_type": "stream",
          "name": "stdout",
          "text": [
            "2022-11-20 01:11:53,802 Evaluating as a multi-label problem: False\n",
            "2022-11-20 01:11:53,815 DEV : loss 0.04027038812637329 - f1-score (micro avg)  0.9915\n",
            "2022-11-20 01:11:53,828 BAD EPOCHS (no improvement): 0\n",
            "2022-11-20 01:11:53,834 saving best model\n"
          ]
        },
        {
          "output_type": "stream",
          "name": "stderr",
          "text": [
            "\n"
          ]
        },
        {
          "output_type": "stream",
          "name": "stdout",
          "text": [
            "2022-11-20 01:11:55,226 ----------------------------------------------------------------------------------------------------\n",
            "2022-11-20 01:12:24,549 epoch 3 - iter 7/72 - loss 0.11545387 - samples/sec: 7.64 - lr: 0.030000\n",
            "2022-11-20 01:12:53,223 epoch 3 - iter 14/72 - loss 0.12215898 - samples/sec: 7.81 - lr: 0.030000\n",
            "2022-11-20 01:13:19,704 epoch 3 - iter 21/72 - loss 0.11794261 - samples/sec: 8.46 - lr: 0.030000\n",
            "2022-11-20 01:13:51,499 epoch 3 - iter 28/72 - loss 0.11990496 - samples/sec: 7.05 - lr: 0.030000\n",
            "2022-11-20 01:14:19,962 epoch 3 - iter 35/72 - loss 0.12185490 - samples/sec: 7.87 - lr: 0.030000\n",
            "2022-11-20 01:14:48,771 epoch 3 - iter 42/72 - loss 0.11935648 - samples/sec: 7.78 - lr: 0.030000\n",
            "2022-11-20 01:15:17,820 epoch 3 - iter 49/72 - loss 0.11851812 - samples/sec: 7.71 - lr: 0.030000\n",
            "2022-11-20 01:15:46,766 epoch 3 - iter 56/72 - loss 0.11821583 - samples/sec: 7.74 - lr: 0.030000\n",
            "2022-11-20 01:16:18,926 epoch 3 - iter 63/72 - loss 0.11641267 - samples/sec: 6.97 - lr: 0.030000\n",
            "2022-11-20 01:16:47,130 epoch 3 - iter 70/72 - loss 0.11512073 - samples/sec: 7.94 - lr: 0.030000\n",
            "2022-11-20 01:16:55,542 ----------------------------------------------------------------------------------------------------\n",
            "2022-11-20 01:16:55,545 EPOCH 3 done: loss 0.1150 - lr 0.030000\n"
          ]
        },
        {
          "output_type": "stream",
          "name": "stderr",
          "text": [
            "100%|██████████| 11/11 [00:15<00:00,  1.41s/it]"
          ]
        },
        {
          "output_type": "stream",
          "name": "stdout",
          "text": [
            "2022-11-20 01:17:11,110 Evaluating as a multi-label problem: False\n",
            "2022-11-20 01:17:11,126 DEV : loss 0.012842731550335884 - f1-score (micro avg)  0.9972\n",
            "2022-11-20 01:17:11,140 BAD EPOCHS (no improvement): 0\n",
            "2022-11-20 01:17:11,146 saving best model\n"
          ]
        },
        {
          "output_type": "stream",
          "name": "stderr",
          "text": [
            "\n"
          ]
        },
        {
          "output_type": "stream",
          "name": "stdout",
          "text": [
            "2022-11-20 01:17:12,456 ----------------------------------------------------------------------------------------------------\n",
            "2022-11-20 01:17:42,332 epoch 4 - iter 7/72 - loss 0.10601598 - samples/sec: 7.50 - lr: 0.030000\n",
            "2022-11-20 01:18:14,038 epoch 4 - iter 14/72 - loss 0.10775404 - samples/sec: 7.07 - lr: 0.030000\n",
            "2022-11-20 01:18:42,995 epoch 4 - iter 21/72 - loss 0.11759967 - samples/sec: 7.74 - lr: 0.030000\n",
            "2022-11-20 01:19:12,282 epoch 4 - iter 28/72 - loss 0.11565171 - samples/sec: 7.65 - lr: 0.030000\n",
            "2022-11-20 01:19:40,586 epoch 4 - iter 35/72 - loss 0.11245621 - samples/sec: 7.92 - lr: 0.030000\n",
            "2022-11-20 01:20:12,036 epoch 4 - iter 42/72 - loss 0.10906991 - samples/sec: 7.12 - lr: 0.030000\n",
            "2022-11-20 01:20:42,753 epoch 4 - iter 49/72 - loss 0.10709857 - samples/sec: 7.29 - lr: 0.030000\n",
            "2022-11-20 01:21:11,186 epoch 4 - iter 56/72 - loss 0.10567210 - samples/sec: 7.88 - lr: 0.030000\n",
            "2022-11-20 01:21:39,298 epoch 4 - iter 63/72 - loss 0.10501627 - samples/sec: 7.97 - lr: 0.030000\n",
            "2022-11-20 01:22:08,749 epoch 4 - iter 70/72 - loss 0.10299564 - samples/sec: 7.61 - lr: 0.030000\n",
            "2022-11-20 01:22:17,713 ----------------------------------------------------------------------------------------------------\n",
            "2022-11-20 01:22:17,716 EPOCH 4 done: loss 0.1020 - lr 0.030000\n"
          ]
        },
        {
          "output_type": "stream",
          "name": "stderr",
          "text": [
            "100%|██████████| 11/11 [00:15<00:00,  1.39s/it]"
          ]
        },
        {
          "output_type": "stream",
          "name": "stdout",
          "text": [
            "2022-11-20 01:22:32,994 Evaluating as a multi-label problem: False\n",
            "2022-11-20 01:22:33,009 DEV : loss 0.011918065138161182 - f1-score (micro avg)  0.9957\n",
            "2022-11-20 01:22:33,022 BAD EPOCHS (no improvement): 1\n",
            "2022-11-20 01:22:33,029 ----------------------------------------------------------------------------------------------------\n"
          ]
        },
        {
          "output_type": "stream",
          "name": "stderr",
          "text": [
            "\n"
          ]
        },
        {
          "output_type": "stream",
          "name": "stdout",
          "text": [
            "2022-11-20 01:23:02,778 epoch 5 - iter 7/72 - loss 0.10865950 - samples/sec: 7.53 - lr: 0.030000\n",
            "2022-11-20 01:23:32,338 epoch 5 - iter 14/72 - loss 0.10699219 - samples/sec: 7.58 - lr: 0.030000\n",
            "2022-11-20 01:24:00,937 epoch 5 - iter 21/72 - loss 0.09661082 - samples/sec: 7.83 - lr: 0.030000\n",
            "2022-11-20 01:24:32,546 epoch 5 - iter 28/72 - loss 0.09408906 - samples/sec: 7.09 - lr: 0.030000\n",
            "2022-11-20 01:25:01,297 epoch 5 - iter 35/72 - loss 0.09359377 - samples/sec: 7.79 - lr: 0.030000\n",
            "2022-11-20 01:25:28,774 epoch 5 - iter 42/72 - loss 0.09258624 - samples/sec: 8.15 - lr: 0.030000\n",
            "2022-11-20 01:25:58,269 epoch 5 - iter 49/72 - loss 0.09371026 - samples/sec: 7.60 - lr: 0.030000\n",
            "2022-11-20 01:26:29,398 epoch 5 - iter 56/72 - loss 0.09257056 - samples/sec: 7.20 - lr: 0.030000\n",
            "2022-11-20 01:26:58,009 epoch 5 - iter 63/72 - loss 0.09305311 - samples/sec: 7.83 - lr: 0.030000\n",
            "2022-11-20 01:27:26,585 epoch 5 - iter 70/72 - loss 0.09302656 - samples/sec: 7.84 - lr: 0.030000\n",
            "2022-11-20 01:27:34,829 ----------------------------------------------------------------------------------------------------\n",
            "2022-11-20 01:27:34,835 EPOCH 5 done: loss 0.0929 - lr 0.030000\n"
          ]
        },
        {
          "output_type": "stream",
          "name": "stderr",
          "text": [
            "100%|██████████| 11/11 [00:15<00:00,  1.38s/it]"
          ]
        },
        {
          "output_type": "stream",
          "name": "stdout",
          "text": [
            "2022-11-20 01:27:50,004 Evaluating as a multi-label problem: False\n",
            "2022-11-20 01:27:50,018 DEV : loss 0.010298668406903744 - f1-score (micro avg)  0.9957\n",
            "2022-11-20 01:27:50,031 BAD EPOCHS (no improvement): 2\n",
            "2022-11-20 01:27:50,037 ----------------------------------------------------------------------------------------------------\n"
          ]
        },
        {
          "output_type": "stream",
          "name": "stderr",
          "text": [
            "\n"
          ]
        },
        {
          "output_type": "stream",
          "name": "stdout",
          "text": [
            "2022-11-20 01:28:19,318 epoch 6 - iter 7/72 - loss 0.09427899 - samples/sec: 7.65 - lr: 0.030000\n",
            "2022-11-20 01:28:49,818 epoch 6 - iter 14/72 - loss 0.09665998 - samples/sec: 7.35 - lr: 0.030000\n",
            "2022-11-20 01:29:17,560 epoch 6 - iter 21/72 - loss 0.09020763 - samples/sec: 8.08 - lr: 0.030000\n",
            "2022-11-20 01:29:46,418 epoch 6 - iter 28/72 - loss 0.09001593 - samples/sec: 7.76 - lr: 0.030000\n",
            "2022-11-20 01:30:14,855 epoch 6 - iter 35/72 - loss 0.08790129 - samples/sec: 7.88 - lr: 0.030000\n",
            "2022-11-20 01:30:44,508 epoch 6 - iter 42/72 - loss 0.08844266 - samples/sec: 7.56 - lr: 0.030000\n",
            "2022-11-20 01:31:11,710 epoch 6 - iter 49/72 - loss 0.08816200 - samples/sec: 8.24 - lr: 0.030000\n",
            "2022-11-20 01:31:39,938 epoch 6 - iter 56/72 - loss 0.08911942 - samples/sec: 7.94 - lr: 0.030000\n",
            "2022-11-20 01:32:07,220 epoch 6 - iter 63/72 - loss 0.08789288 - samples/sec: 8.21 - lr: 0.030000\n",
            "2022-11-20 01:32:35,754 epoch 6 - iter 70/72 - loss 0.08709511 - samples/sec: 7.85 - lr: 0.030000\n",
            "2022-11-20 01:32:43,350 ----------------------------------------------------------------------------------------------------\n",
            "2022-11-20 01:32:43,353 EPOCH 6 done: loss 0.0876 - lr 0.030000\n"
          ]
        },
        {
          "output_type": "stream",
          "name": "stderr",
          "text": [
            "100%|██████████| 11/11 [00:17<00:00,  1.60s/it]"
          ]
        },
        {
          "output_type": "stream",
          "name": "stdout",
          "text": [
            "2022-11-20 01:33:00,984 Evaluating as a multi-label problem: False\n",
            "2022-11-20 01:33:01,004 DEV : loss 0.007402947172522545 - f1-score (micro avg)  0.9943\n",
            "2022-11-20 01:33:01,019 BAD EPOCHS (no improvement): 3\n",
            "2022-11-20 01:33:01,027 ----------------------------------------------------------------------------------------------------\n"
          ]
        },
        {
          "output_type": "stream",
          "name": "stderr",
          "text": [
            "\n"
          ]
        },
        {
          "output_type": "stream",
          "name": "stdout",
          "text": [
            "2022-11-20 01:33:29,691 epoch 7 - iter 7/72 - loss 0.09161832 - samples/sec: 7.82 - lr: 0.030000\n",
            "2022-11-20 01:33:58,510 epoch 7 - iter 14/72 - loss 0.09172913 - samples/sec: 7.77 - lr: 0.030000\n",
            "2022-11-20 01:34:26,401 epoch 7 - iter 21/72 - loss 0.08441389 - samples/sec: 8.03 - lr: 0.030000\n",
            "2022-11-20 01:34:52,634 epoch 7 - iter 28/72 - loss 0.08428682 - samples/sec: 8.54 - lr: 0.030000\n",
            "2022-11-20 01:35:23,769 epoch 7 - iter 35/72 - loss 0.08341682 - samples/sec: 7.20 - lr: 0.030000\n",
            "2022-11-20 01:35:52,342 epoch 7 - iter 42/72 - loss 0.08588150 - samples/sec: 7.84 - lr: 0.030000\n",
            "2022-11-20 01:36:20,655 epoch 7 - iter 49/72 - loss 0.08553049 - samples/sec: 7.91 - lr: 0.030000\n",
            "2022-11-20 01:36:48,665 epoch 7 - iter 56/72 - loss 0.08558922 - samples/sec: 8.00 - lr: 0.030000\n",
            "2022-11-20 01:37:19,401 epoch 7 - iter 63/72 - loss 0.08444318 - samples/sec: 7.29 - lr: 0.030000\n",
            "2022-11-20 01:37:47,390 epoch 7 - iter 70/72 - loss 0.08316462 - samples/sec: 8.00 - lr: 0.030000\n",
            "2022-11-20 01:37:55,100 ----------------------------------------------------------------------------------------------------\n",
            "2022-11-20 01:37:55,105 EPOCH 7 done: loss 0.0836 - lr 0.030000\n"
          ]
        },
        {
          "output_type": "stream",
          "name": "stderr",
          "text": [
            "100%|██████████| 11/11 [00:14<00:00,  1.36s/it]"
          ]
        },
        {
          "output_type": "stream",
          "name": "stdout",
          "text": [
            "2022-11-20 01:38:10,063 Evaluating as a multi-label problem: False\n",
            "2022-11-20 01:38:10,078 DEV : loss 0.0072450484149158 - f1-score (micro avg)  0.9943\n",
            "2022-11-20 01:38:10,092 Epoch     7: reducing learning rate of group 0 to 1.5000e-02.\n",
            "2022-11-20 01:38:10,095 BAD EPOCHS (no improvement): 4\n",
            "2022-11-20 01:38:10,103 ----------------------------------------------------------------------------------------------------\n"
          ]
        },
        {
          "output_type": "stream",
          "name": "stderr",
          "text": [
            "\n"
          ]
        },
        {
          "output_type": "stream",
          "name": "stdout",
          "text": [
            "2022-11-20 01:38:38,733 epoch 8 - iter 7/72 - loss 0.07411892 - samples/sec: 7.83 - lr: 0.015000\n",
            "2022-11-20 01:39:06,249 epoch 8 - iter 14/72 - loss 0.08028174 - samples/sec: 8.14 - lr: 0.015000\n",
            "2022-11-20 01:39:37,378 epoch 8 - iter 21/72 - loss 0.07480811 - samples/sec: 7.20 - lr: 0.015000\n",
            "2022-11-20 01:40:05,805 epoch 8 - iter 28/72 - loss 0.07916156 - samples/sec: 7.88 - lr: 0.015000\n",
            "2022-11-20 01:40:34,088 epoch 8 - iter 35/72 - loss 0.07885374 - samples/sec: 7.92 - lr: 0.015000\n",
            "2022-11-20 01:41:00,432 epoch 8 - iter 42/72 - loss 0.08031084 - samples/sec: 8.50 - lr: 0.015000\n",
            "2022-11-20 01:41:31,703 epoch 8 - iter 49/72 - loss 0.08071087 - samples/sec: 7.16 - lr: 0.015000\n",
            "2022-11-20 01:42:00,281 epoch 8 - iter 56/72 - loss 0.07959979 - samples/sec: 7.84 - lr: 0.015000\n",
            "2022-11-20 01:42:28,559 epoch 8 - iter 63/72 - loss 0.07919986 - samples/sec: 7.92 - lr: 0.015000\n",
            "2022-11-20 01:42:56,192 epoch 8 - iter 70/72 - loss 0.07780906 - samples/sec: 8.11 - lr: 0.015000\n",
            "2022-11-20 01:43:04,418 ----------------------------------------------------------------------------------------------------\n",
            "2022-11-20 01:43:04,421 EPOCH 8 done: loss 0.0775 - lr 0.015000\n"
          ]
        },
        {
          "output_type": "stream",
          "name": "stderr",
          "text": [
            "100%|██████████| 11/11 [00:14<00:00,  1.36s/it]"
          ]
        },
        {
          "output_type": "stream",
          "name": "stdout",
          "text": [
            "2022-11-20 01:43:19,422 Evaluating as a multi-label problem: False\n",
            "2022-11-20 01:43:19,435 DEV : loss 0.005097406450659037 - f1-score (micro avg)  0.9943\n",
            "2022-11-20 01:43:19,448 BAD EPOCHS (no improvement): 1\n",
            "2022-11-20 01:43:19,455 ----------------------------------------------------------------------------------------------------\n"
          ]
        },
        {
          "output_type": "stream",
          "name": "stderr",
          "text": [
            "\n"
          ]
        },
        {
          "output_type": "stream",
          "name": "stdout",
          "text": [
            "2022-11-20 01:43:50,222 epoch 9 - iter 7/72 - loss 0.08555978 - samples/sec: 7.28 - lr: 0.015000\n",
            "2022-11-20 01:44:19,256 epoch 9 - iter 14/72 - loss 0.08583214 - samples/sec: 7.72 - lr: 0.015000\n",
            "2022-11-20 01:44:47,298 epoch 9 - iter 21/72 - loss 0.08605680 - samples/sec: 7.99 - lr: 0.015000\n",
            "2022-11-20 01:45:15,297 epoch 9 - iter 28/72 - loss 0.08352295 - samples/sec: 8.00 - lr: 0.015000\n",
            "2022-11-20 01:45:45,814 epoch 9 - iter 35/72 - loss 0.08021786 - samples/sec: 7.34 - lr: 0.015000\n",
            "2022-11-20 01:46:14,357 epoch 9 - iter 42/72 - loss 0.07778231 - samples/sec: 7.85 - lr: 0.015000\n",
            "2022-11-20 01:46:42,823 epoch 9 - iter 49/72 - loss 0.07894335 - samples/sec: 7.87 - lr: 0.015000\n",
            "2022-11-20 01:47:10,730 epoch 9 - iter 56/72 - loss 0.07772552 - samples/sec: 8.03 - lr: 0.015000\n",
            "2022-11-20 01:47:39,122 epoch 9 - iter 63/72 - loss 0.07642842 - samples/sec: 7.89 - lr: 0.015000\n",
            "2022-11-20 01:48:09,654 epoch 9 - iter 70/72 - loss 0.07518606 - samples/sec: 7.34 - lr: 0.015000\n",
            "2022-11-20 01:48:16,861 ----------------------------------------------------------------------------------------------------\n",
            "2022-11-20 01:48:16,864 EPOCH 9 done: loss 0.0754 - lr 0.015000\n"
          ]
        },
        {
          "output_type": "stream",
          "name": "stderr",
          "text": [
            "100%|██████████| 11/11 [00:15<00:00,  1.38s/it]"
          ]
        },
        {
          "output_type": "stream",
          "name": "stdout",
          "text": [
            "2022-11-20 01:48:32,090 Evaluating as a multi-label problem: False\n",
            "2022-11-20 01:48:32,106 DEV : loss 0.004314224235713482 - f1-score (micro avg)  0.9943\n",
            "2022-11-20 01:48:32,120 BAD EPOCHS (no improvement): 2\n",
            "2022-11-20 01:48:32,127 ----------------------------------------------------------------------------------------------------\n"
          ]
        },
        {
          "output_type": "stream",
          "name": "stderr",
          "text": [
            "\n"
          ]
        },
        {
          "output_type": "stream",
          "name": "stdout",
          "text": [
            "2022-11-20 01:49:00,523 epoch 10 - iter 7/72 - loss 0.06342978 - samples/sec: 7.89 - lr: 0.015000\n",
            "2022-11-20 01:49:28,125 epoch 10 - iter 14/72 - loss 0.06608794 - samples/sec: 8.12 - lr: 0.015000\n",
            "2022-11-20 01:49:56,927 epoch 10 - iter 21/72 - loss 0.07233314 - samples/sec: 7.78 - lr: 0.015000\n",
            "2022-11-20 01:50:27,536 epoch 10 - iter 28/72 - loss 0.07298733 - samples/sec: 7.32 - lr: 0.015000\n",
            "2022-11-20 01:50:55,205 epoch 10 - iter 35/72 - loss 0.07018459 - samples/sec: 8.10 - lr: 0.015000\n",
            "2022-11-20 01:51:23,710 epoch 10 - iter 42/72 - loss 0.06961438 - samples/sec: 7.86 - lr: 0.015000\n",
            "2022-11-20 01:51:52,413 epoch 10 - iter 49/72 - loss 0.06895767 - samples/sec: 7.81 - lr: 0.015000\n",
            "2022-11-20 01:52:22,898 epoch 10 - iter 56/72 - loss 0.06996305 - samples/sec: 7.35 - lr: 0.015000\n",
            "2022-11-20 01:52:51,344 epoch 10 - iter 63/72 - loss 0.07000184 - samples/sec: 7.88 - lr: 0.015000\n",
            "2022-11-20 01:53:19,119 epoch 10 - iter 70/72 - loss 0.07118345 - samples/sec: 8.07 - lr: 0.015000\n",
            "2022-11-20 01:53:27,132 ----------------------------------------------------------------------------------------------------\n",
            "2022-11-20 01:53:27,136 EPOCH 10 done: loss 0.0716 - lr 0.015000\n"
          ]
        },
        {
          "output_type": "stream",
          "name": "stderr",
          "text": [
            "100%|██████████| 11/11 [00:14<00:00,  1.35s/it]"
          ]
        },
        {
          "output_type": "stream",
          "name": "stdout",
          "text": [
            "2022-11-20 01:53:42,033 Evaluating as a multi-label problem: False\n",
            "2022-11-20 01:53:42,047 DEV : loss 0.0035350830294191837 - f1-score (micro avg)  0.9972\n",
            "2022-11-20 01:53:42,061 BAD EPOCHS (no improvement): 0\n"
          ]
        },
        {
          "output_type": "stream",
          "name": "stderr",
          "text": [
            "\n"
          ]
        },
        {
          "output_type": "stream",
          "name": "stdout",
          "text": [
            "2022-11-20 01:53:43,343 ----------------------------------------------------------------------------------------------------\n",
            "2022-11-20 01:53:43,346 loading file /content/drive/MyDrive/eBay_ML_Challenge_Dataset_2022/flair/flair-ner-new-ebay/best-model.pt\n",
            "2022-11-20 01:53:44,277 SequenceTagger predicts: Dictionary with 11 tags: O, S-BRAND, B-BRAND, E-BRAND, I-BRAND, S-, B-, E-, I-, <START>, <STOP>\n"
          ]
        },
        {
          "output_type": "stream",
          "name": "stderr",
          "text": [
            "100%|██████████| 11/11 [00:15<00:00,  1.42s/it]"
          ]
        },
        {
          "output_type": "stream",
          "name": "stdout",
          "text": [
            "2022-11-20 01:54:00,049 Evaluating as a multi-label problem: False\n",
            "2022-11-20 01:54:00,064 0.4867\t0.4741\t0.4803\t0.3161\n",
            "2022-11-20 01:54:00,068 \n",
            "Results:\n",
            "- F-score (micro) 0.4803\n",
            "- F-score (macro) 0.2405\n",
            "- Accuracy 0.3161\n",
            "\n",
            "By class:\n",
            "              precision    recall  f1-score   support\n",
            "\n",
            "       BRAND     0.4867    0.4755    0.4810       347\n",
            "                 0.0000    0.0000    0.0000         1\n",
            "\n",
            "   micro avg     0.4867    0.4741    0.4803       348\n",
            "   macro avg     0.2434    0.2378    0.2405       348\n",
            "weighted avg     0.4853    0.4741    0.4797       348\n",
            "\n",
            "2022-11-20 01:54:00,070 ----------------------------------------------------------------------------------------------------\n"
          ]
        },
        {
          "output_type": "stream",
          "name": "stderr",
          "text": [
            "\n"
          ]
        },
        {
          "output_type": "execute_result",
          "data": {
            "text/plain": [
              "{'test_score': 0.4803493449781659,\n",
              " 'dev_score_history': [0.9751098096632503,\n",
              "  0.9915014164305949,\n",
              "  0.9971509971509972,\n",
              "  0.995732574679943,\n",
              "  0.995732574679943,\n",
              "  0.9943019943019943,\n",
              "  0.9943019943019943,\n",
              "  0.9943019943019943,\n",
              "  0.9943019943019943,\n",
              "  0.9971509971509972],\n",
              " 'train_loss_history': [0.394386496522781,\n",
              "  0.1435725473143133,\n",
              "  0.11496818679086156,\n",
              "  0.10203543550998308,\n",
              "  0.09287683233644167,\n",
              "  0.08762386476833907,\n",
              "  0.08361067480465925,\n",
              "  0.07749546449697724,\n",
              "  0.07541345081724929,\n",
              "  0.07160661974405932],\n",
              " 'dev_loss_history': [0.025084296241402626,\n",
              "  0.04027038812637329,\n",
              "  0.012842731550335884,\n",
              "  0.011918065138161182,\n",
              "  0.010298668406903744,\n",
              "  0.007402947172522545,\n",
              "  0.0072450484149158,\n",
              "  0.005097406450659037,\n",
              "  0.004314224235713482,\n",
              "  0.0035350830294191837]}"
            ]
          },
          "metadata": {},
          "execution_count": 59
        }
      ]
    },
    {
      "cell_type": "code",
      "source": [
        "# Testing the model\n",
        "\n",
        "texts = [\n",
        "'LOUIS VUITTON M40096 Handbag Priscilla Multi-color canvas Multi-color canvas',\n",
        "'LOUIS VUITTON Petit Noe Drawstring Shoulder Bag Monogram Leather M42226 39SD442',\n",
        "'GUCCI Bamboo 2Way Shoulder Bag Leather Brown Auth fm1002',\n",
        "'Gucci Sherry line PVC Leather Clutch bag Brown From Japan A128',\n",
        "'FOSSIL GREEN PLAID CANVAS ESTATE CVS BRIEFCASE , CROSS BODY , HAND+UTILITY BAG'\n",
        "'Prada Saffiano Double Zip Tote',\n",
        "'Chanel Diamond CC Double Zip Clutch with Chain Quilted Lambskin',\n",
        "\"Valentino by Mario Valentino MANDOLINO Backpack Women 's Daypack Metallic\",\n",
        "\"New Metal with PU Leather Shoulder Bag Chain Strap Replacement for Purse Handbag\",\n",
        "\"Michael Kors Ginny Medium Leather Messenger Shoulder / Crossbody Bag in Denim Blue\",\n",
        "\"authentic gucci crossbody bag preowned vintage\",\n",
        "\"Used Louis Vuitton t120529 Shoulder bag Saint Cloud GM M51242\"\n",
        "]\n",
        "\n",
        "\n",
        "trained_model_path = '/content/drive/MyDrive/eBay_ML_Challenge_Dataset_2022/flair/flair-ner-new-ebay/best-model.pt'\n",
        "flair_model =  SequenceTagger.load(trained_model_path)\n",
        "#flair_model = SequenceTagger.load('/content/flair-ner-base-transf/final-model.pt')\n",
        "for t in texts : \n",
        "  # create example sentence\n",
        "  sentence = Sentence(t)\n",
        "  # predict the tags\n",
        "  flair_model.predict(sentence)\n",
        "  print(sentence.to_tagged_string())"
      ],
      "metadata": {
        "colab": {
          "base_uri": "https://localhost:8080/"
        },
        "id": "3wSMWMkGj9VA",
        "outputId": "75e97c37-a7f6-420d-cc28-98ca4153d07c"
      },
      "execution_count": null,
      "outputs": [
        {
          "output_type": "stream",
          "name": "stdout",
          "text": [
            "2022-11-20 02:48:33,830 loading file /content/drive/MyDrive/eBay_ML_Challenge_Dataset_2022/flair/flair-ner-new-ebay/best-model.pt\n",
            "2022-11-20 02:48:34,615 SequenceTagger predicts: Dictionary with 11 tags: O, S-BRAND, B-BRAND, E-BRAND, I-BRAND, S-, B-, E-, I-, <START>, <STOP>\n",
            "Sentence: \"LOUIS VUITTON M40096 Handbag Priscilla Multi-color canvas Multi-color canvas\" → [\"LOUIS\"/BRAND]\n",
            "Sentence: \"LOUIS VUITTON Petit Noe Drawstring Shoulder Bag Monogram Leather M42226 39SD442\" → [\"LOUIS\"/BRAND]\n",
            "Sentence: \"GUCCI Bamboo 2Way Shoulder Bag Leather Brown Auth fm1002\" → [\"GUCCI\"/BRAND]\n",
            "Sentence: \"Gucci Sherry line PVC Leather Clutch bag Brown From Japan A128\" → [\"Gucci\"/BRAND]\n",
            "Sentence: \"FOSSIL GREEN PLAID CANVAS ESTATE CVS BRIEFCASE , CROSS BODY , HAND + UTILITY BAGPrada Saffiano Double Zip Tote\"\n",
            "Sentence: \"Chanel Diamond CC Double Zip Clutch with Chain Quilted Lambskin\" → [\"Chanel\"/BRAND]\n",
            "Sentence: \"Valentino by Mario Valentino MANDOLINO Backpack Women ' s Daypack Metallic\" → [\"Valentino\"/BRAND, \"Mario\"/BRAND]\n",
            "Sentence: \"New Metal with PU Leather Shoulder Bag Chain Strap Replacement for Purse Handbag\"\n",
            "Sentence: \"Michael Kors Ginny Medium Leather Messenger Shoulder / Crossbody Bag in Denim Blue\" → [\"Michael\"/BRAND]\n",
            "Sentence: \"authentic gucci crossbody bag preowned vintage\" → [\"gucci\"/BRAND]\n",
            "Sentence: \"Used Louis Vuitton t120529 Shoulder bag Saint Cloud GM M51242\" → [\"Louis\"/BRAND]\n"
          ]
        }
      ]
    },
    {
      "cell_type": "code",
      "source": [],
      "metadata": {
        "id": "eR8NCB-qxwMe"
      },
      "execution_count": null,
      "outputs": []
    }
  ]
}